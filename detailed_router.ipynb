{
  "nbformat": 4,
  "nbformat_minor": 0,
  "metadata": {
    "colab": {
      "provenance": [],
      "authorship_tag": "ABX9TyNJRCHzjZ9FtovR8DPrkV/i",
      "include_colab_link": true
    },
    "kernelspec": {
      "name": "python3",
      "display_name": "Python 3"
    },
    "language_info": {
      "name": "python"
    }
  },
  "cells": [
    {
      "cell_type": "markdown",
      "metadata": {
        "id": "view-in-github",
        "colab_type": "text"
      },
      "source": [
        "<a href=\"https://colab.research.google.com/github/NMJ0/Detailed-Router/blob/main/detailed_router.ipynb\" target=\"_parent\"><img src=\"https://colab.research.google.com/assets/colab-badge.svg\" alt=\"Open In Colab\"/></a>"
      ]
    },
    {
      "cell_type": "markdown",
      "source": [
        "**Required Installations and imports**"
      ],
      "metadata": {
        "id": "tgz-i_rQKDxM"
      }
    },
    {
      "cell_type": "code",
      "source": [
        "!pip install --break-system-packages https://raw.githubusercontent.com/srini229/EE5333_tutorials/master/parser/LEFDEFParser-0.1-cp311-cp311-linux_x86_64.whl\n",
        "!wget https://raw.githubusercontent.com/srini229/EE5333_tutorials/master/project/def/c17.def\n",
        "!wget https://raw.githubusercontent.com/srini229/EE5333_tutorials/refs/heads/master/project/lef/sky130.lef"
      ],
      "metadata": {
        "id": "95g7b1UwJbPe"
      },
      "execution_count": null,
      "outputs": []
    },
    {
      "cell_type": "code",
      "source": [
        "import requests\n",
        "import LEFDEFParser\n",
        "from LEFDEFParser import Rect\n"
      ],
      "metadata": {
        "id": "3vyF1rWUJVcn"
      },
      "execution_count": 31,
      "outputs": []
    },
    {
      "cell_type": "markdown",
      "source": [
        "**Parser for global routing solutions**.\\\n",
        "Returns a dictionary with net names as keys and their global routing solutions as values"
      ],
      "metadata": {
        "id": "TNovxIGCIa5q"
      }
    },
    {
      "cell_type": "code",
      "source": [
        "url = \"https://raw.githubusercontent.com/srini229/EE5333_tutorials/refs/heads/master/project/gr/c17.guide\"\n",
        "response = requests.get(url)\n",
        "lines = response.text.splitlines()\n",
        "global_route={}\n",
        "n=len(lines)\n",
        "m=0\n",
        "while True:\n",
        "  if m>=n-1:\n",
        "    break\n",
        "  name=lines[m]\n",
        "  global_route[name]=[]\n",
        "  m+=1\n",
        "  while True:\n",
        "    if lines[m]==')':\n",
        "      m+=1\n",
        "      break\n",
        "    if lines[m]=='(':\n",
        "      m+=1\n",
        "    x1,y1,x2,y2,layer=map(str,lines[m].split())\n",
        "    global_route[name].append({layer:[[int(x1),int(y1)],[int(x2),int(y2)]]})\n",
        "    m+=1\n",
        "print(global_route)\n",
        "#global_route"
      ],
      "metadata": {
        "colab": {
          "base_uri": "https://localhost:8080/"
        },
        "id": "idUbihDs-jpt",
        "outputId": "c128e81e-9323-41af-fdd4-20e6e3bd8490"
      },
      "execution_count": 14,
      "outputs": [
        {
          "output_type": "stream",
          "name": "stdout",
          "text": [
            "{'N1': [{'li1': [[13800, 20700], [20700, 27600]]}, {'met1': [[13800, 20700], [20700, 27600]]}], 'N1_d': [{'met2': [[0, 20700], [6900, 34500]]}, {'met1': [[0, 27600], [6900, 34500]]}, {'met1': [[0, 27600], [13800, 34500]]}, {'li1': [[6900, 27600], [13800, 34500]]}, {'met2': [[0, 20700], [6900, 41420]]}], 'N2': [{'li1': [[13800, 20700], [20700, 27600]]}, {'met1': [[13800, 20700], [20700, 27600]]}], 'N22': [{'li1': [[6900, 6900], [13800, 13800]]}, {'met1': [[6900, 6900], [13800, 13800]]}, {'met2': [[6900, 0], [13800, 13800]]}], 'N22_d': [{'li1': [[13800, 20700], [20700, 27600]]}, {'met1': [[13800, 20700], [20700, 27600]]}, {'met2': [[13800, 6900], [20700, 27600]]}, {'met1': [[13800, 6900], [20700, 13800]]}, {'li1': [[13800, 6900], [20700, 13800]]}], 'N23': [{'li1': [[20700, 6900], [30700, 13800]]}, {'met1': [[20700, 6900], [30700, 13800]]}, {'met2': [[20700, 0], [30700, 13800]]}], 'N23_d': [{'li1': [[13800, 13800], [20700, 20700]]}, {'met1': [[13800, 13800], [20700, 20700]]}, {'met2': [[13800, 13800], [20700, 27600]]}, {'met1': [[13800, 20700], [20700, 27600]]}, {'met1': [[13800, 20700], [30700, 27600]]}, {'li1': [[20700, 20700], [30700, 27600]]}], 'N2_d': [{'met2': [[13800, 27600], [20700, 41420]]}, {'met1': [[13800, 27600], [20700, 34500]]}, {'li1': [[13800, 27600], [20700, 34500]]}], 'N3': [{'li1': [[13800, 13800], [20700, 20700]]}, {'met1': [[13800, 13800], [20700, 20700]]}, {'met2': [[13800, 13800], [20700, 27600]]}, {'met1': [[13800, 20700], [20700, 27600]]}, {'li1': [[13800, 20700], [20700, 27600]]}], 'N3_d': [{'met2': [[20700, 27600], [30700, 41420]]}, {'met1': [[20700, 27600], [30700, 34500]]}, {'li1': [[20700, 27600], [30700, 34500]]}], 'N6': [{'li1': [[13800, 13800], [20700, 20700]]}, {'met1': [[13800, 13800], [20700, 20700]]}, {'met2': [[13800, 13800], [20700, 27600]]}, {'met1': [[13800, 20700], [20700, 27600]]}, {'li1': [[13800, 20700], [20700, 27600]]}], 'N6_d': [{'li1': [[6900, 13800], [13800, 20700]]}, {'met1': [[6900, 13800], [20700, 20700]]}, {'met1': [[13800, 13800], [20700, 20700]]}, {'met2': [[13800, 6900], [20700, 20700]]}, {'met2': [[13800, 6900], [20700, 13800]]}, {'met3': [[0, 6900], [20700, 13800]]}], 'N7': [{'li1': [[13800, 13800], [20700, 20700]]}, {'met1': [[13800, 13800], [20700, 20700]]}, {'met2': [[13800, 13800], [20700, 27600]]}, {'met1': [[13800, 20700], [20700, 27600]]}, {'li1': [[13800, 20700], [20700, 27600]]}], 'N7_d': [{'met1': [[0, 27600], [6900, 34500]]}, {'met2': [[0, 27600], [6900, 34500]]}, {'met3': [[0, 27600], [6900, 34500]]}, {'met1': [[0, 27600], [13800, 34500]]}, {'li1': [[6900, 27600], [13800, 34500]]}], '_00_': [{'li1': [[13800, 20700], [20700, 27600]]}, {'met1': [[13800, 20700], [20700, 27600]]}], 'clk': [{'li1': [[20700, 13800], [30700, 20700]]}, {'met1': [[20700, 13800], [30700, 20700]]}, {'met2': [[20700, 6900], [30700, 20700]]}, {'met1': [[20700, 6900], [30700, 13800]]}, {'met1': [[13800, 6900], [30700, 13800]]}, {'li1': [[13800, 6900], [20700, 13800]]}, {'li1': [[13800, 13800], [20700, 20700]]}, {'met1': [[13800, 13800], [30700, 20700]]}, {'met2': [[20700, 20700], [30700, 27600]]}, {'met3': [[20700, 20700], [30700, 27600]]}, {'met2': [[20700, 13800], [30700, 27600]]}, {'li1': [[6900, 13800], [13800, 20700]]}, {'met1': [[6900, 13800], [13800, 20700]]}, {'met2': [[6900, 13800], [13800, 27600]]}, {'met1': [[6900, 20700], [13800, 27600]]}, {'li1': [[6900, 20700], [13800, 27600]]}, {'met1': [[6900, 13800], [20700, 20700]]}], 'net1': [{'li1': [[6900, 27600], [13800, 34500]]}, {'met1': [[6900, 27600], [13800, 34500]]}, {'met2': [[6900, 20700], [13800, 34500]]}, {'met1': [[6900, 20700], [13800, 27600]]}, {'li1': [[6900, 20700], [13800, 27600]]}], 'net2': [{'li1': [[6900, 20700], [13800, 27600]]}, {'met1': [[6900, 20700], [20700, 27600]]}, {'met1': [[13800, 20700], [20700, 27600]]}, {'met2': [[13800, 20700], [20700, 34500]]}, {'met1': [[13800, 27600], [20700, 34500]]}, {'li1': [[13800, 27600], [20700, 34500]]}], 'net3': [{'li1': [[13800, 13800], [20700, 20700]]}, {'met1': [[13800, 13800], [30700, 20700]]}, {'met1': [[20700, 13800], [30700, 20700]]}, {'met2': [[20700, 13800], [30700, 34500]]}, {'met1': [[20700, 27600], [30700, 34500]]}, {'li1': [[20700, 27600], [30700, 34500]]}], 'net4': [{'li1': [[6900, 13800], [13800, 20700]]}, {'met1': [[6900, 13800], [13800, 20700]]}], 'net5': [{'li1': [[6900, 27600], [13800, 34500]]}, {'met1': [[6900, 27600], [13800, 34500]]}, {'met2': [[6900, 13800], [13800, 34500]]}, {'met1': [[6900, 13800], [13800, 20700]]}, {'li1': [[6900, 13800], [13800, 20700]]}], 'net6': [{'li1': [[6900, 6900], [13800, 13800]]}, {'met1': [[6900, 6900], [13800, 13800]]}], 'net7': [{'li1': [[20700, 13800], [30700, 20700]]}, {'met1': [[20700, 13800], [30700, 20700]]}, {'met2': [[20700, 6900], [30700, 20700]]}, {'met1': [[20700, 6900], [30700, 13800]]}, {'li1': [[20700, 6900], [30700, 13800]]}]}\n"
          ]
        }
      ]
    },
    {
      "cell_type": "markdown",
      "source": [
        "**Skip Cells and Skip Nets**"
      ],
      "metadata": {
        "id": "utmtQn_uS2v7"
      }
    },
    {
      "cell_type": "code",
      "source": [
        "skipCells = {\"sky130_fd_sc_hd__decap_3\", \"sky130_fd_sc_hd__decap_4\", \"sky130_fd_sc_hd__decap_6\", \"sky130_fd_sc_hd__decap_8\",\\\n",
        "            \"sky130_fd_sc_hd__decap_12\", \"sky130_fd_sc_hd__fill_1\", \"sky130_fd_sc_hd__fill_2\", \"sky130_fd_sc_hd__fill_4\",\n",
        "            \"sky130_fd_sc_hd__fill_8\", \"sky130_fd_sc_hd__lpflow_decapkapwr_3\", \"sky130_fd_sc_hd__lpflow_decapkapwr_4\",\\\n",
        "            \"sky130_fd_sc_hd__lpflow_decapkapwr_6\", \"sky130_fd_sc_hd__lpflow_decapkapwr_8\", \"sky130_fd_sc_hd__lpflow_decapkapwr_12\", \\\n",
        "            \"sky130_fd_sc_hd__lpflow_lsbuf_lh_hl_isowell_tap_1\", \"sky130_fd_sc_hd__lpflow_lsbuf_lh_hl_isowell_tap_2\", \\\n",
        "            \"sky130_fd_sc_hd__lpflow_lsbuf_lh_hl_isowell_tap_4\", \"sky130_fd_sc_hd__lpflow_lsbuf_lh_isowell_tap_1\", \\\n",
        "            \"sky130_fd_sc_hd__lpflow_lsbuf_lh_isowell_tap_2\", \"sky130_fd_sc_hd__lpflow_lsbuf_lh_isowell_tap_4\", \"sky130_fd_sc_hd__tap_1\", \\\n",
        "            \"sky130_fd_sc_hd__tap_2\", \"sky130_fd_sc_hd__tapvgnd2_1\", \"sky130_fd_sc_hd__tapvgnd_1\", \\\n",
        "            \"sky130_fd_sc_hd__tapvpwrvgnd_1\", \"sky130_ef_sc_hd__decap_12\"}\n",
        "\n",
        "layerColors = { 'li1': 'red', 'met1': 'blue', 'met2': 'green', 'met3': 'orange', 'met4': 'magenta', 'met5': 'cyan' }\n",
        "layerOrient = { 'li1': 'VERTICAL', 'met1': 'HORIZONTAL', 'met2': 'VERTICAL', 'met3': 'HORIZONTAL', 'met4': 'VERTICAL', 'met5': 'HORIZONTAL' }\n",
        "\n",
        "# skip power/ground/clock nets\n",
        "skipNets = {'clk', 'VPWR', 'VGND'}\n",
        "\n",
        "adjLayer = {\n",
        "  'li1':  ['met1'],\n",
        "  'met1': ['li1',  'met2'],\n",
        "  'met2': ['met1', 'met3'],\n",
        "  'met3': ['met2', 'met4'],\n",
        "  'met4': ['met3', 'met5'],\n",
        "  'met5': ['met4']\n",
        "}"
      ],
      "metadata": {
        "id": "UAyqeHD1OHzm"
      },
      "execution_count": 37,
      "outputs": []
    },
    {
      "cell_type": "markdown",
      "source": [
        "**DEF and LEF reader**"
      ],
      "metadata": {
        "id": "Ga1Pc1__JSJ9"
      }
    },
    {
      "cell_type": "code",
      "source": [
        "l = LEFDEFParser.LEFReader()\n",
        "leffile=\"sky130.lef\"\n",
        "l.readLEF(leffile)\n",
        "d = LEFDEFParser.DEFReader()\n",
        "deffile=\"c17.def\"\n",
        "d.readDEF(deffile)\n",
        "\n",
        "macros={}\n",
        "for i in l.macros():\n",
        "  macros[i.name()]=i\n",
        "\n",
        "cells={}\n",
        "for i in d.components():\n",
        "  cells[i]=i.macro()\n",
        "\n",
        "nets={}\n",
        "for i in d.nets():\n",
        "  nets[i.name()]=i.pins()\n",
        "\n",
        "layerWidth = {}\n",
        "layerSpacing = {}\n",
        "for layer in l.layers():\n",
        "    layerWidth[layer.name()] = layer.width()\n",
        "    layerSpacing[layer.name()] = layer.pitch() - layer.width()\n",
        "print(macros)\n",
        "print(cells)\n",
        "print(nets)\n",
        "print(layerWidth)\n",
        "print(layerSpacing)\n",
        "#cells\n",
        "#nets\n",
        "#layerWidth\n",
        "#layerSpacing"
      ],
      "metadata": {
        "colab": {
          "base_uri": "https://localhost:8080/"
        },
        "id": "A9_t6ie-JR39",
        "outputId": "79da0710-2bd4-42de-8cbc-f508afc3627d"
      },
      "execution_count": 43,
      "outputs": [
        {
          "output_type": "stream",
          "name": "stdout",
          "text": [
            "{'sky130_fd_sc_hd__a2bb2o_1': <LEFDEFParser.Macro object at 0x7d892e5d8030>, 'sky130_fd_sc_hd__a2bb2o_2': <LEFDEFParser.Macro object at 0x7d892e5d83b0>, 'sky130_fd_sc_hd__a2bb2o_4': <LEFDEFParser.Macro object at 0x7d892e5d8b30>, 'sky130_fd_sc_hd__a2bb2oi_1': <LEFDEFParser.Macro object at 0x7d892e5d92b0>, 'sky130_fd_sc_hd__a2bb2oi_2': <LEFDEFParser.Macro object at 0x7d892e5da270>, 'sky130_fd_sc_hd__a2bb2oi_4': <LEFDEFParser.Macro object at 0x7d892e5d9fb0>, 'sky130_fd_sc_hd__a21bo_1': <LEFDEFParser.Macro object at 0x7d892e5d96b0>, 'sky130_fd_sc_hd__a21bo_2': <LEFDEFParser.Macro object at 0x7d892e5dbdf0>, 'sky130_fd_sc_hd__a21bo_4': <LEFDEFParser.Macro object at 0x7d892e5d8630>, 'sky130_fd_sc_hd__a21boi_0': <LEFDEFParser.Macro object at 0x7d892e5d8230>, 'sky130_fd_sc_hd__a21boi_1': <LEFDEFParser.Macro object at 0x7d892e5d98f0>, 'sky130_fd_sc_hd__a21boi_2': <LEFDEFParser.Macro object at 0x7d892e5d95b0>, 'sky130_fd_sc_hd__a21boi_4': <LEFDEFParser.Macro object at 0x7d892e5daff0>, 'sky130_fd_sc_hd__a21o_1': <LEFDEFParser.Macro object at 0x7d892e5d8ff0>, 'sky130_fd_sc_hd__a21o_2': <LEFDEFParser.Macro object at 0x7d892e5d8bb0>, 'sky130_fd_sc_hd__a21o_4': <LEFDEFParser.Macro object at 0x7d892e5d8df0>, 'sky130_fd_sc_hd__a21oi_1': <LEFDEFParser.Macro object at 0x7d892e5da1b0>, 'sky130_fd_sc_hd__a21oi_2': <LEFDEFParser.Macro object at 0x7d892e5dbf70>, 'sky130_fd_sc_hd__a21oi_4': <LEFDEFParser.Macro object at 0x7d892e5da470>, 'sky130_fd_sc_hd__a22o_1': <LEFDEFParser.Macro object at 0x7d892e5d83f0>, 'sky130_fd_sc_hd__a22o_2': <LEFDEFParser.Macro object at 0x7d892e5d8db0>, 'sky130_fd_sc_hd__a22o_4': <LEFDEFParser.Macro object at 0x7d892e5d8a30>, 'sky130_fd_sc_hd__a22oi_1': <LEFDEFParser.Macro object at 0x7d892e5db570>, 'sky130_fd_sc_hd__a22oi_2': <LEFDEFParser.Macro object at 0x7d892e5d85b0>, 'sky130_fd_sc_hd__a22oi_4': <LEFDEFParser.Macro object at 0x7d892e5d8b70>, 'sky130_fd_sc_hd__a31o_1': <LEFDEFParser.Macro object at 0x7d892e603e70>, 'sky130_fd_sc_hd__a31o_2': <LEFDEFParser.Macro object at 0x7d892e6039b0>, 'sky130_fd_sc_hd__a31o_4': <LEFDEFParser.Macro object at 0x7d892e602670>, 'sky130_fd_sc_hd__a31oi_1': <LEFDEFParser.Macro object at 0x7d892e6030f0>, 'sky130_fd_sc_hd__a31oi_2': <LEFDEFParser.Macro object at 0x7d892e603eb0>, 'sky130_fd_sc_hd__a31oi_4': <LEFDEFParser.Macro object at 0x7d892e6005f0>, 'sky130_fd_sc_hd__a32o_1': <LEFDEFParser.Macro object at 0x7d892e601cf0>, 'sky130_fd_sc_hd__a32o_2': <LEFDEFParser.Macro object at 0x7d892e602630>, 'sky130_fd_sc_hd__a32o_4': <LEFDEFParser.Macro object at 0x7d892e602970>, 'sky130_fd_sc_hd__a32oi_1': <LEFDEFParser.Macro object at 0x7d892e6015b0>, 'sky130_fd_sc_hd__a32oi_2': <LEFDEFParser.Macro object at 0x7d892e600b30>, 'sky130_fd_sc_hd__a32oi_4': <LEFDEFParser.Macro object at 0x7d892e6021b0>, 'sky130_fd_sc_hd__a41o_1': <LEFDEFParser.Macro object at 0x7d892e6000b0>, 'sky130_fd_sc_hd__a41o_2': <LEFDEFParser.Macro object at 0x7d892e603c30>, 'sky130_fd_sc_hd__a41o_4': <LEFDEFParser.Macro object at 0x7d892e6038b0>, 'sky130_fd_sc_hd__a41oi_1': <LEFDEFParser.Macro object at 0x7d892e601470>, 'sky130_fd_sc_hd__a41oi_2': <LEFDEFParser.Macro object at 0x7d892e603ab0>, 'sky130_fd_sc_hd__a41oi_4': <LEFDEFParser.Macro object at 0x7d892e603db0>, 'sky130_fd_sc_hd__a211o_1': <LEFDEFParser.Macro object at 0x7d892e6012b0>, 'sky130_fd_sc_hd__a211o_2': <LEFDEFParser.Macro object at 0x7d892e603b30>, 'sky130_fd_sc_hd__a211o_4': <LEFDEFParser.Macro object at 0x7d892e603770>, 'sky130_fd_sc_hd__a211oi_1': <LEFDEFParser.Macro object at 0x7d892e603a30>, 'sky130_fd_sc_hd__a211oi_2': <LEFDEFParser.Macro object at 0x7d892e603730>, 'sky130_fd_sc_hd__a211oi_4': <LEFDEFParser.Macro object at 0x7d892e6030b0>, 'sky130_fd_sc_hd__a221o_1': <LEFDEFParser.Macro object at 0x7d892e603bf0>, 'sky130_fd_sc_hd__a221o_2': <LEFDEFParser.Macro object at 0x7d892e6011f0>, 'sky130_fd_sc_hd__a221o_4': <LEFDEFParser.Macro object at 0x7d892e600330>, 'sky130_fd_sc_hd__a221oi_1': <LEFDEFParser.Macro object at 0x7d892e6024b0>, 'sky130_fd_sc_hd__a221oi_2': <LEFDEFParser.Macro object at 0x7d892e603430>, 'sky130_fd_sc_hd__a221oi_4': <LEFDEFParser.Macro object at 0x7d892e602af0>, 'sky130_fd_sc_hd__a222oi_1': <LEFDEFParser.Macro object at 0x7d892e603170>, 'sky130_fd_sc_hd__a311o_1': <LEFDEFParser.Macro object at 0x7d892e602870>, 'sky130_fd_sc_hd__a311o_2': <LEFDEFParser.Macro object at 0x7d892e601df0>, 'sky130_fd_sc_hd__a311o_4': <LEFDEFParser.Macro object at 0x7d892e600db0>, 'sky130_fd_sc_hd__a311oi_1': <LEFDEFParser.Macro object at 0x7d892e602d70>, 'sky130_fd_sc_hd__a311oi_2': <LEFDEFParser.Macro object at 0x7d892e601630>, 'sky130_fd_sc_hd__a311oi_4': <LEFDEFParser.Macro object at 0x7d892e6032f0>, 'sky130_fd_sc_hd__a2111o_1': <LEFDEFParser.Macro object at 0x7d892e603f30>, 'sky130_fd_sc_hd__a2111o_2': <LEFDEFParser.Macro object at 0x7d892e600ef0>, 'sky130_fd_sc_hd__a2111o_4': <LEFDEFParser.Macro object at 0x7d892e602070>, 'sky130_fd_sc_hd__a2111oi_0': <LEFDEFParser.Macro object at 0x7d892e603cb0>, 'sky130_fd_sc_hd__a2111oi_1': <LEFDEFParser.Macro object at 0x7d892e603bb0>, 'sky130_fd_sc_hd__a2111oi_2': <LEFDEFParser.Macro object at 0x7d892e6028f0>, 'sky130_fd_sc_hd__a2111oi_4': <LEFDEFParser.Macro object at 0x7d892e6009f0>, 'sky130_fd_sc_hd__and2_0': <LEFDEFParser.Macro object at 0x7d892e600070>, 'sky130_fd_sc_hd__and2_1': <LEFDEFParser.Macro object at 0x7d892e6031b0>, 'sky130_fd_sc_hd__and2_2': <LEFDEFParser.Macro object at 0x7d892e602430>, 'sky130_fd_sc_hd__and2_4': <LEFDEFParser.Macro object at 0x7d892e6034b0>, 'sky130_fd_sc_hd__and2b_1': <LEFDEFParser.Macro object at 0x7d892e6013b0>, 'sky130_fd_sc_hd__and2b_2': <LEFDEFParser.Macro object at 0x7d892e6026b0>, 'sky130_fd_sc_hd__and2b_4': <LEFDEFParser.Macro object at 0x7d892e6022f0>, 'sky130_fd_sc_hd__and3_1': <LEFDEFParser.Macro object at 0x7d892e602d30>, 'sky130_fd_sc_hd__and3_2': <LEFDEFParser.Macro object at 0x7d892e603470>, 'sky130_fd_sc_hd__and3_4': <LEFDEFParser.Macro object at 0x7d892e602bb0>, 'sky130_fd_sc_hd__and3b_1': <LEFDEFParser.Macro object at 0x7d892e603530>, 'sky130_fd_sc_hd__and3b_2': <LEFDEFParser.Macro object at 0x7d892e603fb0>, 'sky130_fd_sc_hd__and3b_4': <LEFDEFParser.Macro object at 0x7d892e601cb0>, 'sky130_fd_sc_hd__and4_1': <LEFDEFParser.Macro object at 0x7d892e602130>, 'sky130_fd_sc_hd__and4_2': <LEFDEFParser.Macro object at 0x7d892e603c70>, 'sky130_fd_sc_hd__and4_4': <LEFDEFParser.Macro object at 0x7d892e601e30>, 'sky130_fd_sc_hd__and4b_1': <LEFDEFParser.Macro object at 0x7d892e600030>, 'sky130_fd_sc_hd__and4b_2': <LEFDEFParser.Macro object at 0x7d892e603af0>, 'sky130_fd_sc_hd__and4b_4': <LEFDEFParser.Macro object at 0x7d892e6020b0>, 'sky130_fd_sc_hd__and4bb_1': <LEFDEFParser.Macro object at 0x7d892e600430>, 'sky130_fd_sc_hd__and4bb_2': <LEFDEFParser.Macro object at 0x7d892e6026f0>, 'sky130_fd_sc_hd__and4bb_4': <LEFDEFParser.Macro object at 0x7d892e6001f0>, 'sky130_fd_sc_hd__buf_1': <LEFDEFParser.Macro object at 0x7d892e602730>, 'sky130_fd_sc_hd__buf_2': <LEFDEFParser.Macro object at 0x7d892e603030>, 'sky130_fd_sc_hd__buf_4': <LEFDEFParser.Macro object at 0x7d892e600230>, 'sky130_fd_sc_hd__buf_6': <LEFDEFParser.Macro object at 0x7d892e603cf0>, 'sky130_fd_sc_hd__buf_8': <LEFDEFParser.Macro object at 0x7d892e603970>, 'sky130_fd_sc_hd__buf_12': <LEFDEFParser.Macro object at 0x7d892f81e4f0>, 'sky130_fd_sc_hd__buf_16': <LEFDEFParser.Macro object at 0x7d892f81f1f0>, 'sky130_fd_sc_hd__bufbuf_8': <LEFDEFParser.Macro object at 0x7d892f81e670>, 'sky130_fd_sc_hd__bufbuf_16': <LEFDEFParser.Macro object at 0x7d892f81c5b0>, 'sky130_fd_sc_hd__bufinv_8': <LEFDEFParser.Macro object at 0x7d892f81dd70>, 'sky130_fd_sc_hd__bufinv_16': <LEFDEFParser.Macro object at 0x7d892f81dcf0>, 'sky130_fd_sc_hd__clkbuf_1': <LEFDEFParser.Macro object at 0x7d892f81de30>, 'sky130_fd_sc_hd__clkbuf_2': <LEFDEFParser.Macro object at 0x7d892f81d370>, 'sky130_fd_sc_hd__clkbuf_4': <LEFDEFParser.Macro object at 0x7d892f81c570>, 'sky130_fd_sc_hd__clkbuf_8': <LEFDEFParser.Macro object at 0x7d892f81ed70>, 'sky130_fd_sc_hd__clkbuf_16': <LEFDEFParser.Macro object at 0x7d892f81dff0>, 'sky130_fd_sc_hd__clkdlybuf4s15_1': <LEFDEFParser.Macro object at 0x7d892f81feb0>, 'sky130_fd_sc_hd__clkdlybuf4s15_2': <LEFDEFParser.Macro object at 0x7d892f81dc30>, 'sky130_fd_sc_hd__clkdlybuf4s18_1': <LEFDEFParser.Macro object at 0x7d892f81dfb0>, 'sky130_fd_sc_hd__clkdlybuf4s18_2': <LEFDEFParser.Macro object at 0x7d892f81e770>, 'sky130_fd_sc_hd__clkdlybuf4s25_1': <LEFDEFParser.Macro object at 0x7d892f81fe30>, 'sky130_fd_sc_hd__clkdlybuf4s25_2': <LEFDEFParser.Macro object at 0x7d892f81ff70>, 'sky130_fd_sc_hd__clkdlybuf4s50_1': <LEFDEFParser.Macro object at 0x7d892f81ec70>, 'sky130_fd_sc_hd__clkdlybuf4s50_2': <LEFDEFParser.Macro object at 0x7d892f81f170>, 'sky130_fd_sc_hd__clkinv_1': <LEFDEFParser.Macro object at 0x7d892f81cd30>, 'sky130_fd_sc_hd__clkinv_2': <LEFDEFParser.Macro object at 0x7d892f81fd30>, 'sky130_fd_sc_hd__clkinv_4': <LEFDEFParser.Macro object at 0x7d892f81deb0>, 'sky130_fd_sc_hd__clkinv_8': <LEFDEFParser.Macro object at 0x7d892f81da30>, 'sky130_fd_sc_hd__clkinv_16': <LEFDEFParser.Macro object at 0x7d892f81de70>, 'sky130_fd_sc_hd__clkinvlp_2': <LEFDEFParser.Macro object at 0x7d892f72f9b0>, 'sky130_fd_sc_hd__clkinvlp_4': <LEFDEFParser.Macro object at 0x7d892f72e270>, 'sky130_fd_sc_hd__conb_1': <LEFDEFParser.Macro object at 0x7d892f72c1b0>, 'sky130_fd_sc_hd__decap_3': <LEFDEFParser.Macro object at 0x7d892f72e370>, 'sky130_fd_sc_hd__decap_4': <LEFDEFParser.Macro object at 0x7d892f72ff30>, 'sky130_fd_sc_hd__decap_6': <LEFDEFParser.Macro object at 0x7d892f72c870>, 'sky130_fd_sc_hd__decap_8': <LEFDEFParser.Macro object at 0x7d892f72c770>, 'sky130_fd_sc_hd__decap_12': <LEFDEFParser.Macro object at 0x7d892f72e0b0>, 'sky130_fd_sc_hd__dfbbn_1': <LEFDEFParser.Macro object at 0x7d892f72e2f0>, 'sky130_fd_sc_hd__dfbbn_2': <LEFDEFParser.Macro object at 0x7d892f72fbf0>, 'sky130_fd_sc_hd__dfbbp_1': <LEFDEFParser.Macro object at 0x7d892f72e1b0>, 'sky130_fd_sc_hd__dfrbp_1': <LEFDEFParser.Macro object at 0x7d892f72d530>, 'sky130_fd_sc_hd__dfrbp_2': <LEFDEFParser.Macro object at 0x7d892f72dc30>, 'sky130_fd_sc_hd__dfrtn_1': <LEFDEFParser.Macro object at 0x7d892f72f570>, 'sky130_fd_sc_hd__dfrtp_1': <LEFDEFParser.Macro object at 0x7d892f72fb70>, 'sky130_fd_sc_hd__dfrtp_2': <LEFDEFParser.Macro object at 0x7d892f72e7b0>, 'sky130_fd_sc_hd__dfrtp_4': <LEFDEFParser.Macro object at 0x7d892f72f1b0>, 'sky130_fd_sc_hd__dfsbp_1': <LEFDEFParser.Macro object at 0x7d892f72e930>, 'sky130_fd_sc_hd__dfsbp_2': <LEFDEFParser.Macro object at 0x7d892f72ee30>, 'sky130_fd_sc_hd__dfstp_1': <LEFDEFParser.Macro object at 0x7d892f72d6b0>, 'sky130_fd_sc_hd__dfstp_2': <LEFDEFParser.Macro object at 0x7d892f72fa70>, 'sky130_fd_sc_hd__dfstp_4': <LEFDEFParser.Macro object at 0x7d892f72f130>, 'sky130_fd_sc_hd__dfxbp_1': <LEFDEFParser.Macro object at 0x7d892f72c4b0>, 'sky130_fd_sc_hd__dfxbp_2': <LEFDEFParser.Macro object at 0x7d892f72fbb0>, 'sky130_fd_sc_hd__dfxtp_1': <LEFDEFParser.Macro object at 0x7d892f72eef0>, 'sky130_fd_sc_hd__dfxtp_2': <LEFDEFParser.Macro object at 0x7d892f72f630>, 'sky130_fd_sc_hd__dfxtp_4': <LEFDEFParser.Macro object at 0x7d892f72fdf0>, 'sky130_fd_sc_hd__diode_2': <LEFDEFParser.Macro object at 0x7d892f72d4b0>, 'sky130_fd_sc_hd__dlclkp_1': <LEFDEFParser.Macro object at 0x7d892f72e4f0>, 'sky130_fd_sc_hd__dlclkp_2': <LEFDEFParser.Macro object at 0x7d892f72d770>, 'sky130_fd_sc_hd__dlclkp_4': <LEFDEFParser.Macro object at 0x7d892f72fdb0>, 'sky130_fd_sc_hd__dlrbn_1': <LEFDEFParser.Macro object at 0x7d892f72cfb0>, 'sky130_fd_sc_hd__dlrbn_2': <LEFDEFParser.Macro object at 0x7d892f72d2b0>, 'sky130_fd_sc_hd__dlrbp_1': <LEFDEFParser.Macro object at 0x7d892f72f7b0>, 'sky130_fd_sc_hd__dlrbp_2': <LEFDEFParser.Macro object at 0x7d892f72fc30>, 'sky130_fd_sc_hd__dlrtn_1': <LEFDEFParser.Macro object at 0x7d892f72fd70>, 'sky130_fd_sc_hd__dlrtn_2': <LEFDEFParser.Macro object at 0x7d892f72c3b0>, 'sky130_fd_sc_hd__dlrtn_4': <LEFDEFParser.Macro object at 0x7d892f72ecb0>, 'sky130_fd_sc_hd__dlrtp_1': <LEFDEFParser.Macro object at 0x7d892f72fb30>, 'sky130_fd_sc_hd__dlrtp_2': <LEFDEFParser.Macro object at 0x7d892f72fcb0>, 'sky130_fd_sc_hd__dlrtp_4': <LEFDEFParser.Macro object at 0x7d892f72c0b0>, 'sky130_fd_sc_hd__dlxbn_1': <LEFDEFParser.Macro object at 0x7d892f72dbf0>, 'sky130_fd_sc_hd__dlxbn_2': <LEFDEFParser.Macro object at 0x7d892f72f030>, 'sky130_fd_sc_hd__dlxbp_1': <LEFDEFParser.Macro object at 0x7d892f72db30>, 'sky130_fd_sc_hd__dlxtn_1': <LEFDEFParser.Macro object at 0x7d892f72eb30>, 'sky130_fd_sc_hd__dlxtn_2': <LEFDEFParser.Macro object at 0x7d892f72f5f0>, 'sky130_fd_sc_hd__dlxtn_4': <LEFDEFParser.Macro object at 0x7d892f72edf0>, 'sky130_fd_sc_hd__dlxtp_1': <LEFDEFParser.Macro object at 0x7d892f72e770>, 'sky130_fd_sc_hd__dlygate4sd1_1': <LEFDEFParser.Macro object at 0x7d892f72f4f0>, 'sky130_fd_sc_hd__dlygate4sd2_1': <LEFDEFParser.Macro object at 0x7d892f72e7f0>, 'sky130_fd_sc_hd__dlygate4sd3_1': <LEFDEFParser.Macro object at 0x7d892f72dd70>, 'sky130_fd_sc_hd__dlymetal6s2s_1': <LEFDEFParser.Macro object at 0x7d892f72f8f0>, 'sky130_fd_sc_hd__dlymetal6s4s_1': <LEFDEFParser.Macro object at 0x7d892f72fa30>, 'sky130_fd_sc_hd__dlymetal6s6s_1': <LEFDEFParser.Macro object at 0x7d892f72c8f0>, 'sky130_fd_sc_hd__ebufn_1': <LEFDEFParser.Macro object at 0x7d892f72e3f0>, 'sky130_fd_sc_hd__ebufn_2': <LEFDEFParser.Macro object at 0x7d892f72c7f0>, 'sky130_fd_sc_hd__ebufn_4': <LEFDEFParser.Macro object at 0x7d892f72c370>, 'sky130_fd_sc_hd__ebufn_8': <LEFDEFParser.Macro object at 0x7d892f72c230>, 'sky130_fd_sc_hd__edfxbp_1': <LEFDEFParser.Macro object at 0x7d892f72da30>, 'sky130_fd_sc_hd__edfxtp_1': <LEFDEFParser.Macro object at 0x7d892f72ebb0>, 'sky130_fd_sc_hd__einvn_0': <LEFDEFParser.Macro object at 0x7d892f72ddb0>, 'sky130_fd_sc_hd__einvn_1': <LEFDEFParser.Macro object at 0x7d892f72def0>, 'sky130_fd_sc_hd__einvn_2': <LEFDEFParser.Macro object at 0x7d892f72dc70>, 'sky130_fd_sc_hd__einvn_4': <LEFDEFParser.Macro object at 0x7d892f72dbb0>, 'sky130_fd_sc_hd__einvn_8': <LEFDEFParser.Macro object at 0x7d892f72cd30>, 'sky130_fd_sc_hd__einvp_1': <LEFDEFParser.Macro object at 0x7d892f72f070>, 'sky130_fd_sc_hd__einvp_2': <LEFDEFParser.Macro object at 0x7d892f72c1f0>, 'sky130_fd_sc_hd__einvp_4': <LEFDEFParser.Macro object at 0x7d892f72fab0>, 'sky130_fd_sc_hd__einvp_8': <LEFDEFParser.Macro object at 0x7d892f72fcf0>, 'sky130_fd_sc_hd__fa_1': <LEFDEFParser.Macro object at 0x7d892f72f1f0>, 'sky130_fd_sc_hd__fa_2': <LEFDEFParser.Macro object at 0x7d892f72f670>, 'sky130_fd_sc_hd__fa_4': <LEFDEFParser.Macro object at 0x7d892f72f430>, 'sky130_fd_sc_hd__fah_1': <LEFDEFParser.Macro object at 0x7d892f72c8b0>, 'sky130_fd_sc_hd__fahcin_1': <LEFDEFParser.Macro object at 0x7d892f72e170>, 'sky130_fd_sc_hd__fahcon_1': <LEFDEFParser.Macro object at 0x7d892f72ef30>, 'sky130_fd_sc_hd__fill_1': <LEFDEFParser.Macro object at 0x7d892f72c7b0>, 'sky130_fd_sc_hd__fill_2': <LEFDEFParser.Macro object at 0x7d892f72c2b0>, 'sky130_fd_sc_hd__fill_4': <LEFDEFParser.Macro object at 0x7d892f72f330>, 'sky130_fd_sc_hd__fill_8': <LEFDEFParser.Macro object at 0x7d892f7796b0>, 'sky130_fd_sc_hd__ha_1': <LEFDEFParser.Macro object at 0x7d892f77aab0>, 'sky130_fd_sc_hd__ha_2': <LEFDEFParser.Macro object at 0x7d892f7786b0>, 'sky130_fd_sc_hd__ha_4': <LEFDEFParser.Macro object at 0x7d892f77b230>, 'sky130_fd_sc_hd__inv_1': <LEFDEFParser.Macro object at 0x7d892f77b1f0>, 'sky130_fd_sc_hd__inv_2': <LEFDEFParser.Macro object at 0x7d892f77aef0>, 'sky130_fd_sc_hd__inv_4': <LEFDEFParser.Macro object at 0x7d892f77b8b0>, 'sky130_fd_sc_hd__inv_6': <LEFDEFParser.Macro object at 0x7d892f77bc30>, 'sky130_fd_sc_hd__inv_8': <LEFDEFParser.Macro object at 0x7d892f77a830>, 'sky130_fd_sc_hd__inv_12': <LEFDEFParser.Macro object at 0x7d892f779170>, 'sky130_fd_sc_hd__inv_16': <LEFDEFParser.Macro object at 0x7d892f77a570>, 'sky130_fd_sc_hd__lpflow_bleeder_1': <LEFDEFParser.Macro object at 0x7d892f77b670>, 'sky130_fd_sc_hd__lpflow_clkbufkapwr_1': <LEFDEFParser.Macro object at 0x7d892f7784f0>, 'sky130_fd_sc_hd__lpflow_clkbufkapwr_2': <LEFDEFParser.Macro object at 0x7d892f7790f0>, 'sky130_fd_sc_hd__lpflow_clkbufkapwr_4': <LEFDEFParser.Macro object at 0x7d892f779d30>, 'sky130_fd_sc_hd__lpflow_clkbufkapwr_8': <LEFDEFParser.Macro object at 0x7d892f778670>, 'sky130_fd_sc_hd__lpflow_clkbufkapwr_16': <LEFDEFParser.Macro object at 0x7d892f778c70>, 'sky130_fd_sc_hd__lpflow_clkinvkapwr_1': <LEFDEFParser.Macro object at 0x7d892f77bc70>, 'sky130_fd_sc_hd__lpflow_clkinvkapwr_2': <LEFDEFParser.Macro object at 0x7d892f77a2f0>, 'sky130_fd_sc_hd__lpflow_clkinvkapwr_4': <LEFDEFParser.Macro object at 0x7d892f77b530>, 'sky130_fd_sc_hd__lpflow_clkinvkapwr_8': <LEFDEFParser.Macro object at 0x7d892f778ef0>, 'sky130_fd_sc_hd__lpflow_clkinvkapwr_16': <LEFDEFParser.Macro object at 0x7d892f77ba30>, 'sky130_fd_sc_hd__lpflow_decapkapwr_3': <LEFDEFParser.Macro object at 0x7d892f779570>, 'sky130_fd_sc_hd__lpflow_decapkapwr_4': <LEFDEFParser.Macro object at 0x7d892f7795f0>, 'sky130_fd_sc_hd__lpflow_decapkapwr_6': <LEFDEFParser.Macro object at 0x7d892f778f30>, 'sky130_fd_sc_hd__lpflow_decapkapwr_8': <LEFDEFParser.Macro object at 0x7d892f77bcb0>, 'sky130_fd_sc_hd__lpflow_decapkapwr_12': <LEFDEFParser.Macro object at 0x7d892f77b470>, 'sky130_fd_sc_hd__lpflow_inputiso0n_1': <LEFDEFParser.Macro object at 0x7d892f778ab0>, 'sky130_fd_sc_hd__lpflow_inputiso0p_1': <LEFDEFParser.Macro object at 0x7d892f779cf0>, 'sky130_fd_sc_hd__lpflow_inputiso1n_1': <LEFDEFParser.Macro object at 0x7d892f77bef0>, 'sky130_fd_sc_hd__lpflow_inputiso1p_1': <LEFDEFParser.Macro object at 0x7d892f77aeb0>, 'sky130_fd_sc_hd__lpflow_inputisolatch_1': <LEFDEFParser.Macro object at 0x7d892f778f70>, 'sky130_fd_sc_hd__lpflow_isobufsrc_1': <LEFDEFParser.Macro object at 0x7d892f77afb0>, 'sky130_fd_sc_hd__lpflow_isobufsrc_2': <LEFDEFParser.Macro object at 0x7d892f779e70>, 'sky130_fd_sc_hd__lpflow_isobufsrc_4': <LEFDEFParser.Macro object at 0x7d892f779fb0>, 'sky130_fd_sc_hd__lpflow_isobufsrc_8': <LEFDEFParser.Macro object at 0x7d892f7797f0>, 'sky130_fd_sc_hd__lpflow_isobufsrc_16': <LEFDEFParser.Macro object at 0x7d892f779a70>, 'sky130_fd_sc_hd__lpflow_isobufsrckapwr_16': <LEFDEFParser.Macro object at 0x7d892f77b430>, 'sky130_fd_sc_hd__lpflow_lsbuf_lh_hl_isowell_tap_1': <LEFDEFParser.Macro object at 0x7d892f77a8b0>, 'sky130_fd_sc_hd__lpflow_lsbuf_lh_hl_isowell_tap_2': <LEFDEFParser.Macro object at 0x7d892f77b3b0>, 'sky130_fd_sc_hd__lpflow_lsbuf_lh_hl_isowell_tap_4': <LEFDEFParser.Macro object at 0x7d892f77b8f0>, 'sky130_fd_sc_hd__lpflow_lsbuf_lh_isowell_4': <LEFDEFParser.Macro object at 0x7d892f779ef0>, 'sky130_fd_sc_hd__lpflow_lsbuf_lh_isowell_tap_1': <LEFDEFParser.Macro object at 0x7d892f77a2b0>, 'sky130_fd_sc_hd__lpflow_lsbuf_lh_isowell_tap_2': <LEFDEFParser.Macro object at 0x7d892f778b30>, 'sky130_fd_sc_hd__lpflow_lsbuf_lh_isowell_tap_4': <LEFDEFParser.Macro object at 0x7d892f77a770>, 'sky130_fd_sc_hd__macro_sparecell': <LEFDEFParser.Macro object at 0x7d892f77b270>, 'sky130_fd_sc_hd__maj3_1': <LEFDEFParser.Macro object at 0x7d892f77aa30>, 'sky130_fd_sc_hd__maj3_2': <LEFDEFParser.Macro object at 0x7d892f7799b0>, 'sky130_fd_sc_hd__maj3_4': <LEFDEFParser.Macro object at 0x7d892f77be70>, 'sky130_fd_sc_hd__mux2_1': <LEFDEFParser.Macro object at 0x7d892f77b5b0>, 'sky130_fd_sc_hd__mux2_2': <LEFDEFParser.Macro object at 0x7d892f778d70>, 'sky130_fd_sc_hd__mux2_4': <LEFDEFParser.Macro object at 0x7d892f77b3f0>, 'sky130_fd_sc_hd__mux2_8': <LEFDEFParser.Macro object at 0x7d892f779e30>, 'sky130_fd_sc_hd__mux2i_1': <LEFDEFParser.Macro object at 0x7d892f77ab30>, 'sky130_fd_sc_hd__mux2i_2': <LEFDEFParser.Macro object at 0x7d892f779830>, 'sky130_fd_sc_hd__mux2i_4': <LEFDEFParser.Macro object at 0x7d892f779530>, 'sky130_fd_sc_hd__mux4_1': <LEFDEFParser.Macro object at 0x7d892f778270>, 'sky130_fd_sc_hd__mux4_2': <LEFDEFParser.Macro object at 0x7d892f779b30>, 'sky130_fd_sc_hd__mux4_4': <LEFDEFParser.Macro object at 0x7d892f779670>, 'sky130_fd_sc_hd__nand2_1': <LEFDEFParser.Macro object at 0x7d892f77b730>, 'sky130_fd_sc_hd__nand2_2': <LEFDEFParser.Macro object at 0x7d892f77a870>, 'sky130_fd_sc_hd__nand2_4': <LEFDEFParser.Macro object at 0x7d892f779630>, 'sky130_fd_sc_hd__nand2_8': <LEFDEFParser.Macro object at 0x7d892f77ba70>, 'sky130_fd_sc_hd__nand2b_1': <LEFDEFParser.Macro object at 0x7d892f77a930>, 'sky130_fd_sc_hd__nand2b_2': <LEFDEFParser.Macro object at 0x7d892f77ac30>, 'sky130_fd_sc_hd__nand2b_4': <LEFDEFParser.Macro object at 0x7d892f77a470>, 'sky130_fd_sc_hd__nand3_1': <LEFDEFParser.Macro object at 0x7d892f77a730>, 'sky130_fd_sc_hd__nand3_2': <LEFDEFParser.Macro object at 0x7d892f77bbb0>, 'sky130_fd_sc_hd__nand3_4': <LEFDEFParser.Macro object at 0x7d892f77bfb0>, 'sky130_fd_sc_hd__nand3b_1': <LEFDEFParser.Macro object at 0x7d892f7793f0>, 'sky130_fd_sc_hd__nand3b_2': <LEFDEFParser.Macro object at 0x7d892f778d30>, 'sky130_fd_sc_hd__nand3b_4': <LEFDEFParser.Macro object at 0x7d892f779f30>, 'sky130_fd_sc_hd__nand4_1': <LEFDEFParser.Macro object at 0x7d892f77acb0>, 'sky130_fd_sc_hd__nand4_2': <LEFDEFParser.Macro object at 0x7d892f779bf0>, 'sky130_fd_sc_hd__nand4_4': <LEFDEFParser.Macro object at 0x7d892f77aaf0>, 'sky130_fd_sc_hd__nand4b_1': <LEFDEFParser.Macro object at 0x7d892f778530>, 'sky130_fd_sc_hd__nand4b_2': <LEFDEFParser.Macro object at 0x7d892f77bcf0>, 'sky130_fd_sc_hd__nand4b_4': <LEFDEFParser.Macro object at 0x7d892f77b6b0>, 'sky130_fd_sc_hd__nand4bb_1': <LEFDEFParser.Macro object at 0x7d892f778130>, 'sky130_fd_sc_hd__nand4bb_2': <LEFDEFParser.Macro object at 0x7d892f77bb30>, 'sky130_fd_sc_hd__nand4bb_4': <LEFDEFParser.Macro object at 0x7d892f77adb0>, 'sky130_fd_sc_hd__nor2_1': <LEFDEFParser.Macro object at 0x7d892f77bf30>, 'sky130_fd_sc_hd__nor2_2': <LEFDEFParser.Macro object at 0x7d892f77a7f0>, 'sky130_fd_sc_hd__nor2_4': <LEFDEFParser.Macro object at 0x7d892f7780f0>, 'sky130_fd_sc_hd__nor2_8': <LEFDEFParser.Macro object at 0x7d892f7785f0>, 'sky130_fd_sc_hd__nor2b_1': <LEFDEFParser.Macro object at 0x7d892f77a530>, 'sky130_fd_sc_hd__nor2b_2': <LEFDEFParser.Macro object at 0x7d892f779af0>, 'sky130_fd_sc_hd__nor2b_4': <LEFDEFParser.Macro object at 0x7d892f778170>, 'sky130_fd_sc_hd__nor3_1': <LEFDEFParser.Macro object at 0x7d892f779db0>, 'sky130_fd_sc_hd__nor3_2': <LEFDEFParser.Macro object at 0x7d892f77a6f0>, 'sky130_fd_sc_hd__nor3_4': <LEFDEFParser.Macro object at 0x7d892f7785b0>, 'sky130_fd_sc_hd__nor3b_1': <LEFDEFParser.Macro object at 0x7d892f77bab0>, 'sky130_fd_sc_hd__nor3b_2': <LEFDEFParser.Macro object at 0x7d892f77ad70>, 'sky130_fd_sc_hd__nor3b_4': <LEFDEFParser.Macro object at 0x7d892f779870>, 'sky130_fd_sc_hd__nor4_1': <LEFDEFParser.Macro object at 0x7d892f77a5b0>, 'sky130_fd_sc_hd__nor4_2': <LEFDEFParser.Macro object at 0x7d892f77be30>, 'sky130_fd_sc_hd__nor4_4': <LEFDEFParser.Macro object at 0x7d892f779330>, 'sky130_fd_sc_hd__nor4b_1': <LEFDEFParser.Macro object at 0x7d892f778ff0>, 'sky130_fd_sc_hd__nor4b_2': <LEFDEFParser.Macro object at 0x7d892f77b1b0>, 'sky130_fd_sc_hd__nor4b_4': <LEFDEFParser.Macro object at 0x7d892f779070>, 'sky130_fd_sc_hd__nor4bb_1': <LEFDEFParser.Macro object at 0x7d892f778db0>, 'sky130_fd_sc_hd__nor4bb_2': <LEFDEFParser.Macro object at 0x7d892f77b2b0>, 'sky130_fd_sc_hd__nor4bb_4': <LEFDEFParser.Macro object at 0x7d892f779c30>, 'sky130_fd_sc_hd__o2bb2a_1': <LEFDEFParser.Macro object at 0x7d892f7795b0>, 'sky130_fd_sc_hd__o2bb2a_2': <LEFDEFParser.Macro object at 0x7d892f778a70>, 'sky130_fd_sc_hd__o2bb2a_4': <LEFDEFParser.Macro object at 0x7d892f77b870>, 'sky130_fd_sc_hd__o2bb2ai_1': <LEFDEFParser.Macro object at 0x7d892f77b5f0>, 'sky130_fd_sc_hd__o2bb2ai_2': <LEFDEFParser.Macro object at 0x7d892f77af70>, 'sky130_fd_sc_hd__o2bb2ai_4': <LEFDEFParser.Macro object at 0x7d892f778df0>, 'sky130_fd_sc_hd__o21a_1': <LEFDEFParser.Macro object at 0x7d892f77bbf0>, 'sky130_fd_sc_hd__o21a_2': <LEFDEFParser.Macro object at 0x7d892f779cb0>, 'sky130_fd_sc_hd__o21a_4': <LEFDEFParser.Macro object at 0x7d892f77ae70>, 'sky130_fd_sc_hd__o21ai_0': <LEFDEFParser.Macro object at 0x7d892f778830>, 'sky130_fd_sc_hd__o21ai_1': <LEFDEFParser.Macro object at 0x7d892f778330>, 'sky130_fd_sc_hd__o21ai_2': <LEFDEFParser.Macro object at 0x7d892f77b7b0>, 'sky130_fd_sc_hd__o21ai_4': <LEFDEFParser.Macro object at 0x7d892f77a630>, 'sky130_fd_sc_hd__o21ba_1': <LEFDEFParser.Macro object at 0x7d892f77a4f0>, 'sky130_fd_sc_hd__o21ba_2': <LEFDEFParser.Macro object at 0x7d892f77b9f0>, 'sky130_fd_sc_hd__o21ba_4': <LEFDEFParser.Macro object at 0x7d892f778870>, 'sky130_fd_sc_hd__o21bai_1': <LEFDEFParser.Macro object at 0x7d892f77bb70>, 'sky130_fd_sc_hd__o21bai_2': <LEFDEFParser.Macro object at 0x7d892f778cf0>, 'sky130_fd_sc_hd__o21bai_4': <LEFDEFParser.Macro object at 0x7d892f7787f0>, 'sky130_fd_sc_hd__o22a_1': <LEFDEFParser.Macro object at 0x7d892f77b6f0>, 'sky130_fd_sc_hd__o22a_2': <LEFDEFParser.Macro object at 0x7d892f77a270>, 'sky130_fd_sc_hd__o22a_4': <LEFDEFParser.Macro object at 0x7d892f77b930>, 'sky130_fd_sc_hd__o22ai_1': <LEFDEFParser.Macro object at 0x7d892f77acf0>, 'sky130_fd_sc_hd__o22ai_2': <LEFDEFParser.Macro object at 0x7d892f77b330>, 'sky130_fd_sc_hd__o22ai_4': <LEFDEFParser.Macro object at 0x7d892f77b9b0>, 'sky130_fd_sc_hd__o31a_1': <LEFDEFParser.Macro object at 0x7d892f7798f0>, 'sky130_fd_sc_hd__o31a_2': <LEFDEFParser.Macro object at 0x7d892f779f70>, 'sky130_fd_sc_hd__o31a_4': <LEFDEFParser.Macro object at 0x7d892f77b170>, 'sky130_fd_sc_hd__o31ai_1': <LEFDEFParser.Macro object at 0x7d892f77a5f0>, 'sky130_fd_sc_hd__o31ai_2': <LEFDEFParser.Macro object at 0x7d892f779ab0>, 'sky130_fd_sc_hd__o31ai_4': <LEFDEFParser.Macro object at 0x7d892e5c6270>, 'sky130_fd_sc_hd__o32a_1': <LEFDEFParser.Macro object at 0x7d892e5c5cb0>, 'sky130_fd_sc_hd__o32a_2': <LEFDEFParser.Macro object at 0x7d892e5c6cb0>, 'sky130_fd_sc_hd__o32a_4': <LEFDEFParser.Macro object at 0x7d892e5c5df0>, 'sky130_fd_sc_hd__o32ai_1': <LEFDEFParser.Macro object at 0x7d892e5c6430>, 'sky130_fd_sc_hd__o32ai_2': <LEFDEFParser.Macro object at 0x7d892e5c6f70>, 'sky130_fd_sc_hd__o32ai_4': <LEFDEFParser.Macro object at 0x7d892e5c4530>, 'sky130_fd_sc_hd__o41a_1': <LEFDEFParser.Macro object at 0x7d892e5c6d30>, 'sky130_fd_sc_hd__o41a_2': <LEFDEFParser.Macro object at 0x7d892e5c7230>, 'sky130_fd_sc_hd__o41a_4': <LEFDEFParser.Macro object at 0x7d892e5c62b0>, 'sky130_fd_sc_hd__o41ai_1': <LEFDEFParser.Macro object at 0x7d892e5c7530>, 'sky130_fd_sc_hd__o41ai_2': <LEFDEFParser.Macro object at 0x7d892e5c4270>, 'sky130_fd_sc_hd__o41ai_4': <LEFDEFParser.Macro object at 0x7d892e5c6b70>, 'sky130_fd_sc_hd__o211a_1': <LEFDEFParser.Macro object at 0x7d892e5c6bf0>, 'sky130_fd_sc_hd__o211a_2': <LEFDEFParser.Macro object at 0x7d892e5c4570>, 'sky130_fd_sc_hd__o211a_4': <LEFDEFParser.Macro object at 0x7d892e5c4630>, 'sky130_fd_sc_hd__o211ai_1': <LEFDEFParser.Macro object at 0x7d892e5c70f0>, 'sky130_fd_sc_hd__o211ai_2': <LEFDEFParser.Macro object at 0x7d892e5c70b0>, 'sky130_fd_sc_hd__o211ai_4': <LEFDEFParser.Macro object at 0x7d892e5c6b30>, 'sky130_fd_sc_hd__o221a_1': <LEFDEFParser.Macro object at 0x7d892e5c5770>, 'sky130_fd_sc_hd__o221a_2': <LEFDEFParser.Macro object at 0x7d892e5c54b0>, 'sky130_fd_sc_hd__o221a_4': <LEFDEFParser.Macro object at 0x7d892e5c59f0>, 'sky130_fd_sc_hd__o221ai_1': <LEFDEFParser.Macro object at 0x7d892e5c4070>, 'sky130_fd_sc_hd__o221ai_2': <LEFDEFParser.Macro object at 0x7d892e5c58f0>, 'sky130_fd_sc_hd__o221ai_4': <LEFDEFParser.Macro object at 0x7d892e5c7f70>, 'sky130_fd_sc_hd__o311a_1': <LEFDEFParser.Macro object at 0x7d892e5c44f0>, 'sky130_fd_sc_hd__o311a_2': <LEFDEFParser.Macro object at 0x7d892e5c65b0>, 'sky130_fd_sc_hd__o311a_4': <LEFDEFParser.Macro object at 0x7d892e5c43b0>, 'sky130_fd_sc_hd__o311ai_0': <LEFDEFParser.Macro object at 0x7d892e5c4030>, 'sky130_fd_sc_hd__o311ai_1': <LEFDEFParser.Macro object at 0x7d892e5c7c30>, 'sky130_fd_sc_hd__o311ai_2': <LEFDEFParser.Macro object at 0x7d892e5c71b0>, 'sky130_fd_sc_hd__o311ai_4': <LEFDEFParser.Macro object at 0x7d892e5c64b0>, 'sky130_fd_sc_hd__o2111a_1': <LEFDEFParser.Macro object at 0x7d892e5c5e30>, 'sky130_fd_sc_hd__o2111a_2': <LEFDEFParser.Macro object at 0x7d892e5c7f30>, 'sky130_fd_sc_hd__o2111a_4': <LEFDEFParser.Macro object at 0x7d892e5c61b0>, 'sky130_fd_sc_hd__o2111ai_1': <LEFDEFParser.Macro object at 0x7d892e5c5e70>, 'sky130_fd_sc_hd__o2111ai_2': <LEFDEFParser.Macro object at 0x7d892e5c6330>, 'sky130_fd_sc_hd__o2111ai_4': <LEFDEFParser.Macro object at 0x7d892e5c6770>, 'sky130_fd_sc_hd__or2_0': <LEFDEFParser.Macro object at 0x7d892e5c5570>, 'sky130_fd_sc_hd__or2_1': <LEFDEFParser.Macro object at 0x7d892e5c6e30>, 'sky130_fd_sc_hd__or2_2': <LEFDEFParser.Macro object at 0x7d892e5c5b70>, 'sky130_fd_sc_hd__or2_4': <LEFDEFParser.Macro object at 0x7d892e5c7d30>, 'sky130_fd_sc_hd__or2b_1': <LEFDEFParser.Macro object at 0x7d892e5c4130>, 'sky130_fd_sc_hd__or2b_2': <LEFDEFParser.Macro object at 0x7d892e5c72f0>, 'sky130_fd_sc_hd__or2b_4': <LEFDEFParser.Macro object at 0x7d892e5c74b0>, 'sky130_fd_sc_hd__or3_1': <LEFDEFParser.Macro object at 0x7d892e5c5070>, 'sky130_fd_sc_hd__or3_2': <LEFDEFParser.Macro object at 0x7d892e5c76f0>, 'sky130_fd_sc_hd__or3_4': <LEFDEFParser.Macro object at 0x7d892e5c4a70>, 'sky130_fd_sc_hd__or3b_1': <LEFDEFParser.Macro object at 0x7d892e5c5830>, 'sky130_fd_sc_hd__or3b_2': <LEFDEFParser.Macro object at 0x7d892e5c56b0>, 'sky130_fd_sc_hd__or3b_4': <LEFDEFParser.Macro object at 0x7d892e5c5930>, 'sky130_fd_sc_hd__or4_1': <LEFDEFParser.Macro object at 0x7d892e5c5630>, 'sky130_fd_sc_hd__or4_2': <LEFDEFParser.Macro object at 0x7d892e5c68b0>, 'sky130_fd_sc_hd__or4_4': <LEFDEFParser.Macro object at 0x7d892e5c6870>, 'sky130_fd_sc_hd__or4b_1': <LEFDEFParser.Macro object at 0x7d892e5c6830>, 'sky130_fd_sc_hd__or4b_2': <LEFDEFParser.Macro object at 0x7d892e5c59b0>, 'sky130_fd_sc_hd__or4b_4': <LEFDEFParser.Macro object at 0x7d892e5c5870>, 'sky130_fd_sc_hd__or4bb_1': <LEFDEFParser.Macro object at 0x7d892e5c6a30>, 'sky130_fd_sc_hd__or4bb_2': <LEFDEFParser.Macro object at 0x7d892e5c58b0>, 'sky130_fd_sc_hd__or4bb_4': <LEFDEFParser.Macro object at 0x7d892e5c79b0>, 'sky130_fd_sc_hd__probe_p_8': <LEFDEFParser.Macro object at 0x7d892e5c63f0>, 'sky130_fd_sc_hd__probec_p_8': <LEFDEFParser.Macro object at 0x7d892e5c61f0>, 'sky130_fd_sc_hd__sdfbbn_1': <LEFDEFParser.Macro object at 0x7d892e5c6530>, 'sky130_fd_sc_hd__sdfbbn_2': <LEFDEFParser.Macro object at 0x7d892e5c6630>, 'sky130_fd_sc_hd__sdfbbp_1': <LEFDEFParser.Macro object at 0x7d892e5c7070>, 'sky130_fd_sc_hd__sdfrbp_1': <LEFDEFParser.Macro object at 0x7d892e5c79f0>, 'sky130_fd_sc_hd__sdfrbp_2': <LEFDEFParser.Macro object at 0x7d892e5c6df0>, 'sky130_fd_sc_hd__sdfrtn_1': <LEFDEFParser.Macro object at 0x7d892e5c7df0>, 'sky130_fd_sc_hd__sdfrtp_1': <LEFDEFParser.Macro object at 0x7d892e5c5a70>, 'sky130_fd_sc_hd__sdfrtp_2': <LEFDEFParser.Macro object at 0x7d892e5c6ff0>, 'sky130_fd_sc_hd__sdfrtp_4': <LEFDEFParser.Macro object at 0x7d892e5c7170>, 'sky130_fd_sc_hd__sdfsbp_1': <LEFDEFParser.Macro object at 0x7d892e5c76b0>, 'sky130_fd_sc_hd__sdfsbp_2': <LEFDEFParser.Macro object at 0x7d892e5c6730>, 'sky130_fd_sc_hd__sdfstp_1': <LEFDEFParser.Macro object at 0x7d892e5c6070>, 'sky130_fd_sc_hd__sdfstp_2': <LEFDEFParser.Macro object at 0x7d892e5c64f0>, 'sky130_fd_sc_hd__sdfstp_4': <LEFDEFParser.Macro object at 0x7d892e5c66b0>, 'sky130_fd_sc_hd__sdfxbp_1': <LEFDEFParser.Macro object at 0x7d892e5c77b0>, 'sky130_fd_sc_hd__sdfxbp_2': <LEFDEFParser.Macro object at 0x7d892e5c5ef0>, 'sky130_fd_sc_hd__sdfxtp_1': <LEFDEFParser.Macro object at 0x7d892e5c7670>, 'sky130_fd_sc_hd__sdfxtp_2': <LEFDEFParser.Macro object at 0x7d892e5c41f0>, 'sky130_fd_sc_hd__sdfxtp_4': <LEFDEFParser.Macro object at 0x7d892e5c4bb0>, 'sky130_fd_sc_hd__sdlclkp_1': <LEFDEFParser.Macro object at 0x7d892e5c7fb0>, 'sky130_fd_sc_hd__sdlclkp_2': <LEFDEFParser.Macro object at 0x7d892e5c6670>, 'sky130_fd_sc_hd__sdlclkp_4': <LEFDEFParser.Macro object at 0x7d892e5c6af0>, 'sky130_fd_sc_hd__sedfxbp_1': <LEFDEFParser.Macro object at 0x7d892e5c6130>, 'sky130_fd_sc_hd__sedfxbp_2': <LEFDEFParser.Macro object at 0x7d892e5c7a30>, 'sky130_fd_sc_hd__sedfxtp_1': <LEFDEFParser.Macro object at 0x7d892e5c55b0>, 'sky130_fd_sc_hd__sedfxtp_2': <LEFDEFParser.Macro object at 0x7d892e5c7870>, 'sky130_fd_sc_hd__sedfxtp_4': <LEFDEFParser.Macro object at 0x7d892e5c7b70>, 'sky130_fd_sc_hd__tap_1': <LEFDEFParser.Macro object at 0x7d892e5c75b0>, 'sky130_fd_sc_hd__tap_2': <LEFDEFParser.Macro object at 0x7d892e5c6db0>, 'sky130_fd_sc_hd__tapvgnd2_1': <LEFDEFParser.Macro object at 0x7d892e5c6cf0>, 'sky130_fd_sc_hd__tapvgnd_1': <LEFDEFParser.Macro object at 0x7d892e5c4c70>, 'sky130_fd_sc_hd__tapvpwrvgnd_1': <LEFDEFParser.Macro object at 0x7d892e5c7830>, 'sky130_fd_sc_hd__xnor2_1': <LEFDEFParser.Macro object at 0x7d892e5c5d30>, 'sky130_fd_sc_hd__xnor2_2': <LEFDEFParser.Macro object at 0x7d892e5c44b0>, 'sky130_fd_sc_hd__xnor2_4': <LEFDEFParser.Macro object at 0x7d892e5c4170>, 'sky130_fd_sc_hd__xnor3_1': <LEFDEFParser.Macro object at 0x7d892e5c5a30>, 'sky130_fd_sc_hd__xnor3_2': <LEFDEFParser.Macro object at 0x7d892e5c4430>, 'sky130_fd_sc_hd__xnor3_4': <LEFDEFParser.Macro object at 0x7d892e5c7af0>, 'sky130_fd_sc_hd__xor2_1': <LEFDEFParser.Macro object at 0x7d892e5c42b0>, 'sky130_fd_sc_hd__xor2_2': <LEFDEFParser.Macro object at 0x7d892e5c4db0>, 'sky130_fd_sc_hd__xor2_4': <LEFDEFParser.Macro object at 0x7d892e5c41b0>, 'sky130_fd_sc_hd__xor3_1': <LEFDEFParser.Macro object at 0x7d892e5c7970>, 'sky130_fd_sc_hd__xor3_2': <LEFDEFParser.Macro object at 0x7d892e5c7770>, 'sky130_fd_sc_hd__xor3_4': <LEFDEFParser.Macro object at 0x7d892e5c5b30>}\n",
            "{<LEFDEFParser.Component object at 0x7d892e5dbf30>: 'sky130_fd_sc_hd__decap_3', <LEFDEFParser.Component object at 0x7d892e5c45f0>: 'sky130_fd_sc_hd__decap_3', <LEFDEFParser.Component object at 0x7d892e5c5af0>: 'sky130_fd_sc_hd__decap_3', <LEFDEFParser.Component object at 0x7d892e5c6030>: 'sky130_fd_sc_hd__decap_3', <LEFDEFParser.Component object at 0x7d892e5c45b0>: 'sky130_fd_sc_hd__decap_3', <LEFDEFParser.Component object at 0x7d892e5c55f0>: 'sky130_fd_sc_hd__decap_3', <LEFDEFParser.Component object at 0x7d892e5c6370>: 'sky130_fd_sc_hd__decap_3', <LEFDEFParser.Component object at 0x7d892e5c4930>: 'sky130_fd_sc_hd__decap_3', <LEFDEFParser.Component object at 0x7d892e5c60b0>: 'sky130_fd_sc_hd__decap_3', <LEFDEFParser.Component object at 0x7d892e5c46b0>: 'sky130_fd_sc_hd__decap_3', <LEFDEFParser.Component object at 0x7d892e5c6930>: 'sky130_fd_sc_hd__decap_3', <LEFDEFParser.Component object at 0x7d892e5c5cf0>: 'sky130_fd_sc_hd__decap_3', <LEFDEFParser.Component object at 0x7d892e5c7130>: 'sky130_fd_sc_hd__decap_3', <LEFDEFParser.Component object at 0x7d892e5c5c30>: 'sky130_fd_sc_hd__decap_3', <LEFDEFParser.Component object at 0x7d892e5c4cf0>: 'sky130_fd_sc_hd__tapvpwrvgnd_1', <LEFDEFParser.Component object at 0x7d892e5c78f0>: 'sky130_fd_sc_hd__tapvpwrvgnd_1', <LEFDEFParser.Component object at 0x7d892e5c67f0>: 'sky130_fd_sc_hd__tapvpwrvgnd_1', <LEFDEFParser.Component object at 0x7d892e5c4230>: 'sky130_fd_sc_hd__tapvpwrvgnd_1', <LEFDEFParser.Component object at 0x7d892e5c49f0>: 'sky130_fd_sc_hd__nand2_1', <LEFDEFParser.Component object at 0x7d892e5c78b0>: 'sky130_fd_sc_hd__a22o_1', <LEFDEFParser.Component object at 0x7d892e5c73b0>: 'sky130_fd_sc_hd__o21a_1', <LEFDEFParser.Component object at 0x7d892e5c43f0>: 'sky130_fd_sc_hd__dfxtp_1', <LEFDEFParser.Component object at 0x7d892e5c60f0>: 'sky130_fd_sc_hd__dfxtp_1', <LEFDEFParser.Component object at 0x7d892e5c5bb0>: 'sky130_fd_sc_hd__dfxtp_1', <LEFDEFParser.Component object at 0x7d892e5c65f0>: 'sky130_fd_sc_hd__dfxtp_1', <LEFDEFParser.Component object at 0x7d892e5c7eb0>: 'sky130_fd_sc_hd__dfxtp_1', <LEFDEFParser.Component object at 0x7d892e5c6c70>: 'sky130_fd_sc_hd__dfxtp_1', <LEFDEFParser.Component object at 0x7d892e5c7030>: 'sky130_fd_sc_hd__dfxtp_1', <LEFDEFParser.Component object at 0x7d892e5c69f0>: 'sky130_fd_sc_hd__clkbuf_1', <LEFDEFParser.Component object at 0x7d892e5c4770>: 'sky130_fd_sc_hd__clkbuf_1', <LEFDEFParser.Component object at 0x7d892e5c6d70>: 'sky130_fd_sc_hd__clkbuf_1', <LEFDEFParser.Component object at 0x7d892e5c6e70>: 'sky130_fd_sc_hd__clkbuf_1', <LEFDEFParser.Component object at 0x7d892e5c50f0>: 'sky130_fd_sc_hd__clkbuf_1', <LEFDEFParser.Component object at 0x7d892e5c5130>: 'sky130_fd_sc_hd__buf_1', <LEFDEFParser.Component object at 0x7d892e5c5170>: 'sky130_fd_sc_hd__buf_1'}\n",
            "{'N1': [('_05_', 'Q'), ('_02_', 'A2')], 'N1_d': [('PIN', 'N1_d'), ('input1', 'A')], 'N2': [('_06_', 'Q'), ('_03_', 'A1'), ('_02_', 'B2')], 'N22': [('PIN', 'N22'), ('output6', 'X')], 'N22_d': [('_10_', 'D'), ('_02_', 'X')], 'N23': [('PIN', 'N23'), ('output7', 'X')], 'N23_d': [('_04_', 'D'), ('_03_', 'X')], 'N2_d': [('PIN', 'N2_d'), ('input2', 'A')], 'N3': [('_07_', 'Q'), ('_02_', 'A1'), ('_01_', 'B')], 'N3_d': [('PIN', 'N3_d'), ('input3', 'A')], 'N6': [('_08_', 'Q'), ('_01_', 'A')], 'N6_d': [('PIN', 'N6_d'), ('input4', 'A')], 'N7': [('_09_', 'Q'), ('_03_', 'A2')], 'N7_d': [('PIN', 'N7_d'), ('input5', 'A')], '_00_': [('_03_', 'B1'), ('_02_', 'B1'), ('_01_', 'Y')], 'clk': [('PIN', 'clk'), ('_10_', 'CLK'), ('_09_', 'CLK'), ('_08_', 'CLK'), ('_07_', 'CLK'), ('_06_', 'CLK'), ('_05_', 'CLK'), ('_04_', 'CLK')], 'net1': [('input1', 'X'), ('_05_', 'D')], 'net2': [('input2', 'X'), ('_06_', 'D')], 'net3': [('input3', 'X'), ('_07_', 'D')], 'net4': [('input4', 'X'), ('_08_', 'D')], 'net5': [('input5', 'X'), ('_09_', 'D')], 'net6': [('output6', 'A'), ('_10_', 'Q')], 'net7': [('output7', 'A'), ('_04_', 'Q')]}\n",
            "{'li1': 170, 'met1': 140, 'met2': 140, 'met3': 300, 'met4': 300, 'met5': 1600}\n",
            "{'li1': 170, 'met1': 200, 'met2': 320, 'met3': 380, 'met4': 620, 'met5': 1800}\n"
          ]
        }
      ]
    },
    {
      "cell_type": "markdown",
      "source": [
        "**Transforming pin locations  and obstructions acccording to orientation and storing it in a dictionary**"
      ],
      "metadata": {
        "id": "agB5ZiyYP48c"
      }
    },
    {
      "cell_type": "code",
      "source": [
        "class Inst:\n",
        "  def __init__(self, comp, macro):\n",
        "    self._comp = comp\n",
        "    self._macro = macro\n",
        "    origin = comp.location()\n",
        "    self._bbox = Rect(origin.x, origin.y, origin.x + macro.xdim(), origin.y + macro.ydim())\n",
        "    self._pins = dict()\n",
        "    self._obsts = dict()\n",
        "    for p in macro.pins():\n",
        "      shapes = dict()\n",
        "      for port in p.ports():\n",
        "        for layer, rects in port.items():\n",
        "          if layer not in layerColors: continue\n",
        "          if layer not in shapes: shapes[layer] = list()\n",
        "          for v in rects:\n",
        "            r = Rect(v.ll.x, v.ll.y, v.ur.x, v.ur.y)\n",
        "            r.transform(comp.orient(), origin, macro.xdim(), macro.ydim())\n",
        "            shapes[layer].append(r)\n",
        "      self._pins[p.name()] = shapes\n",
        "\n",
        "    for layer, rects in macro.obstructions().items():\n",
        "      if layer not in layerColors: continue\n",
        "      if layer not in self._obsts: self._obsts[layer] = list()\n",
        "      for v in rects:\n",
        "        r = Rect(v.ll.x, v.ll.y, v.ur.x, v.ur.y)\n",
        "        r.transform(comp.orient(), origin, macro.xdim(), macro.ydim())\n",
        "        self._obsts[layer].append(r)\n",
        "cell_pin={}\n",
        "for i in cells.keys():\n",
        "  inst=Inst(i,macros[cells[i]])\n",
        "  for i in inst._pins.keys():\n",
        "    if i in skipCells:\n",
        "      continue\n",
        "    if len(inst._pins[i])==0:\n",
        "      continue\n",
        "    cell_pin[(inst._comp.name(),i)]=inst._pins[i]\n",
        "print(cell_pin)\n"
      ],
      "metadata": {
        "colab": {
          "base_uri": "https://localhost:8080/"
        },
        "id": "NsMRKCMkP3tI",
        "outputId": "acd029fb-7e92-44fe-e927-cc307bc5eba5"
      },
      "execution_count": 52,
      "outputs": [
        {
          "output_type": "stream",
          "name": "stdout",
          "text": [
            "{('PHY_EDGE_ROW_0_Left_7', 'VGND'): {'met1': [[(5520,10640),(6900,11120)]]}, ('PHY_EDGE_ROW_0_Left_7', 'VPWR'): {'met1': [[(5520,13360),(6900,13840)]]}, ('PHY_EDGE_ROW_0_Right_0', 'VGND'): {'met1': [[(23460,10640),(24840,11120)]]}, ('PHY_EDGE_ROW_0_Right_0', 'VPWR'): {'met1': [[(23460,13360),(24840,13840)]]}, ('PHY_EDGE_ROW_1_Left_8', 'VGND'): {'met1': [[(5520,16080),(6900,16560)]]}, ('PHY_EDGE_ROW_1_Left_8', 'VPWR'): {'met1': [[(5520,13360),(6900,13840)]]}, ('PHY_EDGE_ROW_1_Right_1', 'VGND'): {'met1': [[(23460,16080),(24840,16560)]]}, ('PHY_EDGE_ROW_1_Right_1', 'VPWR'): {'met1': [[(23460,13360),(24840,13840)]]}, ('PHY_EDGE_ROW_2_Left_9', 'VGND'): {'met1': [[(5520,16080),(6900,16560)]]}, ('PHY_EDGE_ROW_2_Left_9', 'VPWR'): {'met1': [[(5520,18800),(6900,19280)]]}, ('PHY_EDGE_ROW_2_Right_2', 'VGND'): {'met1': [[(23460,16080),(24840,16560)]]}, ('PHY_EDGE_ROW_2_Right_2', 'VPWR'): {'met1': [[(23460,18800),(24840,19280)]]}, ('PHY_EDGE_ROW_3_Left_10', 'VGND'): {'met1': [[(5520,21520),(6900,22000)]]}, ('PHY_EDGE_ROW_3_Left_10', 'VPWR'): {'met1': [[(5520,18800),(6900,19280)]]}, ('PHY_EDGE_ROW_3_Right_3', 'VGND'): {'met1': [[(23460,21520),(24840,22000)]]}, ('PHY_EDGE_ROW_3_Right_3', 'VPWR'): {'met1': [[(23460,18800),(24840,19280)]]}, ('PHY_EDGE_ROW_4_Left_11', 'VGND'): {'met1': [[(5520,21520),(6900,22000)]]}, ('PHY_EDGE_ROW_4_Left_11', 'VPWR'): {'met1': [[(5520,24240),(6900,24720)]]}, ('PHY_EDGE_ROW_4_Right_4', 'VGND'): {'met1': [[(23460,21520),(24840,22000)]]}, ('PHY_EDGE_ROW_4_Right_4', 'VPWR'): {'met1': [[(23460,24240),(24840,24720)]]}, ('PHY_EDGE_ROW_5_Left_12', 'VGND'): {'met1': [[(5520,26960),(6900,27440)]]}, ('PHY_EDGE_ROW_5_Left_12', 'VPWR'): {'met1': [[(5520,24240),(6900,24720)]]}, ('PHY_EDGE_ROW_5_Right_5', 'VGND'): {'met1': [[(23460,26960),(24840,27440)]]}, ('PHY_EDGE_ROW_5_Right_5', 'VPWR'): {'met1': [[(23460,24240),(24840,24720)]]}, ('PHY_EDGE_ROW_6_Left_13', 'VGND'): {'met1': [[(5520,26960),(6900,27440)]]}, ('PHY_EDGE_ROW_6_Left_13', 'VPWR'): {'met1': [[(5520,29680),(6900,30160)]]}, ('PHY_EDGE_ROW_6_Right_6', 'VGND'): {'met1': [[(23460,26960),(24840,27440)]]}, ('PHY_EDGE_ROW_6_Right_6', 'VPWR'): {'met1': [[(23460,29680),(24840,30160)]]}, ('TAP_TAPCELL_ROW_0_14', 'VGND'): {'met1': [[(18400,10640),(18860,11120)]]}, ('TAP_TAPCELL_ROW_0_14', 'VPWR'): {'met1': [[(18400,13360),(18860,13840)]]}, ('TAP_TAPCELL_ROW_2_15', 'VGND'): {'met1': [[(18400,16080),(18860,16560)]]}, ('TAP_TAPCELL_ROW_2_15', 'VPWR'): {'met1': [[(18400,18800),(18860,19280)]]}, ('TAP_TAPCELL_ROW_4_16', 'VGND'): {'met1': [[(18400,21520),(18860,22000)]]}, ('TAP_TAPCELL_ROW_4_16', 'VPWR'): {'met1': [[(18400,24240),(18860,24720)]]}, ('TAP_TAPCELL_ROW_6_17', 'VGND'): {'met1': [[(18400,26960),(18860,27440)]]}, ('TAP_TAPCELL_ROW_6_17', 'VPWR'): {'met1': [[(18400,29680),(18860,30160)]]}, ('_01_', 'A'): {'li1': [[(18965,25875),(19300,26125)]]}, ('_01_', 'B'): {'li1': [[(19810,25875),(20145,26145)]]}, ('_01_', 'VGND'): {'met1': [[(18860,26960),(20240,27440)]]}, ('_01_', 'VPWR'): {'met1': [[(18860,24240),(20240,24720)]]}, ('_01_', 'Y'): {'li1': [[(19375,24735),(19705,25715)], [(19470,25715),(19640,26315)], [(18945,26315),(19640,26945)]]}, ('_02_', 'A1'): {'li1': [[(17045,25915),(17375,26125)], [(17165,26125),(17375,26525)]]}, ('_02_', 'A2'): {'li1': [[(16465,25855),(16875,26160)]]}, ('_02_', 'B1'): {'li1': [[(17620,25915),(18095,26125)], [(17620,26125),(17840,26525)]]}, ('_02_', 'B2'): {'li1': [[(18285,25925),(18775,26125)]]}, ('_02_', 'VGND'): {'met1': [[(15640,26960),(18860,27440)]]}, ('_02_', 'VPWR'): {'met1': [[(15640,24240),(18860,24720)]]}, ('_02_', 'X'): {'li1': [[(15725,24735),(15985,25415)], [(15725,25415),(15895,26615)], [(15725,26615),(15985,26945)]]}, ('_03_', 'A1'): {'li1': [[(18945,23035),(19175,23375)], [(18945,22835),(19275,23035)]]}, ('_03_', 'A2'): {'li1': [[(19465,23035),(19680,24150)], [(19465,22855),(19915,23035)], [(19585,22835),(19915,22855)]]}, ('_03_', 'B1'): {'li1': [[(20085,22835),(20555,23065)]]}, ('_03_', 'VGND'): {'met1': [[(18860,21520),(21620,22000)]]}, ('_03_', 'VPWR'): {'met1': [[(18860,24240),(21620,24720)]]}, ('_03_', 'X'): {'li1': [[(21255,22790),(21535,24225)], [(21195,22015),(21535,22790)]]}, ('_04_', 'CLK'): {'li1': [[(14350,14695),(14700,15345)]]}, ('_04_', 'D'): {'li1': [[(15630,14655),(15910,15605)]]}, ('_04_', 'VGND'): {'met1': [[(14260,16080),(21620,16560)]]}, ('_04_', 'VPWR'): {'met1': [[(14260,13360),(21620,13840)]]}, ('_04_', 'Q'): {'li1': [[(21145,13900),(21475,14745)], [(21145,14745),(21535,14825)], [(21320,14825),(21535,14875)], [(21365,14875),(21535,15455)], [(21310,15455),(21535,15495)], [(21155,15495),(21535,15580)], [(21155,15580),(21485,16015)]]}, ('_05_', 'CLK'): {'li1': [[(8370,25575),(8720,26225)]]}, ('_05_', 'D'): {'li1': [[(9650,25535),(9930,26485)]]}, ('_05_', 'VGND'): {'met1': [[(8280,26960),(15640,27440)]]}, ('_05_', 'VPWR'): {'met1': [[(8280,24240),(15640,24720)]]}, ('_05_', 'Q'): {'li1': [[(15165,24780),(15495,25625)], [(15165,25625),(15555,25705)], [(15340,25705),(15555,25755)], [(15385,25755),(15555,26335)], [(15330,26335),(15555,26375)], [(15175,26375),(15555,26460)], [(15175,26460),(15505,26895)]]}, ('_06_', 'CLK'): {'li1': [[(11130,22735),(11480,23385)]]}, ('_06_', 'D'): {'li1': [[(12410,22475),(12690,23425)]]}, ('_06_', 'VGND'): {'met1': [[(11040,21520),(18400,22000)]]}, ('_06_', 'VPWR'): {'met1': [[(11040,24240),(18400,24720)]]}, ('_06_', 'Q'): {'li1': [[(17925,23335),(18255,24180)], [(17925,23255),(18315,23335)], [(18100,23205),(18315,23255)], [(18145,22625),(18315,23205)], [(18090,22585),(18315,22625)], [(17935,22500),(18315,22585)], [(17935,22065),(18265,22500)]]}, ('_07_', 'CLK'): {'li1': [[(20720,20135),(21070,20785)]]}, ('_07_', 'D'): {'li1': [[(19510,20095),(19790,21045)]]}, ('_07_', 'VGND'): {'met1': [[(13800,21520),(21160,22000)]]}, ('_07_', 'VPWR'): {'met1': [[(13800,18800),(21160,19280)]]}, ('_07_', 'Q'): {'li1': [[(13945,19340),(14275,20185)], [(13885,20185),(14275,20265)], [(13885,20265),(14100,20315)], [(13885,20315),(14055,20895)], [(13885,20895),(14110,20935)], [(13885,20935),(14265,21020)], [(13935,21020),(14265,21455)]]}, ('_08_', 'CLK'): {'li1': [[(6990,14695),(7340,15345)]]}, ('_08_', 'D'): {'li1': [[(8270,14655),(8550,15605)]]}, ('_08_', 'VGND'): {'met1': [[(6900,16080),(14260,16560)]]}, ('_08_', 'VPWR'): {'met1': [[(6900,13360),(14260,13840)]]}, ('_08_', 'Q'): {'li1': [[(13785,13900),(14115,14745)], [(13785,14745),(14175,14825)], [(13960,14825),(14175,14875)], [(14005,14875),(14175,15455)], [(13950,15455),(14175,15495)], [(13795,15495),(14175,15580)], [(13795,15580),(14125,16015)]]}, ('_09_', 'CLK'): {'li1': [[(8370,17295),(8720,17945)]]}, ('_09_', 'D'): {'li1': [[(9650,17035),(9930,17985)]]}, ('_09_', 'VGND'): {'met1': [[(8280,16080),(15640,16560)]]}, ('_09_', 'VPWR'): {'met1': [[(8280,18800),(15640,19280)]]}, ('_09_', 'Q'): {'li1': [[(15165,17895),(15495,18740)], [(15165,17815),(15555,17895)], [(15340,17765),(15555,17815)], [(15385,17185),(15555,17765)], [(15330,17145),(15555,17185)], [(15175,17060),(15555,17145)], [(15175,16625),(15505,17060)]]}, ('_10_', 'CLK'): {'li1': [[(17040,11855),(17390,12505)]]}, ('_10_', 'D'): {'li1': [[(15830,11595),(16110,12545)]]}, ('_10_', 'VGND'): {'met1': [[(10120,10640),(17480,11120)]]}, ('_10_', 'VPWR'): {'met1': [[(10120,13360),(17480,13840)]]}, ('_10_', 'Q'): {'li1': [[(10265,12455),(10595,13300)], [(10205,12375),(10595,12455)], [(10205,12325),(10420,12375)], [(10205,11745),(10375,12325)], [(10205,11705),(10430,11745)], [(10205,11620),(10585,11705)], [(10255,11185),(10585,11620)]]}, ('input1', 'A'): {'li1': [[(7005,28185),(7335,28555)]]}, ('input1', 'VGND'): {'met1': [[(6900,26960),(8280,27440)]]}, ('input1', 'VPWR'): {'met1': [[(6900,29680),(8280,30160)]]}, ('input1', 'X'): {'li1': [[(7925,28760),(8195,29665)], [(8025,27960),(8195,28760)], [(7935,27455),(8195,27960)]]}, ('input2', 'A'): {'li1': [[(16585,28185),(16915,28555)]]}, ('input2', 'VGND'): {'met1': [[(15640,26960),(17020,27440)]]}, ('input2', 'VPWR'): {'met1': [[(15640,29680),(17020,30160)]]}, ('input2', 'X'): {'li1': [[(15725,28760),(15995,29665)], [(15725,27960),(15895,28760)], [(15725,27455),(15985,27960)]]}, ('input3', 'A'): {'li1': [[(23025,28185),(23355,28555)]]}, ('input3', 'VGND'): {'met1': [[(22080,26960),(23460,27440)]]}, ('input3', 'VPWR'): {'met1': [[(22080,29680),(23460,30160)]]}, ('input3', 'X'): {'li1': [[(22165,28760),(22435,29665)], [(22165,27960),(22335,28760)], [(22165,27455),(22425,27960)]]}, ('input4', 'A'): {'li1': [[(7005,17305),(7335,17675)]]}, ('input4', 'VGND'): {'met1': [[(6900,16080),(8280,16560)]]}, ('input4', 'VPWR'): {'met1': [[(6900,18800),(8280,19280)]]}, ('input4', 'X'): {'li1': [[(7925,17880),(8195,18785)], [(8025,17080),(8195,17880)], [(7935,16575),(8195,17080)]]}, ('input5', 'A'): {'li1': [[(8385,28185),(8715,28555)]]}, ('input5', 'VGND'): {'met1': [[(8280,26960),(9660,27440)]]}, ('input5', 'VPWR'): {'met1': [[(8280,29680),(9660,30160)]]}, ('input5', 'X'): {'li1': [[(9305,28760),(9575,29665)], [(9405,27960),(9575,28760)], [(9315,27455),(9575,27960)]]}, ('output6', 'A'): {'li1': [[(8755,11865),(9095,12235)]]}, ('output6', 'VGND'): {'met1': [[(7820,10640),(9200,11120)]]}, ('output6', 'VPWR'): {'met1': [[(7820,13360),(9200,13840)]]}, ('output6', 'X'): {'li1': [[(7905,12440),(8175,13345)], [(7905,11640),(8085,12440)], [(7905,11135),(8165,11640)]]}, ('output7', 'A'): {'li1': [[(22185,11865),(22525,12235)]]}, ('output7', 'VGND'): {'met1': [[(22080,10640),(23460,11120)]]}, ('output7', 'VPWR'): {'met1': [[(22080,13360),(23460,13840)]]}, ('output7', 'X'): {'li1': [[(23105,12440),(23375,13345)], [(23195,11640),(23375,12440)], [(23115,11135),(23375,11640)]]}}\n"
          ]
        }
      ]
    },
    {
      "cell_type": "code",
      "source": [],
      "metadata": {
        "id": "S8OmBRsxRDWB"
      },
      "execution_count": null,
      "outputs": []
    },
    {
      "cell_type": "markdown",
      "source": [
        "**Dictionary for storing location of pins for each cell.**"
      ],
      "metadata": {
        "id": "AvcWaQQ7I_8w"
      }
    },
    {
      "cell_type": "code",
      "source": [],
      "metadata": {
        "id": "a7SvED3VJOpM"
      },
      "execution_count": null,
      "outputs": []
    }
  ]
}