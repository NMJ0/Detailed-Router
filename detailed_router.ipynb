{
  "nbformat": 4,
  "nbformat_minor": 0,
  "metadata": {
    "colab": {
      "provenance": [],
      "authorship_tag": "ABX9TyMcmGL0xckl7IJRLw0CZHYt",
      "include_colab_link": true
    },
    "kernelspec": {
      "name": "python3",
      "display_name": "Python 3"
    },
    "language_info": {
      "name": "python"
    }
  },
  "cells": [
    {
      "cell_type": "markdown",
      "metadata": {
        "id": "view-in-github",
        "colab_type": "text"
      },
      "source": [
        "<a href=\"https://colab.research.google.com/github/NMJ0/Detailed-Router/blob/main/detailed_router.ipynb\" target=\"_parent\"><img src=\"https://colab.research.google.com/assets/colab-badge.svg\" alt=\"Open In Colab\"/></a>"
      ]
    },
    {
      "cell_type": "markdown",
      "source": [
        "**Required Installations and imports**"
      ],
      "metadata": {
        "id": "tgz-i_rQKDxM"
      }
    },
    {
      "cell_type": "code",
      "source": [
        "!pip install --break-system-packages https://raw.githubusercontent.com/srini229/EE5333_tutorials/master/parser/LEFDEFParser-0.1-cp311-cp311-linux_x86_64.whl\n",
        "!wget https://raw.githubusercontent.com/srini229/EE5333_tutorials/master/project/def/c17.def\n",
        "!wget https://raw.githubusercontent.com/srini229/EE5333_tutorials/refs/heads/master/project/lef/sky130.lef"
      ],
      "metadata": {
        "id": "95g7b1UwJbPe"
      },
      "execution_count": null,
      "outputs": []
    },
    {
      "cell_type": "code",
      "source": [
        "import requests\n",
        "import LEFDEFParser\n"
      ],
      "metadata": {
        "id": "3vyF1rWUJVcn"
      },
      "execution_count": 12,
      "outputs": []
    },
    {
      "cell_type": "markdown",
      "source": [
        "**Parser for global routing solutions**.\\\n",
        "Returns a dictionary with net names as keys and their global routing solutions as values"
      ],
      "metadata": {
        "id": "TNovxIGCIa5q"
      }
    },
    {
      "cell_type": "code",
      "source": [
        "url = \"https://raw.githubusercontent.com/srini229/EE5333_tutorials/refs/heads/master/project/gr/c17.guide\"\n",
        "response = requests.get(url)\n",
        "lines = response.text.splitlines()\n",
        "global_route={}\n",
        "n=len(lines)\n",
        "m=0\n",
        "while True:\n",
        "  if m>=n-1:\n",
        "    break\n",
        "  name=lines[m]\n",
        "  global_route[name]=[]\n",
        "  m+=1\n",
        "  while True:\n",
        "    if lines[m]==')':\n",
        "      m+=1\n",
        "      break\n",
        "    if lines[m]=='(':\n",
        "      m+=1\n",
        "    x1,y1,x2,y2,layer=map(str,lines[m].split())\n",
        "    global_route[name].append({layer:[[int(x1),int(y1)],[int(x2),int(y2)]]})\n",
        "    m+=1\n",
        "print(global_route)\n",
        "#global_route"
      ],
      "metadata": {
        "colab": {
          "base_uri": "https://localhost:8080/"
        },
        "id": "idUbihDs-jpt",
        "outputId": "c128e81e-9323-41af-fdd4-20e6e3bd8490"
      },
      "execution_count": 14,
      "outputs": [
        {
          "output_type": "stream",
          "name": "stdout",
          "text": [
            "{'N1': [{'li1': [[13800, 20700], [20700, 27600]]}, {'met1': [[13800, 20700], [20700, 27600]]}], 'N1_d': [{'met2': [[0, 20700], [6900, 34500]]}, {'met1': [[0, 27600], [6900, 34500]]}, {'met1': [[0, 27600], [13800, 34500]]}, {'li1': [[6900, 27600], [13800, 34500]]}, {'met2': [[0, 20700], [6900, 41420]]}], 'N2': [{'li1': [[13800, 20700], [20700, 27600]]}, {'met1': [[13800, 20700], [20700, 27600]]}], 'N22': [{'li1': [[6900, 6900], [13800, 13800]]}, {'met1': [[6900, 6900], [13800, 13800]]}, {'met2': [[6900, 0], [13800, 13800]]}], 'N22_d': [{'li1': [[13800, 20700], [20700, 27600]]}, {'met1': [[13800, 20700], [20700, 27600]]}, {'met2': [[13800, 6900], [20700, 27600]]}, {'met1': [[13800, 6900], [20700, 13800]]}, {'li1': [[13800, 6900], [20700, 13800]]}], 'N23': [{'li1': [[20700, 6900], [30700, 13800]]}, {'met1': [[20700, 6900], [30700, 13800]]}, {'met2': [[20700, 0], [30700, 13800]]}], 'N23_d': [{'li1': [[13800, 13800], [20700, 20700]]}, {'met1': [[13800, 13800], [20700, 20700]]}, {'met2': [[13800, 13800], [20700, 27600]]}, {'met1': [[13800, 20700], [20700, 27600]]}, {'met1': [[13800, 20700], [30700, 27600]]}, {'li1': [[20700, 20700], [30700, 27600]]}], 'N2_d': [{'met2': [[13800, 27600], [20700, 41420]]}, {'met1': [[13800, 27600], [20700, 34500]]}, {'li1': [[13800, 27600], [20700, 34500]]}], 'N3': [{'li1': [[13800, 13800], [20700, 20700]]}, {'met1': [[13800, 13800], [20700, 20700]]}, {'met2': [[13800, 13800], [20700, 27600]]}, {'met1': [[13800, 20700], [20700, 27600]]}, {'li1': [[13800, 20700], [20700, 27600]]}], 'N3_d': [{'met2': [[20700, 27600], [30700, 41420]]}, {'met1': [[20700, 27600], [30700, 34500]]}, {'li1': [[20700, 27600], [30700, 34500]]}], 'N6': [{'li1': [[13800, 13800], [20700, 20700]]}, {'met1': [[13800, 13800], [20700, 20700]]}, {'met2': [[13800, 13800], [20700, 27600]]}, {'met1': [[13800, 20700], [20700, 27600]]}, {'li1': [[13800, 20700], [20700, 27600]]}], 'N6_d': [{'li1': [[6900, 13800], [13800, 20700]]}, {'met1': [[6900, 13800], [20700, 20700]]}, {'met1': [[13800, 13800], [20700, 20700]]}, {'met2': [[13800, 6900], [20700, 20700]]}, {'met2': [[13800, 6900], [20700, 13800]]}, {'met3': [[0, 6900], [20700, 13800]]}], 'N7': [{'li1': [[13800, 13800], [20700, 20700]]}, {'met1': [[13800, 13800], [20700, 20700]]}, {'met2': [[13800, 13800], [20700, 27600]]}, {'met1': [[13800, 20700], [20700, 27600]]}, {'li1': [[13800, 20700], [20700, 27600]]}], 'N7_d': [{'met1': [[0, 27600], [6900, 34500]]}, {'met2': [[0, 27600], [6900, 34500]]}, {'met3': [[0, 27600], [6900, 34500]]}, {'met1': [[0, 27600], [13800, 34500]]}, {'li1': [[6900, 27600], [13800, 34500]]}], '_00_': [{'li1': [[13800, 20700], [20700, 27600]]}, {'met1': [[13800, 20700], [20700, 27600]]}], 'clk': [{'li1': [[20700, 13800], [30700, 20700]]}, {'met1': [[20700, 13800], [30700, 20700]]}, {'met2': [[20700, 6900], [30700, 20700]]}, {'met1': [[20700, 6900], [30700, 13800]]}, {'met1': [[13800, 6900], [30700, 13800]]}, {'li1': [[13800, 6900], [20700, 13800]]}, {'li1': [[13800, 13800], [20700, 20700]]}, {'met1': [[13800, 13800], [30700, 20700]]}, {'met2': [[20700, 20700], [30700, 27600]]}, {'met3': [[20700, 20700], [30700, 27600]]}, {'met2': [[20700, 13800], [30700, 27600]]}, {'li1': [[6900, 13800], [13800, 20700]]}, {'met1': [[6900, 13800], [13800, 20700]]}, {'met2': [[6900, 13800], [13800, 27600]]}, {'met1': [[6900, 20700], [13800, 27600]]}, {'li1': [[6900, 20700], [13800, 27600]]}, {'met1': [[6900, 13800], [20700, 20700]]}], 'net1': [{'li1': [[6900, 27600], [13800, 34500]]}, {'met1': [[6900, 27600], [13800, 34500]]}, {'met2': [[6900, 20700], [13800, 34500]]}, {'met1': [[6900, 20700], [13800, 27600]]}, {'li1': [[6900, 20700], [13800, 27600]]}], 'net2': [{'li1': [[6900, 20700], [13800, 27600]]}, {'met1': [[6900, 20700], [20700, 27600]]}, {'met1': [[13800, 20700], [20700, 27600]]}, {'met2': [[13800, 20700], [20700, 34500]]}, {'met1': [[13800, 27600], [20700, 34500]]}, {'li1': [[13800, 27600], [20700, 34500]]}], 'net3': [{'li1': [[13800, 13800], [20700, 20700]]}, {'met1': [[13800, 13800], [30700, 20700]]}, {'met1': [[20700, 13800], [30700, 20700]]}, {'met2': [[20700, 13800], [30700, 34500]]}, {'met1': [[20700, 27600], [30700, 34500]]}, {'li1': [[20700, 27600], [30700, 34500]]}], 'net4': [{'li1': [[6900, 13800], [13800, 20700]]}, {'met1': [[6900, 13800], [13800, 20700]]}], 'net5': [{'li1': [[6900, 27600], [13800, 34500]]}, {'met1': [[6900, 27600], [13800, 34500]]}, {'met2': [[6900, 13800], [13800, 34500]]}, {'met1': [[6900, 13800], [13800, 20700]]}, {'li1': [[6900, 13800], [13800, 20700]]}], 'net6': [{'li1': [[6900, 6900], [13800, 13800]]}, {'met1': [[6900, 6900], [13800, 13800]]}], 'net7': [{'li1': [[20700, 13800], [30700, 20700]]}, {'met1': [[20700, 13800], [30700, 20700]]}, {'met2': [[20700, 6900], [30700, 20700]]}, {'met1': [[20700, 6900], [30700, 13800]]}, {'li1': [[20700, 6900], [30700, 13800]]}]}\n"
          ]
        }
      ]
    },
    {
      "cell_type": "markdown",
      "source": [
        "**DEF and LEF reader**"
      ],
      "metadata": {
        "id": "Ga1Pc1__JSJ9"
      }
    },
    {
      "cell_type": "code",
      "source": [
        "l = LEFDEFParser.LEFReader()\n",
        "leffile=\"sky130.lef\"\n",
        "l.readLEF(leffile)\n",
        "d = LEFDEFParser.DEFReader()\n",
        "deffile=\"c17.def\"\n",
        "d.readDEF(deffile)\n",
        "\n",
        "cells={}\n",
        "for i in d.components():\n",
        "  cells[i.name()]=i.macro()\n",
        "\n",
        "nets={}\n",
        "for i in d.nets():\n",
        "  nets[i.name()]=i.pins()\n",
        "\n",
        "#cells\n",
        "#nets"
      ],
      "metadata": {
        "id": "A9_t6ie-JR39"
      },
      "execution_count": 18,
      "outputs": []
    },
    {
      "cell_type": "markdown",
      "source": [
        "**Dictionary for storing location of pins for each cell.**"
      ],
      "metadata": {
        "id": "AvcWaQQ7I_8w"
      }
    },
    {
      "cell_type": "code",
      "source": [],
      "metadata": {
        "id": "a7SvED3VJOpM"
      },
      "execution_count": null,
      "outputs": []
    }
  ]
}