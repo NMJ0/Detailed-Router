{
  "nbformat": 4,
  "nbformat_minor": 0,
  "metadata": {
    "colab": {
      "provenance": [],
      "authorship_tag": "ABX9TyNZLr9qKuixtpRR4ghm79PG",
      "include_colab_link": true
    },
    "kernelspec": {
      "name": "python3",
      "display_name": "Python 3"
    },
    "language_info": {
      "name": "python"
    }
  },
  "cells": [
    {
      "cell_type": "markdown",
      "metadata": {
        "id": "view-in-github",
        "colab_type": "text"
      },
      "source": [
        "<a href=\"https://colab.research.google.com/github/NMJ0/Detailed-Router/blob/main/detailed_router.ipynb\" target=\"_parent\"><img src=\"https://colab.research.google.com/assets/colab-badge.svg\" alt=\"Open In Colab\"/></a>"
      ]
    },
    {
      "cell_type": "markdown",
      "source": [
        "**Required Installations and imports**"
      ],
      "metadata": {
        "id": "tgz-i_rQKDxM"
      }
    },
    {
      "cell_type": "code",
      "source": [
        "!pip install --break-system-packages https://raw.githubusercontent.com/srini229/EE5333_tutorials/master/parser/LEFDEFParser-0.1-cp311-cp311-linux_x86_64.whl\n",
        "!wget https://raw.githubusercontent.com/srini229/EE5333_tutorials/master/project/def/c17.def\n",
        "!wget https://raw.githubusercontent.com/srini229/EE5333_tutorials/refs/heads/master/project/lef/sky130.lef"
      ],
      "metadata": {
        "colab": {
          "base_uri": "https://localhost:8080/"
        },
        "id": "95g7b1UwJbPe",
        "outputId": "bdf2dd79-d180-4ba3-e487-b7a1556f3caa"
      },
      "execution_count": 1,
      "outputs": [
        {
          "output_type": "stream",
          "name": "stdout",
          "text": [
            "Collecting LEFDEFParser==0.1\n",
            "  Downloading https://raw.githubusercontent.com/srini229/EE5333_tutorials/master/parser/LEFDEFParser-0.1-cp311-cp311-linux_x86_64.whl (629 kB)\n",
            "\u001b[2K     \u001b[90m━━━━━━━━━━━━━━━━━━━━━━━━━━━━━━━━━━━━━━━\u001b[0m \u001b[32m629.9/629.9 kB\u001b[0m \u001b[31m5.3 MB/s\u001b[0m eta \u001b[36m0:00:00\u001b[0m\n",
            "\u001b[?25hInstalling collected packages: LEFDEFParser\n",
            "Successfully installed LEFDEFParser-0.1\n",
            "--2025-05-19 04:34:04--  https://raw.githubusercontent.com/srini229/EE5333_tutorials/master/project/def/c17.def\n",
            "Resolving raw.githubusercontent.com (raw.githubusercontent.com)... 185.199.110.133, 185.199.111.133, 185.199.109.133, ...\n",
            "Connecting to raw.githubusercontent.com (raw.githubusercontent.com)|185.199.110.133|:443... connected.\n",
            "HTTP request sent, awaiting response... 200 OK\n",
            "Length: 15173 (15K) [text/plain]\n",
            "Saving to: ‘c17.def’\n",
            "\n",
            "c17.def             100%[===================>]  14.82K  --.-KB/s    in 0.001s  \n",
            "\n",
            "2025-05-19 04:34:05 (10.8 MB/s) - ‘c17.def’ saved [15173/15173]\n",
            "\n",
            "--2025-05-19 04:34:05--  https://raw.githubusercontent.com/srini229/EE5333_tutorials/refs/heads/master/project/lef/sky130.lef\n",
            "Resolving raw.githubusercontent.com (raw.githubusercontent.com)... 185.199.110.133, 185.199.111.133, 185.199.109.133, ...\n",
            "Connecting to raw.githubusercontent.com (raw.githubusercontent.com)|185.199.110.133|:443... connected.\n",
            "HTTP request sent, awaiting response... 200 OK\n",
            "Length: 1423138 (1.4M) [text/plain]\n",
            "Saving to: ‘sky130.lef’\n",
            "\n",
            "sky130.lef          100%[===================>]   1.36M  --.-KB/s    in 0.09s   \n",
            "\n",
            "2025-05-19 04:34:05 (14.4 MB/s) - ‘sky130.lef’ saved [1423138/1423138]\n",
            "\n"
          ]
        }
      ]
    },
    {
      "cell_type": "code",
      "source": [
        "import requests\n",
        "import LEFDEFParser\n",
        "from LEFDEFParser import Rect\n",
        "import math\n",
        "import heapq as hq\n"
      ],
      "metadata": {
        "id": "3vyF1rWUJVcn"
      },
      "execution_count": 14,
      "outputs": []
    },
    {
      "cell_type": "markdown",
      "source": [
        "**Parser for global routing solutions**.\\\n",
        "Returns a dictionary with net names as keys and their global routing solutions as values"
      ],
      "metadata": {
        "id": "TNovxIGCIa5q"
      }
    },
    {
      "cell_type": "code",
      "source": [
        "url = \"https://raw.githubusercontent.com/srini229/EE5333_tutorials/refs/heads/master/project/gr/c17.guide\"\n",
        "response = requests.get(url)\n",
        "lines = response.text.splitlines()\n",
        "global_route={}\n",
        "n=len(lines)\n",
        "m=0\n",
        "while True:\n",
        "  if m>=n-1:\n",
        "    break\n",
        "  name=lines[m]\n",
        "  global_route[name]=[]\n",
        "  m+=1\n",
        "  while True:\n",
        "    if lines[m]==')':\n",
        "      m+=1\n",
        "      break\n",
        "    if lines[m]=='(':\n",
        "      m+=1\n",
        "    x1,y1,x2,y2,layer=map(str,lines[m].split())\n",
        "    global_route[name].append([layer,[int(x1),int(y1),int(x2),int(y2)]])\n",
        "    m+=1\n",
        "print(global_route)\n",
        "#global_route"
      ],
      "metadata": {
        "colab": {
          "base_uri": "https://localhost:8080/"
        },
        "id": "idUbihDs-jpt",
        "outputId": "e72d1e8e-e50e-4b1d-ffd7-07e7b8ee02c3"
      },
      "execution_count": 3,
      "outputs": [
        {
          "output_type": "stream",
          "name": "stdout",
          "text": [
            "{'N1': [['li1', [13800, 20700, 20700, 27600]], ['met1', [13800, 20700, 20700, 27600]]], 'N1_d': [['met2', [0, 20700, 6900, 34500]], ['met1', [0, 27600, 6900, 34500]], ['met1', [0, 27600, 13800, 34500]], ['li1', [6900, 27600, 13800, 34500]], ['met2', [0, 20700, 6900, 41420]]], 'N2': [['li1', [13800, 20700, 20700, 27600]], ['met1', [13800, 20700, 20700, 27600]]], 'N22': [['li1', [6900, 6900, 13800, 13800]], ['met1', [6900, 6900, 13800, 13800]], ['met2', [6900, 0, 13800, 13800]]], 'N22_d': [['li1', [13800, 20700, 20700, 27600]], ['met1', [13800, 20700, 20700, 27600]], ['met2', [13800, 6900, 20700, 27600]], ['met1', [13800, 6900, 20700, 13800]], ['li1', [13800, 6900, 20700, 13800]]], 'N23': [['li1', [20700, 6900, 30700, 13800]], ['met1', [20700, 6900, 30700, 13800]], ['met2', [20700, 0, 30700, 13800]]], 'N23_d': [['li1', [13800, 13800, 20700, 20700]], ['met1', [13800, 13800, 20700, 20700]], ['met2', [13800, 13800, 20700, 27600]], ['met1', [13800, 20700, 20700, 27600]], ['met1', [13800, 20700, 30700, 27600]], ['li1', [20700, 20700, 30700, 27600]]], 'N2_d': [['met2', [13800, 27600, 20700, 41420]], ['met1', [13800, 27600, 20700, 34500]], ['li1', [13800, 27600, 20700, 34500]]], 'N3': [['li1', [13800, 13800, 20700, 20700]], ['met1', [13800, 13800, 20700, 20700]], ['met2', [13800, 13800, 20700, 27600]], ['met1', [13800, 20700, 20700, 27600]], ['li1', [13800, 20700, 20700, 27600]]], 'N3_d': [['met2', [20700, 27600, 30700, 41420]], ['met1', [20700, 27600, 30700, 34500]], ['li1', [20700, 27600, 30700, 34500]]], 'N6': [['li1', [13800, 13800, 20700, 20700]], ['met1', [13800, 13800, 20700, 20700]], ['met2', [13800, 13800, 20700, 27600]], ['met1', [13800, 20700, 20700, 27600]], ['li1', [13800, 20700, 20700, 27600]]], 'N6_d': [['li1', [6900, 13800, 13800, 20700]], ['met1', [6900, 13800, 20700, 20700]], ['met1', [13800, 13800, 20700, 20700]], ['met2', [13800, 6900, 20700, 20700]], ['met2', [13800, 6900, 20700, 13800]], ['met3', [0, 6900, 20700, 13800]]], 'N7': [['li1', [13800, 13800, 20700, 20700]], ['met1', [13800, 13800, 20700, 20700]], ['met2', [13800, 13800, 20700, 27600]], ['met1', [13800, 20700, 20700, 27600]], ['li1', [13800, 20700, 20700, 27600]]], 'N7_d': [['met1', [0, 27600, 6900, 34500]], ['met2', [0, 27600, 6900, 34500]], ['met3', [0, 27600, 6900, 34500]], ['met1', [0, 27600, 13800, 34500]], ['li1', [6900, 27600, 13800, 34500]]], '_00_': [['li1', [13800, 20700, 20700, 27600]], ['met1', [13800, 20700, 20700, 27600]]], 'clk': [['li1', [20700, 13800, 30700, 20700]], ['met1', [20700, 13800, 30700, 20700]], ['met2', [20700, 6900, 30700, 20700]], ['met1', [20700, 6900, 30700, 13800]], ['met1', [13800, 6900, 30700, 13800]], ['li1', [13800, 6900, 20700, 13800]], ['li1', [13800, 13800, 20700, 20700]], ['met1', [13800, 13800, 30700, 20700]], ['met2', [20700, 20700, 30700, 27600]], ['met3', [20700, 20700, 30700, 27600]], ['met2', [20700, 13800, 30700, 27600]], ['li1', [6900, 13800, 13800, 20700]], ['met1', [6900, 13800, 13800, 20700]], ['met2', [6900, 13800, 13800, 27600]], ['met1', [6900, 20700, 13800, 27600]], ['li1', [6900, 20700, 13800, 27600]], ['met1', [6900, 13800, 20700, 20700]]], 'net1': [['li1', [6900, 27600, 13800, 34500]], ['met1', [6900, 27600, 13800, 34500]], ['met2', [6900, 20700, 13800, 34500]], ['met1', [6900, 20700, 13800, 27600]], ['li1', [6900, 20700, 13800, 27600]]], 'net2': [['li1', [6900, 20700, 13800, 27600]], ['met1', [6900, 20700, 20700, 27600]], ['met1', [13800, 20700, 20700, 27600]], ['met2', [13800, 20700, 20700, 34500]], ['met1', [13800, 27600, 20700, 34500]], ['li1', [13800, 27600, 20700, 34500]]], 'net3': [['li1', [13800, 13800, 20700, 20700]], ['met1', [13800, 13800, 30700, 20700]], ['met1', [20700, 13800, 30700, 20700]], ['met2', [20700, 13800, 30700, 34500]], ['met1', [20700, 27600, 30700, 34500]], ['li1', [20700, 27600, 30700, 34500]]], 'net4': [['li1', [6900, 13800, 13800, 20700]], ['met1', [6900, 13800, 13800, 20700]]], 'net5': [['li1', [6900, 27600, 13800, 34500]], ['met1', [6900, 27600, 13800, 34500]], ['met2', [6900, 13800, 13800, 34500]], ['met1', [6900, 13800, 13800, 20700]], ['li1', [6900, 13800, 13800, 20700]]], 'net6': [['li1', [6900, 6900, 13800, 13800]], ['met1', [6900, 6900, 13800, 13800]]], 'net7': [['li1', [20700, 13800, 30700, 20700]], ['met1', [20700, 13800, 30700, 20700]], ['met2', [20700, 6900, 30700, 20700]], ['met1', [20700, 6900, 30700, 13800]], ['li1', [20700, 6900, 30700, 13800]]]}\n"
          ]
        }
      ]
    },
    {
      "cell_type": "markdown",
      "source": [
        "**Skip Cells and Skip Nets**"
      ],
      "metadata": {
        "id": "utmtQn_uS2v7"
      }
    },
    {
      "cell_type": "code",
      "source": [
        "skipCells = {\"sky130_fd_sc_hd__decap_3\", \"sky130_fd_sc_hd__decap_4\", \"sky130_fd_sc_hd__decap_6\", \"sky130_fd_sc_hd__decap_8\",\\\n",
        "            \"sky130_fd_sc_hd__decap_12\", \"sky130_fd_sc_hd__fill_1\", \"sky130_fd_sc_hd__fill_2\", \"sky130_fd_sc_hd__fill_4\",\n",
        "            \"sky130_fd_sc_hd__fill_8\", \"sky130_fd_sc_hd__lpflow_decapkapwr_3\", \"sky130_fd_sc_hd__lpflow_decapkapwr_4\",\\\n",
        "            \"sky130_fd_sc_hd__lpflow_decapkapwr_6\", \"sky130_fd_sc_hd__lpflow_decapkapwr_8\", \"sky130_fd_sc_hd__lpflow_decapkapwr_12\", \\\n",
        "            \"sky130_fd_sc_hd__lpflow_lsbuf_lh_hl_isowell_tap_1\", \"sky130_fd_sc_hd__lpflow_lsbuf_lh_hl_isowell_tap_2\", \\\n",
        "            \"sky130_fd_sc_hd__lpflow_lsbuf_lh_hl_isowell_tap_4\", \"sky130_fd_sc_hd__lpflow_lsbuf_lh_isowell_tap_1\", \\\n",
        "            \"sky130_fd_sc_hd__lpflow_lsbuf_lh_isowell_tap_2\", \"sky130_fd_sc_hd__lpflow_lsbuf_lh_isowell_tap_4\", \"sky130_fd_sc_hd__tap_1\", \\\n",
        "            \"sky130_fd_sc_hd__tap_2\", \"sky130_fd_sc_hd__tapvgnd2_1\", \"sky130_fd_sc_hd__tapvgnd_1\", \\\n",
        "            \"sky130_fd_sc_hd__tapvpwrvgnd_1\", \"sky130_ef_sc_hd__decap_12\"}\n",
        "\n",
        "layerColors = { 'li1': 'red', 'met1': 'blue', 'met2': 'green', 'met3': 'orange', 'met4': 'magenta', 'met5': 'cyan' }\n",
        "\n",
        "\n",
        "# skip power/ground/clock nets\n",
        "skipNets = {'clk', 'VPWR', 'VGND'}\n",
        "\n"
      ],
      "metadata": {
        "id": "UAyqeHD1OHzm"
      },
      "execution_count": 4,
      "outputs": []
    },
    {
      "cell_type": "markdown",
      "source": [
        "**DEF and LEF reader. Reading cells and nets.**"
      ],
      "metadata": {
        "id": "Ga1Pc1__JSJ9"
      }
    },
    {
      "cell_type": "code",
      "source": [
        "l = LEFDEFParser.LEFReader()\n",
        "leffile=\"sky130.lef\"\n",
        "l.readLEF(leffile)\n",
        "d = LEFDEFParser.DEFReader()\n",
        "deffile=\"c17.def\"\n",
        "d.readDEF(deffile)\n",
        "\n",
        "macros={}\n",
        "for i in l.macros():\n",
        "  macros[i.name()]=i\n",
        "\n",
        "cells={}\n",
        "for i in d.components():\n",
        "  cells[i]=i.macro()\n",
        "\n",
        "nets={}\n",
        "for i in d.nets():\n",
        "  nets[i.name()]=i.pins()\n",
        "print(macros)\n",
        "print(cells)\n",
        "print(nets)\n",
        "#cells\n",
        "#nets\n"
      ],
      "metadata": {
        "colab": {
          "base_uri": "https://localhost:8080/"
        },
        "id": "A9_t6ie-JR39",
        "outputId": "7bd03918-ba42-49ad-c942-56ca421d790f"
      },
      "execution_count": 5,
      "outputs": [
        {
          "output_type": "stream",
          "name": "stdout",
          "text": [
            "{'sky130_fd_sc_hd__a2bb2o_1': <LEFDEFParser.Macro object at 0x7b43caf2d1f0>, 'sky130_fd_sc_hd__a2bb2o_2': <LEFDEFParser.Macro object at 0x7b43caf2cd30>, 'sky130_fd_sc_hd__a2bb2o_4': <LEFDEFParser.Macro object at 0x7b43caf2d070>, 'sky130_fd_sc_hd__a2bb2oi_1': <LEFDEFParser.Macro object at 0x7b43caf2d170>, 'sky130_fd_sc_hd__a2bb2oi_2': <LEFDEFParser.Macro object at 0x7b43caf2d2b0>, 'sky130_fd_sc_hd__a2bb2oi_4': <LEFDEFParser.Macro object at 0x7b43caf2d2f0>, 'sky130_fd_sc_hd__a21bo_1': <LEFDEFParser.Macro object at 0x7b43caf2d330>, 'sky130_fd_sc_hd__a21bo_2': <LEFDEFParser.Macro object at 0x7b43caf2d370>, 'sky130_fd_sc_hd__a21bo_4': <LEFDEFParser.Macro object at 0x7b43caf2d3b0>, 'sky130_fd_sc_hd__a21boi_0': <LEFDEFParser.Macro object at 0x7b43caf2d3f0>, 'sky130_fd_sc_hd__a21boi_1': <LEFDEFParser.Macro object at 0x7b43caf2d430>, 'sky130_fd_sc_hd__a21boi_2': <LEFDEFParser.Macro object at 0x7b43caf2d470>, 'sky130_fd_sc_hd__a21boi_4': <LEFDEFParser.Macro object at 0x7b43caf2d4b0>, 'sky130_fd_sc_hd__a21o_1': <LEFDEFParser.Macro object at 0x7b43caf2d4f0>, 'sky130_fd_sc_hd__a21o_2': <LEFDEFParser.Macro object at 0x7b43caf2d530>, 'sky130_fd_sc_hd__a21o_4': <LEFDEFParser.Macro object at 0x7b43caf2d570>, 'sky130_fd_sc_hd__a21oi_1': <LEFDEFParser.Macro object at 0x7b43caf2d5b0>, 'sky130_fd_sc_hd__a21oi_2': <LEFDEFParser.Macro object at 0x7b43caf2d5f0>, 'sky130_fd_sc_hd__a21oi_4': <LEFDEFParser.Macro object at 0x7b43caf2d630>, 'sky130_fd_sc_hd__a22o_1': <LEFDEFParser.Macro object at 0x7b43caf2d670>, 'sky130_fd_sc_hd__a22o_2': <LEFDEFParser.Macro object at 0x7b43caf2d6b0>, 'sky130_fd_sc_hd__a22o_4': <LEFDEFParser.Macro object at 0x7b43caf2d6f0>, 'sky130_fd_sc_hd__a22oi_1': <LEFDEFParser.Macro object at 0x7b43caf2d730>, 'sky130_fd_sc_hd__a22oi_2': <LEFDEFParser.Macro object at 0x7b43caf2d770>, 'sky130_fd_sc_hd__a22oi_4': <LEFDEFParser.Macro object at 0x7b43caf2d7b0>, 'sky130_fd_sc_hd__a31o_1': <LEFDEFParser.Macro object at 0x7b43caf2d7f0>, 'sky130_fd_sc_hd__a31o_2': <LEFDEFParser.Macro object at 0x7b43caf2d830>, 'sky130_fd_sc_hd__a31o_4': <LEFDEFParser.Macro object at 0x7b43caf2d870>, 'sky130_fd_sc_hd__a31oi_1': <LEFDEFParser.Macro object at 0x7b43caf2d8b0>, 'sky130_fd_sc_hd__a31oi_2': <LEFDEFParser.Macro object at 0x7b43caf2d8f0>, 'sky130_fd_sc_hd__a31oi_4': <LEFDEFParser.Macro object at 0x7b43caf2d930>, 'sky130_fd_sc_hd__a32o_1': <LEFDEFParser.Macro object at 0x7b43caf2d970>, 'sky130_fd_sc_hd__a32o_2': <LEFDEFParser.Macro object at 0x7b43caf2d9b0>, 'sky130_fd_sc_hd__a32o_4': <LEFDEFParser.Macro object at 0x7b43caf2d9f0>, 'sky130_fd_sc_hd__a32oi_1': <LEFDEFParser.Macro object at 0x7b43caf2da30>, 'sky130_fd_sc_hd__a32oi_2': <LEFDEFParser.Macro object at 0x7b43caf2da70>, 'sky130_fd_sc_hd__a32oi_4': <LEFDEFParser.Macro object at 0x7b43caf2dab0>, 'sky130_fd_sc_hd__a41o_1': <LEFDEFParser.Macro object at 0x7b43caf2daf0>, 'sky130_fd_sc_hd__a41o_2': <LEFDEFParser.Macro object at 0x7b43caf2db30>, 'sky130_fd_sc_hd__a41o_4': <LEFDEFParser.Macro object at 0x7b43caf2db70>, 'sky130_fd_sc_hd__a41oi_1': <LEFDEFParser.Macro object at 0x7b43caf2dbb0>, 'sky130_fd_sc_hd__a41oi_2': <LEFDEFParser.Macro object at 0x7b43caf2dbf0>, 'sky130_fd_sc_hd__a41oi_4': <LEFDEFParser.Macro object at 0x7b43caf2dc30>, 'sky130_fd_sc_hd__a211o_1': <LEFDEFParser.Macro object at 0x7b43caf2dc70>, 'sky130_fd_sc_hd__a211o_2': <LEFDEFParser.Macro object at 0x7b43caf2dcb0>, 'sky130_fd_sc_hd__a211o_4': <LEFDEFParser.Macro object at 0x7b43caf2dcf0>, 'sky130_fd_sc_hd__a211oi_1': <LEFDEFParser.Macro object at 0x7b43caf2dd30>, 'sky130_fd_sc_hd__a211oi_2': <LEFDEFParser.Macro object at 0x7b43caf2dd70>, 'sky130_fd_sc_hd__a211oi_4': <LEFDEFParser.Macro object at 0x7b43caf2ddb0>, 'sky130_fd_sc_hd__a221o_1': <LEFDEFParser.Macro object at 0x7b43caf2ddf0>, 'sky130_fd_sc_hd__a221o_2': <LEFDEFParser.Macro object at 0x7b43caf2de30>, 'sky130_fd_sc_hd__a221o_4': <LEFDEFParser.Macro object at 0x7b43caf2de70>, 'sky130_fd_sc_hd__a221oi_1': <LEFDEFParser.Macro object at 0x7b43caf2deb0>, 'sky130_fd_sc_hd__a221oi_2': <LEFDEFParser.Macro object at 0x7b43caf2def0>, 'sky130_fd_sc_hd__a221oi_4': <LEFDEFParser.Macro object at 0x7b43caf2df30>, 'sky130_fd_sc_hd__a222oi_1': <LEFDEFParser.Macro object at 0x7b43caf2df70>, 'sky130_fd_sc_hd__a311o_1': <LEFDEFParser.Macro object at 0x7b43caf2dfb0>, 'sky130_fd_sc_hd__a311o_2': <LEFDEFParser.Macro object at 0x7b43caf2dff0>, 'sky130_fd_sc_hd__a311o_4': <LEFDEFParser.Macro object at 0x7b43caf2e030>, 'sky130_fd_sc_hd__a311oi_1': <LEFDEFParser.Macro object at 0x7b43caf2e070>, 'sky130_fd_sc_hd__a311oi_2': <LEFDEFParser.Macro object at 0x7b43caf2e0b0>, 'sky130_fd_sc_hd__a311oi_4': <LEFDEFParser.Macro object at 0x7b43caf2e0f0>, 'sky130_fd_sc_hd__a2111o_1': <LEFDEFParser.Macro object at 0x7b43caf2e130>, 'sky130_fd_sc_hd__a2111o_2': <LEFDEFParser.Macro object at 0x7b43caf2e170>, 'sky130_fd_sc_hd__a2111o_4': <LEFDEFParser.Macro object at 0x7b43caf2e1b0>, 'sky130_fd_sc_hd__a2111oi_0': <LEFDEFParser.Macro object at 0x7b43caf2e1f0>, 'sky130_fd_sc_hd__a2111oi_1': <LEFDEFParser.Macro object at 0x7b43caf2e230>, 'sky130_fd_sc_hd__a2111oi_2': <LEFDEFParser.Macro object at 0x7b43caf2e270>, 'sky130_fd_sc_hd__a2111oi_4': <LEFDEFParser.Macro object at 0x7b43caf2e2b0>, 'sky130_fd_sc_hd__and2_0': <LEFDEFParser.Macro object at 0x7b43caf2e2f0>, 'sky130_fd_sc_hd__and2_1': <LEFDEFParser.Macro object at 0x7b43caf2e330>, 'sky130_fd_sc_hd__and2_2': <LEFDEFParser.Macro object at 0x7b43caf2e370>, 'sky130_fd_sc_hd__and2_4': <LEFDEFParser.Macro object at 0x7b43caf2e3b0>, 'sky130_fd_sc_hd__and2b_1': <LEFDEFParser.Macro object at 0x7b43caf2e3f0>, 'sky130_fd_sc_hd__and2b_2': <LEFDEFParser.Macro object at 0x7b43caf2e430>, 'sky130_fd_sc_hd__and2b_4': <LEFDEFParser.Macro object at 0x7b43caf2e470>, 'sky130_fd_sc_hd__and3_1': <LEFDEFParser.Macro object at 0x7b43caf2e4b0>, 'sky130_fd_sc_hd__and3_2': <LEFDEFParser.Macro object at 0x7b43caf2e4f0>, 'sky130_fd_sc_hd__and3_4': <LEFDEFParser.Macro object at 0x7b43caf2e530>, 'sky130_fd_sc_hd__and3b_1': <LEFDEFParser.Macro object at 0x7b43caf2e570>, 'sky130_fd_sc_hd__and3b_2': <LEFDEFParser.Macro object at 0x7b43caf2e5b0>, 'sky130_fd_sc_hd__and3b_4': <LEFDEFParser.Macro object at 0x7b43caf2e5f0>, 'sky130_fd_sc_hd__and4_1': <LEFDEFParser.Macro object at 0x7b43caf2e630>, 'sky130_fd_sc_hd__and4_2': <LEFDEFParser.Macro object at 0x7b43caf2e670>, 'sky130_fd_sc_hd__and4_4': <LEFDEFParser.Macro object at 0x7b43caf2e6b0>, 'sky130_fd_sc_hd__and4b_1': <LEFDEFParser.Macro object at 0x7b43caf2e6f0>, 'sky130_fd_sc_hd__and4b_2': <LEFDEFParser.Macro object at 0x7b43caf2e730>, 'sky130_fd_sc_hd__and4b_4': <LEFDEFParser.Macro object at 0x7b43caf2e770>, 'sky130_fd_sc_hd__and4bb_1': <LEFDEFParser.Macro object at 0x7b43caf2e7b0>, 'sky130_fd_sc_hd__and4bb_2': <LEFDEFParser.Macro object at 0x7b43caf2e7f0>, 'sky130_fd_sc_hd__and4bb_4': <LEFDEFParser.Macro object at 0x7b43caf2e830>, 'sky130_fd_sc_hd__buf_1': <LEFDEFParser.Macro object at 0x7b43caf2e870>, 'sky130_fd_sc_hd__buf_2': <LEFDEFParser.Macro object at 0x7b43caf2e8b0>, 'sky130_fd_sc_hd__buf_4': <LEFDEFParser.Macro object at 0x7b43caf2e8f0>, 'sky130_fd_sc_hd__buf_6': <LEFDEFParser.Macro object at 0x7b43caf2e930>, 'sky130_fd_sc_hd__buf_8': <LEFDEFParser.Macro object at 0x7b43caf2e970>, 'sky130_fd_sc_hd__buf_12': <LEFDEFParser.Macro object at 0x7b43caf2e9b0>, 'sky130_fd_sc_hd__buf_16': <LEFDEFParser.Macro object at 0x7b43caf2e9f0>, 'sky130_fd_sc_hd__bufbuf_8': <LEFDEFParser.Macro object at 0x7b43caf2ea30>, 'sky130_fd_sc_hd__bufbuf_16': <LEFDEFParser.Macro object at 0x7b43caf2ea70>, 'sky130_fd_sc_hd__bufinv_8': <LEFDEFParser.Macro object at 0x7b43caf2eab0>, 'sky130_fd_sc_hd__bufinv_16': <LEFDEFParser.Macro object at 0x7b43caf2eaf0>, 'sky130_fd_sc_hd__clkbuf_1': <LEFDEFParser.Macro object at 0x7b43caf2eb30>, 'sky130_fd_sc_hd__clkbuf_2': <LEFDEFParser.Macro object at 0x7b43caf2eb70>, 'sky130_fd_sc_hd__clkbuf_4': <LEFDEFParser.Macro object at 0x7b43caf2ebb0>, 'sky130_fd_sc_hd__clkbuf_8': <LEFDEFParser.Macro object at 0x7b43caf2ebf0>, 'sky130_fd_sc_hd__clkbuf_16': <LEFDEFParser.Macro object at 0x7b43caf2ec30>, 'sky130_fd_sc_hd__clkdlybuf4s15_1': <LEFDEFParser.Macro object at 0x7b43caf2ec70>, 'sky130_fd_sc_hd__clkdlybuf4s15_2': <LEFDEFParser.Macro object at 0x7b43caf2ecb0>, 'sky130_fd_sc_hd__clkdlybuf4s18_1': <LEFDEFParser.Macro object at 0x7b43caf2ecf0>, 'sky130_fd_sc_hd__clkdlybuf4s18_2': <LEFDEFParser.Macro object at 0x7b43caf2ed30>, 'sky130_fd_sc_hd__clkdlybuf4s25_1': <LEFDEFParser.Macro object at 0x7b43caf2ed70>, 'sky130_fd_sc_hd__clkdlybuf4s25_2': <LEFDEFParser.Macro object at 0x7b43caf2edb0>, 'sky130_fd_sc_hd__clkdlybuf4s50_1': <LEFDEFParser.Macro object at 0x7b43caf2edf0>, 'sky130_fd_sc_hd__clkdlybuf4s50_2': <LEFDEFParser.Macro object at 0x7b43caf2ee30>, 'sky130_fd_sc_hd__clkinv_1': <LEFDEFParser.Macro object at 0x7b43caf2ee70>, 'sky130_fd_sc_hd__clkinv_2': <LEFDEFParser.Macro object at 0x7b43caf2eeb0>, 'sky130_fd_sc_hd__clkinv_4': <LEFDEFParser.Macro object at 0x7b43caf2eef0>, 'sky130_fd_sc_hd__clkinv_8': <LEFDEFParser.Macro object at 0x7b43caf2ef30>, 'sky130_fd_sc_hd__clkinv_16': <LEFDEFParser.Macro object at 0x7b43caf2ef70>, 'sky130_fd_sc_hd__clkinvlp_2': <LEFDEFParser.Macro object at 0x7b43caf2efb0>, 'sky130_fd_sc_hd__clkinvlp_4': <LEFDEFParser.Macro object at 0x7b43caf2eff0>, 'sky130_fd_sc_hd__conb_1': <LEFDEFParser.Macro object at 0x7b43caf2f030>, 'sky130_fd_sc_hd__decap_3': <LEFDEFParser.Macro object at 0x7b43caf2f070>, 'sky130_fd_sc_hd__decap_4': <LEFDEFParser.Macro object at 0x7b43caf2f0b0>, 'sky130_fd_sc_hd__decap_6': <LEFDEFParser.Macro object at 0x7b43caf2f0f0>, 'sky130_fd_sc_hd__decap_8': <LEFDEFParser.Macro object at 0x7b43caf2f130>, 'sky130_fd_sc_hd__decap_12': <LEFDEFParser.Macro object at 0x7b43caf2f170>, 'sky130_fd_sc_hd__dfbbn_1': <LEFDEFParser.Macro object at 0x7b43caf2f1b0>, 'sky130_fd_sc_hd__dfbbn_2': <LEFDEFParser.Macro object at 0x7b43caf2f1f0>, 'sky130_fd_sc_hd__dfbbp_1': <LEFDEFParser.Macro object at 0x7b43caf2f230>, 'sky130_fd_sc_hd__dfrbp_1': <LEFDEFParser.Macro object at 0x7b43caf2f270>, 'sky130_fd_sc_hd__dfrbp_2': <LEFDEFParser.Macro object at 0x7b43caf2f2b0>, 'sky130_fd_sc_hd__dfrtn_1': <LEFDEFParser.Macro object at 0x7b43caf2f2f0>, 'sky130_fd_sc_hd__dfrtp_1': <LEFDEFParser.Macro object at 0x7b43caf2f330>, 'sky130_fd_sc_hd__dfrtp_2': <LEFDEFParser.Macro object at 0x7b43caf2f370>, 'sky130_fd_sc_hd__dfrtp_4': <LEFDEFParser.Macro object at 0x7b43caf2f3b0>, 'sky130_fd_sc_hd__dfsbp_1': <LEFDEFParser.Macro object at 0x7b43caf2f3f0>, 'sky130_fd_sc_hd__dfsbp_2': <LEFDEFParser.Macro object at 0x7b43caf2f430>, 'sky130_fd_sc_hd__dfstp_1': <LEFDEFParser.Macro object at 0x7b43caf2f470>, 'sky130_fd_sc_hd__dfstp_2': <LEFDEFParser.Macro object at 0x7b43caf2f4b0>, 'sky130_fd_sc_hd__dfstp_4': <LEFDEFParser.Macro object at 0x7b43caf2f4f0>, 'sky130_fd_sc_hd__dfxbp_1': <LEFDEFParser.Macro object at 0x7b43caf2f530>, 'sky130_fd_sc_hd__dfxbp_2': <LEFDEFParser.Macro object at 0x7b43caf2f570>, 'sky130_fd_sc_hd__dfxtp_1': <LEFDEFParser.Macro object at 0x7b43caf2f5b0>, 'sky130_fd_sc_hd__dfxtp_2': <LEFDEFParser.Macro object at 0x7b43caf2f5f0>, 'sky130_fd_sc_hd__dfxtp_4': <LEFDEFParser.Macro object at 0x7b43caf2f630>, 'sky130_fd_sc_hd__diode_2': <LEFDEFParser.Macro object at 0x7b43caf2f670>, 'sky130_fd_sc_hd__dlclkp_1': <LEFDEFParser.Macro object at 0x7b43caf2f6b0>, 'sky130_fd_sc_hd__dlclkp_2': <LEFDEFParser.Macro object at 0x7b43caf2f6f0>, 'sky130_fd_sc_hd__dlclkp_4': <LEFDEFParser.Macro object at 0x7b43caf2f730>, 'sky130_fd_sc_hd__dlrbn_1': <LEFDEFParser.Macro object at 0x7b43caf2f770>, 'sky130_fd_sc_hd__dlrbn_2': <LEFDEFParser.Macro object at 0x7b43caf2f7b0>, 'sky130_fd_sc_hd__dlrbp_1': <LEFDEFParser.Macro object at 0x7b43caf2f7f0>, 'sky130_fd_sc_hd__dlrbp_2': <LEFDEFParser.Macro object at 0x7b43caf2f830>, 'sky130_fd_sc_hd__dlrtn_1': <LEFDEFParser.Macro object at 0x7b43caf2f870>, 'sky130_fd_sc_hd__dlrtn_2': <LEFDEFParser.Macro object at 0x7b43caf2f8b0>, 'sky130_fd_sc_hd__dlrtn_4': <LEFDEFParser.Macro object at 0x7b43caf2f8f0>, 'sky130_fd_sc_hd__dlrtp_1': <LEFDEFParser.Macro object at 0x7b43caf2f930>, 'sky130_fd_sc_hd__dlrtp_2': <LEFDEFParser.Macro object at 0x7b43caf2f970>, 'sky130_fd_sc_hd__dlrtp_4': <LEFDEFParser.Macro object at 0x7b43caf2f9b0>, 'sky130_fd_sc_hd__dlxbn_1': <LEFDEFParser.Macro object at 0x7b43caf2f9f0>, 'sky130_fd_sc_hd__dlxbn_2': <LEFDEFParser.Macro object at 0x7b43caf2fa30>, 'sky130_fd_sc_hd__dlxbp_1': <LEFDEFParser.Macro object at 0x7b43caf2fa70>, 'sky130_fd_sc_hd__dlxtn_1': <LEFDEFParser.Macro object at 0x7b43caf2fab0>, 'sky130_fd_sc_hd__dlxtn_2': <LEFDEFParser.Macro object at 0x7b43caf2faf0>, 'sky130_fd_sc_hd__dlxtn_4': <LEFDEFParser.Macro object at 0x7b43caf2fb30>, 'sky130_fd_sc_hd__dlxtp_1': <LEFDEFParser.Macro object at 0x7b43caf2fb70>, 'sky130_fd_sc_hd__dlygate4sd1_1': <LEFDEFParser.Macro object at 0x7b43caf2fbb0>, 'sky130_fd_sc_hd__dlygate4sd2_1': <LEFDEFParser.Macro object at 0x7b43caf2fbf0>, 'sky130_fd_sc_hd__dlygate4sd3_1': <LEFDEFParser.Macro object at 0x7b43caf2fc30>, 'sky130_fd_sc_hd__dlymetal6s2s_1': <LEFDEFParser.Macro object at 0x7b43caf2fc70>, 'sky130_fd_sc_hd__dlymetal6s4s_1': <LEFDEFParser.Macro object at 0x7b43caf2fcb0>, 'sky130_fd_sc_hd__dlymetal6s6s_1': <LEFDEFParser.Macro object at 0x7b43caf2fcf0>, 'sky130_fd_sc_hd__ebufn_1': <LEFDEFParser.Macro object at 0x7b43caf2fd30>, 'sky130_fd_sc_hd__ebufn_2': <LEFDEFParser.Macro object at 0x7b43caf2fd70>, 'sky130_fd_sc_hd__ebufn_4': <LEFDEFParser.Macro object at 0x7b43caf2fdb0>, 'sky130_fd_sc_hd__ebufn_8': <LEFDEFParser.Macro object at 0x7b43caf2fdf0>, 'sky130_fd_sc_hd__edfxbp_1': <LEFDEFParser.Macro object at 0x7b43caf2fe30>, 'sky130_fd_sc_hd__edfxtp_1': <LEFDEFParser.Macro object at 0x7b43caf2fe70>, 'sky130_fd_sc_hd__einvn_0': <LEFDEFParser.Macro object at 0x7b43caf2feb0>, 'sky130_fd_sc_hd__einvn_1': <LEFDEFParser.Macro object at 0x7b43caf2fef0>, 'sky130_fd_sc_hd__einvn_2': <LEFDEFParser.Macro object at 0x7b43caf2ff30>, 'sky130_fd_sc_hd__einvn_4': <LEFDEFParser.Macro object at 0x7b43caf2ff70>, 'sky130_fd_sc_hd__einvn_8': <LEFDEFParser.Macro object at 0x7b43caf2ffb0>, 'sky130_fd_sc_hd__einvp_1': <LEFDEFParser.Macro object at 0x7b43caf30030>, 'sky130_fd_sc_hd__einvp_2': <LEFDEFParser.Macro object at 0x7b43caf30070>, 'sky130_fd_sc_hd__einvp_4': <LEFDEFParser.Macro object at 0x7b43caf300b0>, 'sky130_fd_sc_hd__einvp_8': <LEFDEFParser.Macro object at 0x7b43caf300f0>, 'sky130_fd_sc_hd__fa_1': <LEFDEFParser.Macro object at 0x7b43caf30130>, 'sky130_fd_sc_hd__fa_2': <LEFDEFParser.Macro object at 0x7b43caf30170>, 'sky130_fd_sc_hd__fa_4': <LEFDEFParser.Macro object at 0x7b43caf301b0>, 'sky130_fd_sc_hd__fah_1': <LEFDEFParser.Macro object at 0x7b43caf301f0>, 'sky130_fd_sc_hd__fahcin_1': <LEFDEFParser.Macro object at 0x7b43caf30230>, 'sky130_fd_sc_hd__fahcon_1': <LEFDEFParser.Macro object at 0x7b43caf30270>, 'sky130_fd_sc_hd__fill_1': <LEFDEFParser.Macro object at 0x7b43caf302b0>, 'sky130_fd_sc_hd__fill_2': <LEFDEFParser.Macro object at 0x7b43caf302f0>, 'sky130_fd_sc_hd__fill_4': <LEFDEFParser.Macro object at 0x7b43caf30330>, 'sky130_fd_sc_hd__fill_8': <LEFDEFParser.Macro object at 0x7b43caf30370>, 'sky130_fd_sc_hd__ha_1': <LEFDEFParser.Macro object at 0x7b43caf303b0>, 'sky130_fd_sc_hd__ha_2': <LEFDEFParser.Macro object at 0x7b43caf303f0>, 'sky130_fd_sc_hd__ha_4': <LEFDEFParser.Macro object at 0x7b43caf30430>, 'sky130_fd_sc_hd__inv_1': <LEFDEFParser.Macro object at 0x7b43caf30470>, 'sky130_fd_sc_hd__inv_2': <LEFDEFParser.Macro object at 0x7b43caf304b0>, 'sky130_fd_sc_hd__inv_4': <LEFDEFParser.Macro object at 0x7b43caf304f0>, 'sky130_fd_sc_hd__inv_6': <LEFDEFParser.Macro object at 0x7b43caf30530>, 'sky130_fd_sc_hd__inv_8': <LEFDEFParser.Macro object at 0x7b43caf30570>, 'sky130_fd_sc_hd__inv_12': <LEFDEFParser.Macro object at 0x7b43caf305b0>, 'sky130_fd_sc_hd__inv_16': <LEFDEFParser.Macro object at 0x7b43caf305f0>, 'sky130_fd_sc_hd__lpflow_bleeder_1': <LEFDEFParser.Macro object at 0x7b43caf30630>, 'sky130_fd_sc_hd__lpflow_clkbufkapwr_1': <LEFDEFParser.Macro object at 0x7b43caf30670>, 'sky130_fd_sc_hd__lpflow_clkbufkapwr_2': <LEFDEFParser.Macro object at 0x7b43caf306b0>, 'sky130_fd_sc_hd__lpflow_clkbufkapwr_4': <LEFDEFParser.Macro object at 0x7b43caf306f0>, 'sky130_fd_sc_hd__lpflow_clkbufkapwr_8': <LEFDEFParser.Macro object at 0x7b43caf30730>, 'sky130_fd_sc_hd__lpflow_clkbufkapwr_16': <LEFDEFParser.Macro object at 0x7b43caf30770>, 'sky130_fd_sc_hd__lpflow_clkinvkapwr_1': <LEFDEFParser.Macro object at 0x7b43caf307b0>, 'sky130_fd_sc_hd__lpflow_clkinvkapwr_2': <LEFDEFParser.Macro object at 0x7b43caf307f0>, 'sky130_fd_sc_hd__lpflow_clkinvkapwr_4': <LEFDEFParser.Macro object at 0x7b43caf30830>, 'sky130_fd_sc_hd__lpflow_clkinvkapwr_8': <LEFDEFParser.Macro object at 0x7b43caf30870>, 'sky130_fd_sc_hd__lpflow_clkinvkapwr_16': <LEFDEFParser.Macro object at 0x7b43caf308b0>, 'sky130_fd_sc_hd__lpflow_decapkapwr_3': <LEFDEFParser.Macro object at 0x7b43caf308f0>, 'sky130_fd_sc_hd__lpflow_decapkapwr_4': <LEFDEFParser.Macro object at 0x7b43caf30930>, 'sky130_fd_sc_hd__lpflow_decapkapwr_6': <LEFDEFParser.Macro object at 0x7b43caf30970>, 'sky130_fd_sc_hd__lpflow_decapkapwr_8': <LEFDEFParser.Macro object at 0x7b43caf309b0>, 'sky130_fd_sc_hd__lpflow_decapkapwr_12': <LEFDEFParser.Macro object at 0x7b43caf309f0>, 'sky130_fd_sc_hd__lpflow_inputiso0n_1': <LEFDEFParser.Macro object at 0x7b43caf30a30>, 'sky130_fd_sc_hd__lpflow_inputiso0p_1': <LEFDEFParser.Macro object at 0x7b43caf30a70>, 'sky130_fd_sc_hd__lpflow_inputiso1n_1': <LEFDEFParser.Macro object at 0x7b43caf30ab0>, 'sky130_fd_sc_hd__lpflow_inputiso1p_1': <LEFDEFParser.Macro object at 0x7b43caf30af0>, 'sky130_fd_sc_hd__lpflow_inputisolatch_1': <LEFDEFParser.Macro object at 0x7b43caf30b30>, 'sky130_fd_sc_hd__lpflow_isobufsrc_1': <LEFDEFParser.Macro object at 0x7b43caf30b70>, 'sky130_fd_sc_hd__lpflow_isobufsrc_2': <LEFDEFParser.Macro object at 0x7b43caf30bb0>, 'sky130_fd_sc_hd__lpflow_isobufsrc_4': <LEFDEFParser.Macro object at 0x7b43caf30bf0>, 'sky130_fd_sc_hd__lpflow_isobufsrc_8': <LEFDEFParser.Macro object at 0x7b43caf30c30>, 'sky130_fd_sc_hd__lpflow_isobufsrc_16': <LEFDEFParser.Macro object at 0x7b43caf30c70>, 'sky130_fd_sc_hd__lpflow_isobufsrckapwr_16': <LEFDEFParser.Macro object at 0x7b43caf30cb0>, 'sky130_fd_sc_hd__lpflow_lsbuf_lh_hl_isowell_tap_1': <LEFDEFParser.Macro object at 0x7b43caf30cf0>, 'sky130_fd_sc_hd__lpflow_lsbuf_lh_hl_isowell_tap_2': <LEFDEFParser.Macro object at 0x7b43caf30d30>, 'sky130_fd_sc_hd__lpflow_lsbuf_lh_hl_isowell_tap_4': <LEFDEFParser.Macro object at 0x7b43caf30d70>, 'sky130_fd_sc_hd__lpflow_lsbuf_lh_isowell_4': <LEFDEFParser.Macro object at 0x7b43caf30db0>, 'sky130_fd_sc_hd__lpflow_lsbuf_lh_isowell_tap_1': <LEFDEFParser.Macro object at 0x7b43caf30df0>, 'sky130_fd_sc_hd__lpflow_lsbuf_lh_isowell_tap_2': <LEFDEFParser.Macro object at 0x7b43caf30e30>, 'sky130_fd_sc_hd__lpflow_lsbuf_lh_isowell_tap_4': <LEFDEFParser.Macro object at 0x7b43caf30e70>, 'sky130_fd_sc_hd__macro_sparecell': <LEFDEFParser.Macro object at 0x7b43caf30eb0>, 'sky130_fd_sc_hd__maj3_1': <LEFDEFParser.Macro object at 0x7b43caf30ef0>, 'sky130_fd_sc_hd__maj3_2': <LEFDEFParser.Macro object at 0x7b43caf30f30>, 'sky130_fd_sc_hd__maj3_4': <LEFDEFParser.Macro object at 0x7b43caf30f70>, 'sky130_fd_sc_hd__mux2_1': <LEFDEFParser.Macro object at 0x7b43caf30fb0>, 'sky130_fd_sc_hd__mux2_2': <LEFDEFParser.Macro object at 0x7b43caf30ff0>, 'sky130_fd_sc_hd__mux2_4': <LEFDEFParser.Macro object at 0x7b43caf31030>, 'sky130_fd_sc_hd__mux2_8': <LEFDEFParser.Macro object at 0x7b43caf31070>, 'sky130_fd_sc_hd__mux2i_1': <LEFDEFParser.Macro object at 0x7b43caf310b0>, 'sky130_fd_sc_hd__mux2i_2': <LEFDEFParser.Macro object at 0x7b43caf310f0>, 'sky130_fd_sc_hd__mux2i_4': <LEFDEFParser.Macro object at 0x7b43caf31130>, 'sky130_fd_sc_hd__mux4_1': <LEFDEFParser.Macro object at 0x7b43caf31170>, 'sky130_fd_sc_hd__mux4_2': <LEFDEFParser.Macro object at 0x7b43caf311b0>, 'sky130_fd_sc_hd__mux4_4': <LEFDEFParser.Macro object at 0x7b43caf311f0>, 'sky130_fd_sc_hd__nand2_1': <LEFDEFParser.Macro object at 0x7b43caf31230>, 'sky130_fd_sc_hd__nand2_2': <LEFDEFParser.Macro object at 0x7b43caf31270>, 'sky130_fd_sc_hd__nand2_4': <LEFDEFParser.Macro object at 0x7b43caf312b0>, 'sky130_fd_sc_hd__nand2_8': <LEFDEFParser.Macro object at 0x7b43caf312f0>, 'sky130_fd_sc_hd__nand2b_1': <LEFDEFParser.Macro object at 0x7b43caf31330>, 'sky130_fd_sc_hd__nand2b_2': <LEFDEFParser.Macro object at 0x7b43caf31370>, 'sky130_fd_sc_hd__nand2b_4': <LEFDEFParser.Macro object at 0x7b43caf313b0>, 'sky130_fd_sc_hd__nand3_1': <LEFDEFParser.Macro object at 0x7b43caf313f0>, 'sky130_fd_sc_hd__nand3_2': <LEFDEFParser.Macro object at 0x7b43caf31430>, 'sky130_fd_sc_hd__nand3_4': <LEFDEFParser.Macro object at 0x7b43caf31470>, 'sky130_fd_sc_hd__nand3b_1': <LEFDEFParser.Macro object at 0x7b43caf314b0>, 'sky130_fd_sc_hd__nand3b_2': <LEFDEFParser.Macro object at 0x7b43caf314f0>, 'sky130_fd_sc_hd__nand3b_4': <LEFDEFParser.Macro object at 0x7b43caf31530>, 'sky130_fd_sc_hd__nand4_1': <LEFDEFParser.Macro object at 0x7b43caf31570>, 'sky130_fd_sc_hd__nand4_2': <LEFDEFParser.Macro object at 0x7b43caf315b0>, 'sky130_fd_sc_hd__nand4_4': <LEFDEFParser.Macro object at 0x7b43caf315f0>, 'sky130_fd_sc_hd__nand4b_1': <LEFDEFParser.Macro object at 0x7b43caf31630>, 'sky130_fd_sc_hd__nand4b_2': <LEFDEFParser.Macro object at 0x7b43caf31670>, 'sky130_fd_sc_hd__nand4b_4': <LEFDEFParser.Macro object at 0x7b43caf316b0>, 'sky130_fd_sc_hd__nand4bb_1': <LEFDEFParser.Macro object at 0x7b43caf316f0>, 'sky130_fd_sc_hd__nand4bb_2': <LEFDEFParser.Macro object at 0x7b43caf31730>, 'sky130_fd_sc_hd__nand4bb_4': <LEFDEFParser.Macro object at 0x7b43caf31770>, 'sky130_fd_sc_hd__nor2_1': <LEFDEFParser.Macro object at 0x7b43caf317b0>, 'sky130_fd_sc_hd__nor2_2': <LEFDEFParser.Macro object at 0x7b43caf317f0>, 'sky130_fd_sc_hd__nor2_4': <LEFDEFParser.Macro object at 0x7b43caf31830>, 'sky130_fd_sc_hd__nor2_8': <LEFDEFParser.Macro object at 0x7b43caf31870>, 'sky130_fd_sc_hd__nor2b_1': <LEFDEFParser.Macro object at 0x7b43caf318b0>, 'sky130_fd_sc_hd__nor2b_2': <LEFDEFParser.Macro object at 0x7b43caf318f0>, 'sky130_fd_sc_hd__nor2b_4': <LEFDEFParser.Macro object at 0x7b43caf31930>, 'sky130_fd_sc_hd__nor3_1': <LEFDEFParser.Macro object at 0x7b43caf31970>, 'sky130_fd_sc_hd__nor3_2': <LEFDEFParser.Macro object at 0x7b43caf319b0>, 'sky130_fd_sc_hd__nor3_4': <LEFDEFParser.Macro object at 0x7b43caf319f0>, 'sky130_fd_sc_hd__nor3b_1': <LEFDEFParser.Macro object at 0x7b43caf31a30>, 'sky130_fd_sc_hd__nor3b_2': <LEFDEFParser.Macro object at 0x7b43caf31a70>, 'sky130_fd_sc_hd__nor3b_4': <LEFDEFParser.Macro object at 0x7b43caf31ab0>, 'sky130_fd_sc_hd__nor4_1': <LEFDEFParser.Macro object at 0x7b43caf31af0>, 'sky130_fd_sc_hd__nor4_2': <LEFDEFParser.Macro object at 0x7b43caf31b30>, 'sky130_fd_sc_hd__nor4_4': <LEFDEFParser.Macro object at 0x7b43caf31b70>, 'sky130_fd_sc_hd__nor4b_1': <LEFDEFParser.Macro object at 0x7b43caf31bb0>, 'sky130_fd_sc_hd__nor4b_2': <LEFDEFParser.Macro object at 0x7b43caf31bf0>, 'sky130_fd_sc_hd__nor4b_4': <LEFDEFParser.Macro object at 0x7b43caf31c30>, 'sky130_fd_sc_hd__nor4bb_1': <LEFDEFParser.Macro object at 0x7b43caf31c70>, 'sky130_fd_sc_hd__nor4bb_2': <LEFDEFParser.Macro object at 0x7b43caf31cb0>, 'sky130_fd_sc_hd__nor4bb_4': <LEFDEFParser.Macro object at 0x7b43caf31cf0>, 'sky130_fd_sc_hd__o2bb2a_1': <LEFDEFParser.Macro object at 0x7b43caf31d30>, 'sky130_fd_sc_hd__o2bb2a_2': <LEFDEFParser.Macro object at 0x7b43caf31d70>, 'sky130_fd_sc_hd__o2bb2a_4': <LEFDEFParser.Macro object at 0x7b43caf31db0>, 'sky130_fd_sc_hd__o2bb2ai_1': <LEFDEFParser.Macro object at 0x7b43caf31df0>, 'sky130_fd_sc_hd__o2bb2ai_2': <LEFDEFParser.Macro object at 0x7b43caf31e30>, 'sky130_fd_sc_hd__o2bb2ai_4': <LEFDEFParser.Macro object at 0x7b43caf31e70>, 'sky130_fd_sc_hd__o21a_1': <LEFDEFParser.Macro object at 0x7b43caf31eb0>, 'sky130_fd_sc_hd__o21a_2': <LEFDEFParser.Macro object at 0x7b43caf31ef0>, 'sky130_fd_sc_hd__o21a_4': <LEFDEFParser.Macro object at 0x7b43caf31f30>, 'sky130_fd_sc_hd__o21ai_0': <LEFDEFParser.Macro object at 0x7b43caf31f70>, 'sky130_fd_sc_hd__o21ai_1': <LEFDEFParser.Macro object at 0x7b43caf31fb0>, 'sky130_fd_sc_hd__o21ai_2': <LEFDEFParser.Macro object at 0x7b43caf31ff0>, 'sky130_fd_sc_hd__o21ai_4': <LEFDEFParser.Macro object at 0x7b43caf32030>, 'sky130_fd_sc_hd__o21ba_1': <LEFDEFParser.Macro object at 0x7b43caf32070>, 'sky130_fd_sc_hd__o21ba_2': <LEFDEFParser.Macro object at 0x7b43caf320b0>, 'sky130_fd_sc_hd__o21ba_4': <LEFDEFParser.Macro object at 0x7b43caf320f0>, 'sky130_fd_sc_hd__o21bai_1': <LEFDEFParser.Macro object at 0x7b43caf32130>, 'sky130_fd_sc_hd__o21bai_2': <LEFDEFParser.Macro object at 0x7b43caf32170>, 'sky130_fd_sc_hd__o21bai_4': <LEFDEFParser.Macro object at 0x7b43caf321b0>, 'sky130_fd_sc_hd__o22a_1': <LEFDEFParser.Macro object at 0x7b43caf321f0>, 'sky130_fd_sc_hd__o22a_2': <LEFDEFParser.Macro object at 0x7b43caf32230>, 'sky130_fd_sc_hd__o22a_4': <LEFDEFParser.Macro object at 0x7b43caf32270>, 'sky130_fd_sc_hd__o22ai_1': <LEFDEFParser.Macro object at 0x7b43caf322b0>, 'sky130_fd_sc_hd__o22ai_2': <LEFDEFParser.Macro object at 0x7b43caf322f0>, 'sky130_fd_sc_hd__o22ai_4': <LEFDEFParser.Macro object at 0x7b43caf32330>, 'sky130_fd_sc_hd__o31a_1': <LEFDEFParser.Macro object at 0x7b43caf32370>, 'sky130_fd_sc_hd__o31a_2': <LEFDEFParser.Macro object at 0x7b43caf323b0>, 'sky130_fd_sc_hd__o31a_4': <LEFDEFParser.Macro object at 0x7b43caf323f0>, 'sky130_fd_sc_hd__o31ai_1': <LEFDEFParser.Macro object at 0x7b43caf32430>, 'sky130_fd_sc_hd__o31ai_2': <LEFDEFParser.Macro object at 0x7b43caf32470>, 'sky130_fd_sc_hd__o31ai_4': <LEFDEFParser.Macro object at 0x7b43caf324b0>, 'sky130_fd_sc_hd__o32a_1': <LEFDEFParser.Macro object at 0x7b43caf324f0>, 'sky130_fd_sc_hd__o32a_2': <LEFDEFParser.Macro object at 0x7b43caf32530>, 'sky130_fd_sc_hd__o32a_4': <LEFDEFParser.Macro object at 0x7b43caf32570>, 'sky130_fd_sc_hd__o32ai_1': <LEFDEFParser.Macro object at 0x7b43caf325b0>, 'sky130_fd_sc_hd__o32ai_2': <LEFDEFParser.Macro object at 0x7b43caf325f0>, 'sky130_fd_sc_hd__o32ai_4': <LEFDEFParser.Macro object at 0x7b43caf32630>, 'sky130_fd_sc_hd__o41a_1': <LEFDEFParser.Macro object at 0x7b43caf32670>, 'sky130_fd_sc_hd__o41a_2': <LEFDEFParser.Macro object at 0x7b43caf326b0>, 'sky130_fd_sc_hd__o41a_4': <LEFDEFParser.Macro object at 0x7b43caf326f0>, 'sky130_fd_sc_hd__o41ai_1': <LEFDEFParser.Macro object at 0x7b43caf32730>, 'sky130_fd_sc_hd__o41ai_2': <LEFDEFParser.Macro object at 0x7b43caf32770>, 'sky130_fd_sc_hd__o41ai_4': <LEFDEFParser.Macro object at 0x7b43caf327b0>, 'sky130_fd_sc_hd__o211a_1': <LEFDEFParser.Macro object at 0x7b43caf327f0>, 'sky130_fd_sc_hd__o211a_2': <LEFDEFParser.Macro object at 0x7b43caf32830>, 'sky130_fd_sc_hd__o211a_4': <LEFDEFParser.Macro object at 0x7b43caf32870>, 'sky130_fd_sc_hd__o211ai_1': <LEFDEFParser.Macro object at 0x7b43caf328b0>, 'sky130_fd_sc_hd__o211ai_2': <LEFDEFParser.Macro object at 0x7b43caf328f0>, 'sky130_fd_sc_hd__o211ai_4': <LEFDEFParser.Macro object at 0x7b43caf32930>, 'sky130_fd_sc_hd__o221a_1': <LEFDEFParser.Macro object at 0x7b43caf32970>, 'sky130_fd_sc_hd__o221a_2': <LEFDEFParser.Macro object at 0x7b43caf329b0>, 'sky130_fd_sc_hd__o221a_4': <LEFDEFParser.Macro object at 0x7b43caf329f0>, 'sky130_fd_sc_hd__o221ai_1': <LEFDEFParser.Macro object at 0x7b43caf32a30>, 'sky130_fd_sc_hd__o221ai_2': <LEFDEFParser.Macro object at 0x7b43caf32a70>, 'sky130_fd_sc_hd__o221ai_4': <LEFDEFParser.Macro object at 0x7b43caf32ab0>, 'sky130_fd_sc_hd__o311a_1': <LEFDEFParser.Macro object at 0x7b43caf32af0>, 'sky130_fd_sc_hd__o311a_2': <LEFDEFParser.Macro object at 0x7b43caf32b30>, 'sky130_fd_sc_hd__o311a_4': <LEFDEFParser.Macro object at 0x7b43caf32b70>, 'sky130_fd_sc_hd__o311ai_0': <LEFDEFParser.Macro object at 0x7b43caf32bb0>, 'sky130_fd_sc_hd__o311ai_1': <LEFDEFParser.Macro object at 0x7b43caf32bf0>, 'sky130_fd_sc_hd__o311ai_2': <LEFDEFParser.Macro object at 0x7b43caf32c30>, 'sky130_fd_sc_hd__o311ai_4': <LEFDEFParser.Macro object at 0x7b43caf32c70>, 'sky130_fd_sc_hd__o2111a_1': <LEFDEFParser.Macro object at 0x7b43caf32cb0>, 'sky130_fd_sc_hd__o2111a_2': <LEFDEFParser.Macro object at 0x7b43caf32cf0>, 'sky130_fd_sc_hd__o2111a_4': <LEFDEFParser.Macro object at 0x7b43caf32d30>, 'sky130_fd_sc_hd__o2111ai_1': <LEFDEFParser.Macro object at 0x7b43caf32d70>, 'sky130_fd_sc_hd__o2111ai_2': <LEFDEFParser.Macro object at 0x7b43caf32db0>, 'sky130_fd_sc_hd__o2111ai_4': <LEFDEFParser.Macro object at 0x7b43caf32df0>, 'sky130_fd_sc_hd__or2_0': <LEFDEFParser.Macro object at 0x7b43caf32e30>, 'sky130_fd_sc_hd__or2_1': <LEFDEFParser.Macro object at 0x7b43caf32e70>, 'sky130_fd_sc_hd__or2_2': <LEFDEFParser.Macro object at 0x7b43caf32eb0>, 'sky130_fd_sc_hd__or2_4': <LEFDEFParser.Macro object at 0x7b43caf32ef0>, 'sky130_fd_sc_hd__or2b_1': <LEFDEFParser.Macro object at 0x7b43caf32f30>, 'sky130_fd_sc_hd__or2b_2': <LEFDEFParser.Macro object at 0x7b43caf32f70>, 'sky130_fd_sc_hd__or2b_4': <LEFDEFParser.Macro object at 0x7b43caf32fb0>, 'sky130_fd_sc_hd__or3_1': <LEFDEFParser.Macro object at 0x7b43caf32ff0>, 'sky130_fd_sc_hd__or3_2': <LEFDEFParser.Macro object at 0x7b43caf33030>, 'sky130_fd_sc_hd__or3_4': <LEFDEFParser.Macro object at 0x7b43caf33070>, 'sky130_fd_sc_hd__or3b_1': <LEFDEFParser.Macro object at 0x7b43caf330b0>, 'sky130_fd_sc_hd__or3b_2': <LEFDEFParser.Macro object at 0x7b43caf330f0>, 'sky130_fd_sc_hd__or3b_4': <LEFDEFParser.Macro object at 0x7b43caf33130>, 'sky130_fd_sc_hd__or4_1': <LEFDEFParser.Macro object at 0x7b43caf33170>, 'sky130_fd_sc_hd__or4_2': <LEFDEFParser.Macro object at 0x7b43caf331b0>, 'sky130_fd_sc_hd__or4_4': <LEFDEFParser.Macro object at 0x7b43caf331f0>, 'sky130_fd_sc_hd__or4b_1': <LEFDEFParser.Macro object at 0x7b43caf33230>, 'sky130_fd_sc_hd__or4b_2': <LEFDEFParser.Macro object at 0x7b43caf33270>, 'sky130_fd_sc_hd__or4b_4': <LEFDEFParser.Macro object at 0x7b43caf332b0>, 'sky130_fd_sc_hd__or4bb_1': <LEFDEFParser.Macro object at 0x7b43caf332f0>, 'sky130_fd_sc_hd__or4bb_2': <LEFDEFParser.Macro object at 0x7b43caf33330>, 'sky130_fd_sc_hd__or4bb_4': <LEFDEFParser.Macro object at 0x7b43caf33370>, 'sky130_fd_sc_hd__probe_p_8': <LEFDEFParser.Macro object at 0x7b43caf333b0>, 'sky130_fd_sc_hd__probec_p_8': <LEFDEFParser.Macro object at 0x7b43caf333f0>, 'sky130_fd_sc_hd__sdfbbn_1': <LEFDEFParser.Macro object at 0x7b43caf33430>, 'sky130_fd_sc_hd__sdfbbn_2': <LEFDEFParser.Macro object at 0x7b43caf33470>, 'sky130_fd_sc_hd__sdfbbp_1': <LEFDEFParser.Macro object at 0x7b43caf334b0>, 'sky130_fd_sc_hd__sdfrbp_1': <LEFDEFParser.Macro object at 0x7b43caf334f0>, 'sky130_fd_sc_hd__sdfrbp_2': <LEFDEFParser.Macro object at 0x7b43caf33530>, 'sky130_fd_sc_hd__sdfrtn_1': <LEFDEFParser.Macro object at 0x7b43caf33570>, 'sky130_fd_sc_hd__sdfrtp_1': <LEFDEFParser.Macro object at 0x7b43caf335b0>, 'sky130_fd_sc_hd__sdfrtp_2': <LEFDEFParser.Macro object at 0x7b43caf335f0>, 'sky130_fd_sc_hd__sdfrtp_4': <LEFDEFParser.Macro object at 0x7b43caf33630>, 'sky130_fd_sc_hd__sdfsbp_1': <LEFDEFParser.Macro object at 0x7b43caf33670>, 'sky130_fd_sc_hd__sdfsbp_2': <LEFDEFParser.Macro object at 0x7b43caf336b0>, 'sky130_fd_sc_hd__sdfstp_1': <LEFDEFParser.Macro object at 0x7b43caf336f0>, 'sky130_fd_sc_hd__sdfstp_2': <LEFDEFParser.Macro object at 0x7b43caf33730>, 'sky130_fd_sc_hd__sdfstp_4': <LEFDEFParser.Macro object at 0x7b43caf33770>, 'sky130_fd_sc_hd__sdfxbp_1': <LEFDEFParser.Macro object at 0x7b43caf337b0>, 'sky130_fd_sc_hd__sdfxbp_2': <LEFDEFParser.Macro object at 0x7b43caf337f0>, 'sky130_fd_sc_hd__sdfxtp_1': <LEFDEFParser.Macro object at 0x7b43caf33830>, 'sky130_fd_sc_hd__sdfxtp_2': <LEFDEFParser.Macro object at 0x7b43caf33870>, 'sky130_fd_sc_hd__sdfxtp_4': <LEFDEFParser.Macro object at 0x7b43caf338b0>, 'sky130_fd_sc_hd__sdlclkp_1': <LEFDEFParser.Macro object at 0x7b43caf338f0>, 'sky130_fd_sc_hd__sdlclkp_2': <LEFDEFParser.Macro object at 0x7b43caf33930>, 'sky130_fd_sc_hd__sdlclkp_4': <LEFDEFParser.Macro object at 0x7b43caf33970>, 'sky130_fd_sc_hd__sedfxbp_1': <LEFDEFParser.Macro object at 0x7b43caf339b0>, 'sky130_fd_sc_hd__sedfxbp_2': <LEFDEFParser.Macro object at 0x7b43caf339f0>, 'sky130_fd_sc_hd__sedfxtp_1': <LEFDEFParser.Macro object at 0x7b43caf33a30>, 'sky130_fd_sc_hd__sedfxtp_2': <LEFDEFParser.Macro object at 0x7b43caf33a70>, 'sky130_fd_sc_hd__sedfxtp_4': <LEFDEFParser.Macro object at 0x7b43caf33ab0>, 'sky130_fd_sc_hd__tap_1': <LEFDEFParser.Macro object at 0x7b43caf33af0>, 'sky130_fd_sc_hd__tap_2': <LEFDEFParser.Macro object at 0x7b43caf33b30>, 'sky130_fd_sc_hd__tapvgnd2_1': <LEFDEFParser.Macro object at 0x7b43caf33b70>, 'sky130_fd_sc_hd__tapvgnd_1': <LEFDEFParser.Macro object at 0x7b43caf33bb0>, 'sky130_fd_sc_hd__tapvpwrvgnd_1': <LEFDEFParser.Macro object at 0x7b43caf33bf0>, 'sky130_fd_sc_hd__xnor2_1': <LEFDEFParser.Macro object at 0x7b43caf33c30>, 'sky130_fd_sc_hd__xnor2_2': <LEFDEFParser.Macro object at 0x7b43caf33c70>, 'sky130_fd_sc_hd__xnor2_4': <LEFDEFParser.Macro object at 0x7b43caf33cb0>, 'sky130_fd_sc_hd__xnor3_1': <LEFDEFParser.Macro object at 0x7b43caf33cf0>, 'sky130_fd_sc_hd__xnor3_2': <LEFDEFParser.Macro object at 0x7b43caf33d30>, 'sky130_fd_sc_hd__xnor3_4': <LEFDEFParser.Macro object at 0x7b43caf33d70>, 'sky130_fd_sc_hd__xor2_1': <LEFDEFParser.Macro object at 0x7b43caf33db0>, 'sky130_fd_sc_hd__xor2_2': <LEFDEFParser.Macro object at 0x7b43caf33df0>, 'sky130_fd_sc_hd__xor2_4': <LEFDEFParser.Macro object at 0x7b43caf33e30>, 'sky130_fd_sc_hd__xor3_1': <LEFDEFParser.Macro object at 0x7b43caf33e70>, 'sky130_fd_sc_hd__xor3_2': <LEFDEFParser.Macro object at 0x7b43caf33eb0>, 'sky130_fd_sc_hd__xor3_4': <LEFDEFParser.Macro object at 0x7b43caf33ef0>}\n",
            "{<LEFDEFParser.Component object at 0x7b43caf33f70>: 'sky130_fd_sc_hd__decap_3', <LEFDEFParser.Component object at 0x7b43caf33fb0>: 'sky130_fd_sc_hd__decap_3', <LEFDEFParser.Component object at 0x7b43caf33f30>: 'sky130_fd_sc_hd__decap_3', <LEFDEFParser.Component object at 0x7b43caf3c030>: 'sky130_fd_sc_hd__decap_3', <LEFDEFParser.Component object at 0x7b43caf3c0b0>: 'sky130_fd_sc_hd__decap_3', <LEFDEFParser.Component object at 0x7b43caf3c0f0>: 'sky130_fd_sc_hd__decap_3', <LEFDEFParser.Component object at 0x7b43caf3c130>: 'sky130_fd_sc_hd__decap_3', <LEFDEFParser.Component object at 0x7b43caf3c170>: 'sky130_fd_sc_hd__decap_3', <LEFDEFParser.Component object at 0x7b43caf3c1b0>: 'sky130_fd_sc_hd__decap_3', <LEFDEFParser.Component object at 0x7b43caf3c1f0>: 'sky130_fd_sc_hd__decap_3', <LEFDEFParser.Component object at 0x7b43caf3c230>: 'sky130_fd_sc_hd__decap_3', <LEFDEFParser.Component object at 0x7b43caf3c270>: 'sky130_fd_sc_hd__decap_3', <LEFDEFParser.Component object at 0x7b43caf3c2b0>: 'sky130_fd_sc_hd__decap_3', <LEFDEFParser.Component object at 0x7b43caf3c2f0>: 'sky130_fd_sc_hd__decap_3', <LEFDEFParser.Component object at 0x7b43caf3c330>: 'sky130_fd_sc_hd__tapvpwrvgnd_1', <LEFDEFParser.Component object at 0x7b43caf3c370>: 'sky130_fd_sc_hd__tapvpwrvgnd_1', <LEFDEFParser.Component object at 0x7b43caf3c3b0>: 'sky130_fd_sc_hd__tapvpwrvgnd_1', <LEFDEFParser.Component object at 0x7b43caf3c3f0>: 'sky130_fd_sc_hd__tapvpwrvgnd_1', <LEFDEFParser.Component object at 0x7b43caf3c430>: 'sky130_fd_sc_hd__nand2_1', <LEFDEFParser.Component object at 0x7b43caf3c470>: 'sky130_fd_sc_hd__a22o_1', <LEFDEFParser.Component object at 0x7b43caf3c4b0>: 'sky130_fd_sc_hd__o21a_1', <LEFDEFParser.Component object at 0x7b43caf3c4f0>: 'sky130_fd_sc_hd__dfxtp_1', <LEFDEFParser.Component object at 0x7b43caf3c530>: 'sky130_fd_sc_hd__dfxtp_1', <LEFDEFParser.Component object at 0x7b43caf3c570>: 'sky130_fd_sc_hd__dfxtp_1', <LEFDEFParser.Component object at 0x7b43caf3c5b0>: 'sky130_fd_sc_hd__dfxtp_1', <LEFDEFParser.Component object at 0x7b43caf3c5f0>: 'sky130_fd_sc_hd__dfxtp_1', <LEFDEFParser.Component object at 0x7b43caf3c630>: 'sky130_fd_sc_hd__dfxtp_1', <LEFDEFParser.Component object at 0x7b43caf3c670>: 'sky130_fd_sc_hd__dfxtp_1', <LEFDEFParser.Component object at 0x7b43caf3c6b0>: 'sky130_fd_sc_hd__clkbuf_1', <LEFDEFParser.Component object at 0x7b43caf3c6f0>: 'sky130_fd_sc_hd__clkbuf_1', <LEFDEFParser.Component object at 0x7b43caf3c730>: 'sky130_fd_sc_hd__clkbuf_1', <LEFDEFParser.Component object at 0x7b43caf3c770>: 'sky130_fd_sc_hd__clkbuf_1', <LEFDEFParser.Component object at 0x7b43caf3c7b0>: 'sky130_fd_sc_hd__clkbuf_1', <LEFDEFParser.Component object at 0x7b43caf3c7f0>: 'sky130_fd_sc_hd__buf_1', <LEFDEFParser.Component object at 0x7b43caf3c830>: 'sky130_fd_sc_hd__buf_1'}\n",
            "{'N1': [('_05_', 'Q'), ('_02_', 'A2')], 'N1_d': [('PIN', 'N1_d'), ('input1', 'A')], 'N2': [('_06_', 'Q'), ('_03_', 'A1'), ('_02_', 'B2')], 'N22': [('PIN', 'N22'), ('output6', 'X')], 'N22_d': [('_10_', 'D'), ('_02_', 'X')], 'N23': [('PIN', 'N23'), ('output7', 'X')], 'N23_d': [('_04_', 'D'), ('_03_', 'X')], 'N2_d': [('PIN', 'N2_d'), ('input2', 'A')], 'N3': [('_07_', 'Q'), ('_02_', 'A1'), ('_01_', 'B')], 'N3_d': [('PIN', 'N3_d'), ('input3', 'A')], 'N6': [('_08_', 'Q'), ('_01_', 'A')], 'N6_d': [('PIN', 'N6_d'), ('input4', 'A')], 'N7': [('_09_', 'Q'), ('_03_', 'A2')], 'N7_d': [('PIN', 'N7_d'), ('input5', 'A')], '_00_': [('_03_', 'B1'), ('_02_', 'B1'), ('_01_', 'Y')], 'clk': [('PIN', 'clk'), ('_10_', 'CLK'), ('_09_', 'CLK'), ('_08_', 'CLK'), ('_07_', 'CLK'), ('_06_', 'CLK'), ('_05_', 'CLK'), ('_04_', 'CLK')], 'net1': [('input1', 'X'), ('_05_', 'D')], 'net2': [('input2', 'X'), ('_06_', 'D')], 'net3': [('input3', 'X'), ('_07_', 'D')], 'net4': [('input4', 'X'), ('_08_', 'D')], 'net5': [('input5', 'X'), ('_09_', 'D')], 'net6': [('output6', 'A'), ('_10_', 'Q')], 'net7': [('output7', 'A'), ('_04_', 'Q')]}\n"
          ]
        }
      ]
    },
    {
      "cell_type": "markdown",
      "source": [
        "**Extracting track information, layer width and spacing.**"
      ],
      "metadata": {
        "id": "Bp45FdIXnrTn"
      }
    },
    {
      "cell_type": "code",
      "source": [
        "layerWidth = {}\n",
        "layerSpacing = {}\n",
        "for layer in l.layers():\n",
        "    layerWidth[layer.name()] = layer.width()\n",
        "    layerSpacing[layer.name()] = layer.pitch() - layer.width()\n",
        "tracks=d.tracks()\n",
        "tracks_ = {\n",
        "    'li1':  [tracks['li1'][0].x,  tracks['li1'][0].num,  tracks['li1'][0].step],\n",
        "    'met1': [tracks['met1'][1].x, tracks['met1'][1].num, tracks['met1'][1].step],\n",
        "    'met2': [tracks['met2'][0].x, tracks['met2'][0].num, tracks['met2'][0].step],\n",
        "    'met3': [tracks['met3'][1].x, tracks['met3'][1].num, tracks['met3'][1].step],\n",
        "    'met4': [tracks['met4'][0].x, tracks['met4'][0].num, tracks['met4'][0].step],\n",
        "    'met5': [tracks['met5'][1].x, tracks['met5'][1].num, tracks['met5'][1].step],\n",
        "}\n",
        "print(tracks_)\n",
        "print(layerWidth)\n",
        "print(layerSpacing)"
      ],
      "metadata": {
        "colab": {
          "base_uri": "https://localhost:8080/"
        },
        "id": "a7SvED3VJOpM",
        "outputId": "213d9888-7efd-49cf-fd12-ee9ffa37a9e8"
      },
      "execution_count": 114,
      "outputs": [
        {
          "output_type": "stream",
          "name": "stdout",
          "text": [
            "{'li1': [230, 67, 460], 'met1': [170, 122, 340], 'met2': [230, 67, 460], 'met3': [340, 61, 680], 'met4': [460, 33, 920], 'met5': [1700, 12, 3400]}\n",
            "{'li1': 170, 'met1': 140, 'met2': 140, 'met3': 300, 'met4': 300, 'met5': 1600}\n",
            "{'li1': 170, 'met1': 200, 'met2': 320, 'met3': 380, 'met4': 620, 'met5': 1800}\n"
          ]
        }
      ]
    },
    {
      "cell_type": "code",
      "source": [
        "def bloat(r, s):\n",
        "  return Rect(r.ll.x - s, r.ll.y - s, r.ur.x + s, r.ur.y + s)"
      ],
      "metadata": {
        "id": "7UU78vkvNHJE"
      },
      "execution_count": 113,
      "outputs": []
    },
    {
      "cell_type": "markdown",
      "source": [
        "**Transforming pin locations  and obstructions acccording to cell orientation and storing it in a dictionary**"
      ],
      "metadata": {
        "id": "agB5ZiyYP48c"
      }
    },
    {
      "cell_type": "code",
      "source": [
        "class Inst:\n",
        "  def __init__(self, comp, macro):\n",
        "    self._comp = comp\n",
        "    self._macro = macro\n",
        "    origin = comp.location()\n",
        "    self._bbox = Rect(origin.x, origin.y, origin.x + macro.xdim(), origin.y + macro.ydim())\n",
        "    self._pins = dict()\n",
        "    self._obsts = dict()\n",
        "    for p in macro.pins():\n",
        "      shapes = dict()\n",
        "      for port in p.ports():\n",
        "        for layer, rects in port.items():\n",
        "          if layer not in layerColors: continue\n",
        "          if layer not in shapes: shapes[layer] = list()\n",
        "          for v in rects:\n",
        "            r = Rect(v.ll.x, v.ll.y, v.ur.x, v.ur.y)\n",
        "            r.transform(comp.orient(), origin, macro.xdim(), macro.ydim())\n",
        "            shapes[layer].append(r)\n",
        "      self._pins[p.name()] = shapes\n",
        "\n",
        "    for layer, rects in macro.obstructions().items():\n",
        "      if layer not in layerColors: continue\n",
        "      if layer not in self._obsts: self._obsts[layer] = list()\n",
        "      for v in rects:\n",
        "        r = Rect(v.ll.x, v.ll.y, v.ur.x, v.ur.y)\n",
        "        s=layerSpacing[layer]\n",
        "        r=bloat(r,s)\n",
        "        r.transform(comp.orient(), origin, macro.xdim(), macro.ydim())\n",
        "        self._obsts[layer].append(r)\n",
        "cell_pin={}\n",
        "obstructions={'li1':[],'met1':[],'met2':[],'met3':[],'met4':[],'met5':[]}\n",
        "for r in cells.keys():\n",
        "  inst=Inst(r,macros[cells[r]])\n",
        "  for j in inst._obsts.keys():\n",
        "    obstructions[j].extend(inst._obsts[j])\n",
        "  for i in inst._pins.keys():\n",
        "    for k in inst._pins[i].keys():\n",
        "      obstructions[k].extend(inst._pins[i][k])\n",
        "    if len(inst._pins[i])==0:\n",
        "      continue\n",
        "    cell_pin[(inst._comp.name(),i)]=inst._pins[i]\n",
        "print(cell_pin)\n",
        "print(obstructions)\n"
      ],
      "metadata": {
        "colab": {
          "base_uri": "https://localhost:8080/"
        },
        "id": "NsMRKCMkP3tI",
        "outputId": "f26deba4-72e4-4210-aa94-3523138a3caf"
      },
      "execution_count": 117,
      "outputs": [
        {
          "output_type": "stream",
          "name": "stdout",
          "text": [
            "{('PHY_EDGE_ROW_0_Left_7', 'VGND'): {'met1': [[(5520,10640),(6900,11120)]]}, ('PHY_EDGE_ROW_0_Left_7', 'VPWR'): {'met1': [[(5520,13360),(6900,13840)]]}, ('PHY_EDGE_ROW_0_Right_0', 'VGND'): {'met1': [[(23460,10640),(24840,11120)]]}, ('PHY_EDGE_ROW_0_Right_0', 'VPWR'): {'met1': [[(23460,13360),(24840,13840)]]}, ('PHY_EDGE_ROW_1_Left_8', 'VGND'): {'met1': [[(5520,16080),(6900,16560)]]}, ('PHY_EDGE_ROW_1_Left_8', 'VPWR'): {'met1': [[(5520,13360),(6900,13840)]]}, ('PHY_EDGE_ROW_1_Right_1', 'VGND'): {'met1': [[(23460,16080),(24840,16560)]]}, ('PHY_EDGE_ROW_1_Right_1', 'VPWR'): {'met1': [[(23460,13360),(24840,13840)]]}, ('PHY_EDGE_ROW_2_Left_9', 'VGND'): {'met1': [[(5520,16080),(6900,16560)]]}, ('PHY_EDGE_ROW_2_Left_9', 'VPWR'): {'met1': [[(5520,18800),(6900,19280)]]}, ('PHY_EDGE_ROW_2_Right_2', 'VGND'): {'met1': [[(23460,16080),(24840,16560)]]}, ('PHY_EDGE_ROW_2_Right_2', 'VPWR'): {'met1': [[(23460,18800),(24840,19280)]]}, ('PHY_EDGE_ROW_3_Left_10', 'VGND'): {'met1': [[(5520,21520),(6900,22000)]]}, ('PHY_EDGE_ROW_3_Left_10', 'VPWR'): {'met1': [[(5520,18800),(6900,19280)]]}, ('PHY_EDGE_ROW_3_Right_3', 'VGND'): {'met1': [[(23460,21520),(24840,22000)]]}, ('PHY_EDGE_ROW_3_Right_3', 'VPWR'): {'met1': [[(23460,18800),(24840,19280)]]}, ('PHY_EDGE_ROW_4_Left_11', 'VGND'): {'met1': [[(5520,21520),(6900,22000)]]}, ('PHY_EDGE_ROW_4_Left_11', 'VPWR'): {'met1': [[(5520,24240),(6900,24720)]]}, ('PHY_EDGE_ROW_4_Right_4', 'VGND'): {'met1': [[(23460,21520),(24840,22000)]]}, ('PHY_EDGE_ROW_4_Right_4', 'VPWR'): {'met1': [[(23460,24240),(24840,24720)]]}, ('PHY_EDGE_ROW_5_Left_12', 'VGND'): {'met1': [[(5520,26960),(6900,27440)]]}, ('PHY_EDGE_ROW_5_Left_12', 'VPWR'): {'met1': [[(5520,24240),(6900,24720)]]}, ('PHY_EDGE_ROW_5_Right_5', 'VGND'): {'met1': [[(23460,26960),(24840,27440)]]}, ('PHY_EDGE_ROW_5_Right_5', 'VPWR'): {'met1': [[(23460,24240),(24840,24720)]]}, ('PHY_EDGE_ROW_6_Left_13', 'VGND'): {'met1': [[(5520,26960),(6900,27440)]]}, ('PHY_EDGE_ROW_6_Left_13', 'VPWR'): {'met1': [[(5520,29680),(6900,30160)]]}, ('PHY_EDGE_ROW_6_Right_6', 'VGND'): {'met1': [[(23460,26960),(24840,27440)]]}, ('PHY_EDGE_ROW_6_Right_6', 'VPWR'): {'met1': [[(23460,29680),(24840,30160)]]}, ('TAP_TAPCELL_ROW_0_14', 'VGND'): {'met1': [[(18400,10640),(18860,11120)]]}, ('TAP_TAPCELL_ROW_0_14', 'VPWR'): {'met1': [[(18400,13360),(18860,13840)]]}, ('TAP_TAPCELL_ROW_2_15', 'VGND'): {'met1': [[(18400,16080),(18860,16560)]]}, ('TAP_TAPCELL_ROW_2_15', 'VPWR'): {'met1': [[(18400,18800),(18860,19280)]]}, ('TAP_TAPCELL_ROW_4_16', 'VGND'): {'met1': [[(18400,21520),(18860,22000)]]}, ('TAP_TAPCELL_ROW_4_16', 'VPWR'): {'met1': [[(18400,24240),(18860,24720)]]}, ('TAP_TAPCELL_ROW_6_17', 'VGND'): {'met1': [[(18400,26960),(18860,27440)]]}, ('TAP_TAPCELL_ROW_6_17', 'VPWR'): {'met1': [[(18400,29680),(18860,30160)]]}, ('_01_', 'A'): {'li1': [[(18965,25875),(19300,26125)]]}, ('_01_', 'B'): {'li1': [[(19810,25875),(20145,26145)]]}, ('_01_', 'VGND'): {'met1': [[(18860,26960),(20240,27440)]]}, ('_01_', 'VPWR'): {'met1': [[(18860,24240),(20240,24720)]]}, ('_01_', 'Y'): {'li1': [[(19375,24735),(19705,25715)], [(19470,25715),(19640,26315)], [(18945,26315),(19640,26945)]]}, ('_02_', 'A1'): {'li1': [[(17045,25915),(17375,26125)], [(17165,26125),(17375,26525)]]}, ('_02_', 'A2'): {'li1': [[(16465,25855),(16875,26160)]]}, ('_02_', 'B1'): {'li1': [[(17620,25915),(18095,26125)], [(17620,26125),(17840,26525)]]}, ('_02_', 'B2'): {'li1': [[(18285,25925),(18775,26125)]]}, ('_02_', 'VGND'): {'met1': [[(15640,26960),(18860,27440)]]}, ('_02_', 'VPWR'): {'met1': [[(15640,24240),(18860,24720)]]}, ('_02_', 'X'): {'li1': [[(15725,24735),(15985,25415)], [(15725,25415),(15895,26615)], [(15725,26615),(15985,26945)]]}, ('_03_', 'A1'): {'li1': [[(18945,23035),(19175,23375)], [(18945,22835),(19275,23035)]]}, ('_03_', 'A2'): {'li1': [[(19465,23035),(19680,24150)], [(19465,22855),(19915,23035)], [(19585,22835),(19915,22855)]]}, ('_03_', 'B1'): {'li1': [[(20085,22835),(20555,23065)]]}, ('_03_', 'VGND'): {'met1': [[(18860,21520),(21620,22000)]]}, ('_03_', 'VPWR'): {'met1': [[(18860,24240),(21620,24720)]]}, ('_03_', 'X'): {'li1': [[(21255,22790),(21535,24225)], [(21195,22015),(21535,22790)]]}, ('_04_', 'CLK'): {'li1': [[(14350,14695),(14700,15345)]]}, ('_04_', 'D'): {'li1': [[(15630,14655),(15910,15605)]]}, ('_04_', 'VGND'): {'met1': [[(14260,16080),(21620,16560)]]}, ('_04_', 'VPWR'): {'met1': [[(14260,13360),(21620,13840)]]}, ('_04_', 'Q'): {'li1': [[(21145,13900),(21475,14745)], [(21145,14745),(21535,14825)], [(21320,14825),(21535,14875)], [(21365,14875),(21535,15455)], [(21310,15455),(21535,15495)], [(21155,15495),(21535,15580)], [(21155,15580),(21485,16015)]]}, ('_05_', 'CLK'): {'li1': [[(8370,25575),(8720,26225)]]}, ('_05_', 'D'): {'li1': [[(9650,25535),(9930,26485)]]}, ('_05_', 'VGND'): {'met1': [[(8280,26960),(15640,27440)]]}, ('_05_', 'VPWR'): {'met1': [[(8280,24240),(15640,24720)]]}, ('_05_', 'Q'): {'li1': [[(15165,24780),(15495,25625)], [(15165,25625),(15555,25705)], [(15340,25705),(15555,25755)], [(15385,25755),(15555,26335)], [(15330,26335),(15555,26375)], [(15175,26375),(15555,26460)], [(15175,26460),(15505,26895)]]}, ('_06_', 'CLK'): {'li1': [[(11130,22735),(11480,23385)]]}, ('_06_', 'D'): {'li1': [[(12410,22475),(12690,23425)]]}, ('_06_', 'VGND'): {'met1': [[(11040,21520),(18400,22000)]]}, ('_06_', 'VPWR'): {'met1': [[(11040,24240),(18400,24720)]]}, ('_06_', 'Q'): {'li1': [[(17925,23335),(18255,24180)], [(17925,23255),(18315,23335)], [(18100,23205),(18315,23255)], [(18145,22625),(18315,23205)], [(18090,22585),(18315,22625)], [(17935,22500),(18315,22585)], [(17935,22065),(18265,22500)]]}, ('_07_', 'CLK'): {'li1': [[(20720,20135),(21070,20785)]]}, ('_07_', 'D'): {'li1': [[(19510,20095),(19790,21045)]]}, ('_07_', 'VGND'): {'met1': [[(13800,21520),(21160,22000)]]}, ('_07_', 'VPWR'): {'met1': [[(13800,18800),(21160,19280)]]}, ('_07_', 'Q'): {'li1': [[(13945,19340),(14275,20185)], [(13885,20185),(14275,20265)], [(13885,20265),(14100,20315)], [(13885,20315),(14055,20895)], [(13885,20895),(14110,20935)], [(13885,20935),(14265,21020)], [(13935,21020),(14265,21455)]]}, ('_08_', 'CLK'): {'li1': [[(6990,14695),(7340,15345)]]}, ('_08_', 'D'): {'li1': [[(8270,14655),(8550,15605)]]}, ('_08_', 'VGND'): {'met1': [[(6900,16080),(14260,16560)]]}, ('_08_', 'VPWR'): {'met1': [[(6900,13360),(14260,13840)]]}, ('_08_', 'Q'): {'li1': [[(13785,13900),(14115,14745)], [(13785,14745),(14175,14825)], [(13960,14825),(14175,14875)], [(14005,14875),(14175,15455)], [(13950,15455),(14175,15495)], [(13795,15495),(14175,15580)], [(13795,15580),(14125,16015)]]}, ('_09_', 'CLK'): {'li1': [[(8370,17295),(8720,17945)]]}, ('_09_', 'D'): {'li1': [[(9650,17035),(9930,17985)]]}, ('_09_', 'VGND'): {'met1': [[(8280,16080),(15640,16560)]]}, ('_09_', 'VPWR'): {'met1': [[(8280,18800),(15640,19280)]]}, ('_09_', 'Q'): {'li1': [[(15165,17895),(15495,18740)], [(15165,17815),(15555,17895)], [(15340,17765),(15555,17815)], [(15385,17185),(15555,17765)], [(15330,17145),(15555,17185)], [(15175,17060),(15555,17145)], [(15175,16625),(15505,17060)]]}, ('_10_', 'CLK'): {'li1': [[(17040,11855),(17390,12505)]]}, ('_10_', 'D'): {'li1': [[(15830,11595),(16110,12545)]]}, ('_10_', 'VGND'): {'met1': [[(10120,10640),(17480,11120)]]}, ('_10_', 'VPWR'): {'met1': [[(10120,13360),(17480,13840)]]}, ('_10_', 'Q'): {'li1': [[(10265,12455),(10595,13300)], [(10205,12375),(10595,12455)], [(10205,12325),(10420,12375)], [(10205,11745),(10375,12325)], [(10205,11705),(10430,11745)], [(10205,11620),(10585,11705)], [(10255,11185),(10585,11620)]]}, ('input1', 'A'): {'li1': [[(7005,28185),(7335,28555)]]}, ('input1', 'VGND'): {'met1': [[(6900,26960),(8280,27440)]]}, ('input1', 'VPWR'): {'met1': [[(6900,29680),(8280,30160)]]}, ('input1', 'X'): {'li1': [[(7925,28760),(8195,29665)], [(8025,27960),(8195,28760)], [(7935,27455),(8195,27960)]]}, ('input2', 'A'): {'li1': [[(16585,28185),(16915,28555)]]}, ('input2', 'VGND'): {'met1': [[(15640,26960),(17020,27440)]]}, ('input2', 'VPWR'): {'met1': [[(15640,29680),(17020,30160)]]}, ('input2', 'X'): {'li1': [[(15725,28760),(15995,29665)], [(15725,27960),(15895,28760)], [(15725,27455),(15985,27960)]]}, ('input3', 'A'): {'li1': [[(23025,28185),(23355,28555)]]}, ('input3', 'VGND'): {'met1': [[(22080,26960),(23460,27440)]]}, ('input3', 'VPWR'): {'met1': [[(22080,29680),(23460,30160)]]}, ('input3', 'X'): {'li1': [[(22165,28760),(22435,29665)], [(22165,27960),(22335,28760)], [(22165,27455),(22425,27960)]]}, ('input4', 'A'): {'li1': [[(7005,17305),(7335,17675)]]}, ('input4', 'VGND'): {'met1': [[(6900,16080),(8280,16560)]]}, ('input4', 'VPWR'): {'met1': [[(6900,18800),(8280,19280)]]}, ('input4', 'X'): {'li1': [[(7925,17880),(8195,18785)], [(8025,17080),(8195,17880)], [(7935,16575),(8195,17080)]]}, ('input5', 'A'): {'li1': [[(8385,28185),(8715,28555)]]}, ('input5', 'VGND'): {'met1': [[(8280,26960),(9660,27440)]]}, ('input5', 'VPWR'): {'met1': [[(8280,29680),(9660,30160)]]}, ('input5', 'X'): {'li1': [[(9305,28760),(9575,29665)], [(9405,27960),(9575,28760)], [(9315,27455),(9575,27960)]]}, ('output6', 'A'): {'li1': [[(8755,11865),(9095,12235)]]}, ('output6', 'VGND'): {'met1': [[(7820,10640),(9200,11120)]]}, ('output6', 'VPWR'): {'met1': [[(7820,13360),(9200,13840)]]}, ('output6', 'X'): {'li1': [[(7905,12440),(8175,13345)], [(7905,11640),(8085,12440)], [(7905,11135),(8165,11640)]]}, ('output7', 'A'): {'li1': [[(22185,11865),(22525,12235)]]}, ('output7', 'VGND'): {'met1': [[(22080,10640),(23460,11120)]]}, ('output7', 'VPWR'): {'met1': [[(22080,13360),(23460,13840)]]}, ('output7', 'X'): {'li1': [[(23105,12440),(23375,13345)], [(23195,11640),(23375,12440)], [(23115,11135),(23375,11640)]]}}\n",
            "{'li1': [[(5350,13345),(7070,13855)], [(5435,12255),(6985,13685)], [(5435,11545),(6295,12425)], [(6125,11714),(6985,12595)], [(5435,10795),(6985,11885)], [(5350,10625),(7070,11135)], [(23290,13345),(25010,13855)], [(23375,12255),(24925,13685)], [(24065,11545),(24925,12425)], [(23375,11714),(24235,12595)], [(23375,10795),(24925,11885)], [(23290,10625),(25010,11135)], [(5350,13345),(7070,13855)], [(5435,13515),(6985,14945)], [(5435,14775),(6295,15655)], [(6125,14605),(6985,15486)], [(5435,15315),(6985,16405)], [(5350,16065),(7070,16575)], [(23290,13345),(25010,13855)], [(23375,13515),(24925,14945)], [(24065,14775),(24925,15655)], [(23375,14605),(24235,15486)], [(23375,15315),(24925,16405)], [(23290,16065),(25010,16575)], [(5350,18785),(7070,19295)], [(5435,17695),(6985,19125)], [(5435,16985),(6295,17865)], [(6125,17154),(6985,18035)], [(5435,16235),(6985,17325)], [(5350,16065),(7070,16575)], [(23290,18785),(25010,19295)], [(23375,17695),(24925,19125)], [(24065,16985),(24925,17865)], [(23375,17154),(24235,18035)], [(23375,16235),(24925,17325)], [(23290,16065),(25010,16575)], [(5350,18785),(7070,19295)], [(5435,18955),(6985,20385)], [(5435,20215),(6295,21095)], [(6125,20045),(6985,20926)], [(5435,20755),(6985,21845)], [(5350,21505),(7070,22015)], [(23290,18785),(25010,19295)], [(23375,18955),(24925,20385)], [(24065,20215),(24925,21095)], [(23375,20045),(24235,20926)], [(23375,20755),(24925,21845)], [(23290,21505),(25010,22015)], [(5350,24225),(7070,24735)], [(5435,23135),(6985,24565)], [(5435,22425),(6295,23305)], [(6125,22594),(6985,23475)], [(5435,21675),(6985,22765)], [(5350,21505),(7070,22015)], [(23290,24225),(25010,24735)], [(23375,23135),(24925,24565)], [(24065,22425),(24925,23305)], [(23375,22594),(24235,23475)], [(23375,21675),(24925,22765)], [(23290,21505),(25010,22015)], [(5350,24225),(7070,24735)], [(5435,24395),(6985,25825)], [(5435,25655),(6295,26535)], [(6125,25485),(6985,26366)], [(5435,26195),(6985,27285)], [(5350,26945),(7070,27455)], [(23290,24225),(25010,24735)], [(23375,24395),(24925,25825)], [(24065,25655),(24925,26535)], [(23375,25485),(24235,26366)], [(23375,26195),(24925,27285)], [(23290,26945),(25010,27455)], [(5350,29665),(7070,30175)], [(5435,28575),(6985,30005)], [(5435,27865),(6295,28745)], [(6125,28034),(6985,28915)], [(5435,27115),(6985,28205)], [(5350,26945),(7070,27455)], [(23290,29665),(25010,30175)], [(23375,28575),(24925,30005)], [(24065,27865),(24925,28745)], [(23375,28034),(24235,28915)], [(23375,27115),(24925,28205)], [(23290,26945),(25010,27455)], [(18230,13345),(19030,13855)], [(18315,12180),(18945,13685)], [(18315,10795),(18945,11860)], [(18230,10625),(19030,11135)], [(18230,18785),(19030,19295)], [(18315,17620),(18945,19125)], [(18315,16235),(18945,17300)], [(18230,16065),(19030,16575)], [(18230,24225),(19030,24735)], [(18315,23060),(18945,24565)], [(18315,21675),(18945,22740)], [(18230,21505),(19030,22015)], [(18230,29665),(19030,30175)], [(18315,28500),(18945,30005)], [(18315,27115),(18945,28180)], [(18230,26945),(19030,27455)], [(18690,24225),(20410,24735)], [(19705,24395),(20325,25875)], [(18775,24395),(19375,25875)], [(19675,26145),(20325,27285)], [(18690,26945),(20410,27455)], [(18965,25875),(19300,26125)], [(19810,25875),(20145,26145)], [(19375,24735),(19705,25715)], [(19470,25715),(19640,26315)], [(18945,26315),(19640,26945)], [(15470,24225),(19030,24735)], [(18265,24565),(18940,25125)], [(16905,24395),(17600,25115)], [(18345,24785),(18940,25745)], [(17865,24905),(18435,25285)], [(16485,24565),(17075,25285)], [(16485,24945),(18435,25485)], [(17910,25145),(18435,25575)], [(16485,25145),(17660,25495)], [(15985,24395),(16575,25515)], [(17425,25315),(18095,25685)], [(15955,25345),(18095,25745)], [(15895,25405),(18940,25855)], [(17425,25515),(18940,25915)], [(15895,25515),(16435,25890)], [(15895,25550),(16405,26465)], [(18145,26180),(18940,27285)], [(15895,26125),(16505,26585)], [(15895,26245),(17080,26630)], [(15985,26290),(17080,26755)], [(16570,26415),(17080,26905)], [(16570,26565),(18210,27115)], [(15985,26585),(16655,27285)], [(15470,26945),(19030,27455)], [(17045,25915),(17375,26125)], [(17165,26125),(17375,26525)], [(16465,25855),(16875,26160)], [(17620,25915),(18095,26125)], [(17620,26125),(17840,26525)], [(18285,25925),(18775,26125)], [(15725,24735),(15985,25415)], [(15725,25415),(15895,26615)], [(15725,26615),(15985,26945)], [(18690,24225),(21790,24735)], [(20205,23450),(21255,24565)], [(19705,23280),(20375,24395)], [(18785,23505),(19455,24565)], [(19705,23065),(21195,23620)], [(20570,22495),(21195,23405)], [(20145,22305),(21195,22835)], [(20145,22165),(20786,22645)], [(18775,22305),(20295,22835)], [(19625,22225),(20295,22645)], [(20130,22155),(20786,22505)], [(20120,22145),(20786,22495)], [(20110,22140),(20786,22485)], [(20685,21675),(21195,22475)], [(20105,22130),(20786,22480)], [(20100,22125),(20786,22470)], [(20095,22115),(20786,22465)], [(20090,22110),(20786,22455)], [(20085,21845),(20786,22450)], [(19285,21675),(19795,22475)], [(18775,21845),(19455,22645)], [(18690,21505),(21790,22015)], [(18945,23035),(19175,23375)], [(18945,22835),(19275,23035)], [(19465,23035),(19680,24150)], [(19465,22855),(19915,23035)], [(19585,22835),(19915,22855)], [(20085,22835),(20555,23065)], [(21255,22790),(21535,24225)], [(21195,22015),(21535,22790)], [(14090,13345),(21790,13855)], [(14265,13685),(14775,14525)], [(14605,13515),(15275,14355)], [(14265,14185),(15270,14695)], [(14700,14355),(15270,15685)], [(14265,15345),(15270,15855)], [(14265,15515),(14775,16145)], [(14605,15685),(15275,16405)], [(15104,13685),(15630,16145)], [(15530,13515),(16135,14315)], [(15965,13685),(16555,14450)], [(16425,13790),(17870,14300)], [(15910,14110),(16555,14580)], [(15910,14240),(16420,15685)], [(16250,14430),(16830,15365)], [(16660,14130),(17530,14835)], [(16660,14495),(17170,15535)], [(17360,13960),(17870,14915)], [(17700,13515),(18210,14655)], [(18040,13685),(18630,14355)], [(18515,13815),(19740,14325)], [(17360,14575),(18210,15005)], [(15910,15345),(16475,15815)], [(16305,15195),(17170,15755)], [(17000,14665),(18210,15175)], [(15545,15605),(16135,16405)], [(15965,15475),(16475,15955)], [(17000,14835),(17510,15955)], [(17700,14835),(18210,15245)], [(17380,15055),(17920,15425)], [(18040,14015),(18550,15425)], [(18380,14185),(18910,15245)], [(17380,15085),(18550,15725)], [(18740,14155),(19400,15455)], [(15965,15615),(16640,16125)], [(16495,15615),(17510,16125)], [(17490,15565),(18200,16405)], [(18040,15385),(18550,15955)], [(18595,15115),(19400,15785)], [(19230,13985),(19740,15165)], [(19580,13515),(20235,14355)], [(20125,13685),(20805,14585)], [(19570,14245),(20805,14960)], [(20635,13515),(21145,14865)], [(20275,14620),(20805,15165)], [(19230,14825),(20445,15495)], [(20275,14825),(21365,15495)], [(19230,15155),(19740,15955)], [(20275,15155),(20815,15665)], [(18040,15615),(18785,16125)], [(18615,15615),(19740,16125)], [(19675,15535),(20225,16405)], [(20145,15325),(20815,16190)], [(20645,15455),(21155,16405)], [(14090,16065),(21790,16575)], [(14350,14695),(14700,15345)], [(15630,14655),(15910,15605)], [(21145,13900),(21475,14745)], [(21145,14745),(21535,14825)], [(21320,14825),(21535,14875)], [(21365,14875),(21535,15455)], [(21310,15455),(21535,15495)], [(21155,15495),(21535,15580)], [(21155,15580),(21485,16015)], [(8110,24225),(15810,24735)], [(8285,24565),(8795,25405)], [(8625,24395),(9295,25235)], [(8285,25065),(9290,25575)], [(8720,25235),(9290,26565)], [(8285,26225),(9290,26735)], [(8285,26395),(8795,27025)], [(8625,26565),(9295,27285)], [(9124,24565),(9650,27025)], [(9550,24395),(10155,25195)], [(9985,24565),(10575,25330)], [(10445,24670),(11890,25180)], [(9930,24990),(10575,25460)], [(9930,25120),(10440,26565)], [(10270,25310),(10850,26245)], [(10680,25010),(11550,25715)], [(10680,25375),(11190,26415)], [(11380,24840),(11890,25795)], [(11720,24395),(12230,25535)], [(12060,24565),(12650,25235)], [(12535,24695),(13760,25205)], [(11380,25455),(12230,25885)], [(9930,26225),(10495,26695)], [(10325,26075),(11190,26635)], [(11020,25545),(12230,26055)], [(9565,26485),(10155,27285)], [(9985,26355),(10495,26835)], [(11020,25715),(11530,26835)], [(11720,25715),(12230,26125)], [(11400,25935),(11940,26305)], [(12060,24895),(12570,26305)], [(12400,25065),(12930,26125)], [(11400,25965),(12570,26605)], [(12760,25035),(13420,26335)], [(9985,26495),(10660,27005)], [(10515,26495),(11530,27005)], [(11510,26445),(12220,27285)], [(12060,26265),(12570,26835)], [(12615,25995),(13420,26665)], [(13250,24865),(13760,26045)], [(13600,24395),(14255,25235)], [(14145,24565),(14825,25465)], [(13590,25125),(14825,25840)], [(14655,24395),(15165,25745)], [(14295,25500),(14825,26045)], [(13250,25705),(14465,26375)], [(14295,25705),(15385,26375)], [(13250,26035),(13760,26835)], [(14295,26035),(14835,26545)], [(12060,26495),(12805,27005)], [(12635,26495),(13760,27005)], [(13695,26415),(14245,27285)], [(14165,26205),(14835,27070)], [(14665,26335),(15175,27285)], [(8110,26945),(15810,27455)], [(8370,25575),(8720,26225)], [(9650,25535),(9930,26485)], [(15165,24780),(15495,25625)], [(15165,25625),(15555,25705)], [(15340,25705),(15555,25755)], [(15385,25755),(15555,26335)], [(15330,26335),(15555,26375)], [(15175,26375),(15555,26460)], [(15175,26460),(15505,26895)], [(10870,24225),(18570,24735)], [(11045,23555),(11555,24395)], [(11385,23725),(12055,24565)], [(11045,23385),(12050,23895)], [(11480,22395),(12050,23725)], [(11045,22225),(12050,22735)], [(11045,21935),(11555,22565)], [(11385,21675),(12055,22395)], [(11884,21935),(12410,24395)], [(12310,23765),(12915,24565)], [(12745,23630),(13335,24395)], [(13205,23780),(14650,24290)], [(12690,23500),(13335,23970)], [(12690,22395),(13200,23840)], [(13030,22715),(13610,23650)], [(13440,23245),(14310,23950)], [(13440,22545),(13950,23585)], [(14140,23165),(14650,24120)], [(14480,23425),(14990,24565)], [(14820,23725),(15410,24395)], [(15295,23755),(16520,24265)], [(14140,23075),(14990,23505)], [(12690,22265),(13255,22735)], [(13085,22325),(13950,22885)], [(13780,22905),(14990,23415)], [(12325,21675),(12915,22475)], [(12745,22125),(13255,22605)], [(13780,22125),(14290,23245)], [(14480,22835),(14990,23245)], [(14160,22655),(14700,23025)], [(14820,22655),(15330,24065)], [(15160,22835),(15690,23895)], [(14160,22355),(15330,22995)], [(15520,22625),(16180,23925)], [(12745,21955),(13420,22465)], [(13275,21955),(14290,22465)], [(14270,21675),(14980,22515)], [(14820,22125),(15330,22695)], [(15375,22295),(16180,22965)], [(16010,22915),(16520,24095)], [(16360,23725),(17015,24565)], [(16905,23495),(17585,24395)], [(16350,23120),(17585,23835)], [(17415,23215),(17925,24565)], [(17055,22915),(17585,23460)], [(16010,22585),(17225,23255)], [(17055,22585),(18145,23255)], [(16010,22125),(16520,22925)], [(17055,22415),(17595,22925)], [(14820,21955),(15565,22465)], [(15395,21955),(16520,22465)], [(16455,21675),(17005,22545)], [(16925,21890),(17595,22755)], [(17425,21675),(17935,22625)], [(10870,21505),(18570,22015)], [(11130,22735),(11480,23385)], [(12410,22475),(12690,23425)], [(17925,23335),(18255,24180)], [(17925,23255),(18315,23335)], [(18100,23205),(18315,23255)], [(18145,22625),(18315,23205)], [(18090,22585),(18315,22625)], [(17935,22500),(18315,22585)], [(17935,22065),(18265,22500)], [(13630,18785),(21330,19295)], [(20645,19125),(21155,19965)], [(20145,18955),(20815,19795)], [(20150,19625),(21155,20135)], [(20150,19795),(20720,21125)], [(20150,20785),(21155,21295)], [(20645,20955),(21155,21585)], [(20145,21125),(20815,21845)], [(19790,19125),(20316,21585)], [(19285,18955),(19890,19755)], [(18865,19125),(19455,19890)], [(17550,19230),(18995,19740)], [(18865,19550),(19510,20020)], [(19000,19680),(19510,21125)], [(18590,19870),(19170,20805)], [(17890,19570),(18760,20275)], [(18250,19935),(18760,20975)], [(17550,19400),(18060,20355)], [(17210,18955),(17720,20095)], [(16790,19125),(17380,19795)], [(15680,19255),(16905,19765)], [(17210,20015),(18060,20445)], [(18945,20785),(19510,21255)], [(18250,20635),(19115,21195)], [(17210,20105),(18420,20615)], [(19285,21045),(19875,21845)], [(18945,20915),(19455,21395)], [(17910,20275),(18420,21395)], [(17210,20275),(17720,20685)], [(17500,20495),(18040,20865)], [(16870,19455),(17380,20865)], [(16510,19625),(17040,20685)], [(16870,20525),(18040,21165)], [(16020,19595),(16680,20895)], [(18780,21055),(19455,21565)], [(17910,21055),(18925,21565)], [(17220,21005),(17930,21845)], [(16870,20825),(17380,21395)], [(16020,20555),(16825,21225)], [(15680,19425),(16190,20605)], [(15185,18955),(15840,19795)], [(14615,19125),(15295,20025)], [(14615,19685),(15850,20400)], [(14275,18955),(14785,20305)], [(14615,20060),(15145,20605)], [(14975,20265),(16190,20935)], [(14055,20265),(15145,20935)], [(15680,20595),(16190,21395)], [(14605,20595),(15145,21105)], [(16635,21055),(17380,21565)], [(15680,21055),(16805,21565)], [(15195,20975),(15745,21845)], [(14605,20765),(15275,21630)], [(14265,20895),(14775,21845)], [(13630,21505),(21330,22015)], [(20720,20135),(21070,20785)], [(19510,20095),(19790,21045)], [(13945,19340),(14275,20185)], [(13885,20185),(14275,20265)], [(13885,20265),(14100,20315)], [(13885,20315),(14055,20895)], [(13885,20895),(14110,20935)], [(13885,20935),(14265,21020)], [(13935,21020),(14265,21455)], [(6730,13345),(14430,13855)], [(6905,13685),(7415,14525)], [(7245,13515),(7915,14355)], [(6905,14185),(7910,14695)], [(7340,14355),(7910,15685)], [(6905,15345),(7910,15855)], [(6905,15515),(7415,16145)], [(7245,15685),(7915,16405)], [(7744,13685),(8270,16145)], [(8170,13515),(8775,14315)], [(8605,13685),(9195,14450)], [(9065,13790),(10510,14300)], [(8550,14110),(9195,14580)], [(8550,14240),(9060,15685)], [(8890,14430),(9470,15365)], [(9300,14130),(10170,14835)], [(9300,14495),(9810,15535)], [(10000,13960),(10510,14915)], [(10340,13515),(10850,14655)], [(10680,13685),(11270,14355)], [(11155,13815),(12380,14325)], [(10000,14575),(10850,15005)], [(8550,15345),(9115,15815)], [(8945,15195),(9810,15755)], [(9640,14665),(10850,15175)], [(8185,15605),(8775,16405)], [(8605,15475),(9115,15955)], [(9640,14835),(10150,15955)], [(10340,14835),(10850,15245)], [(10020,15055),(10560,15425)], [(10680,14015),(11190,15425)], [(11020,14185),(11550,15245)], [(10020,15085),(11190,15725)], [(11380,14155),(12040,15455)], [(8605,15615),(9280,16125)], [(9135,15615),(10150,16125)], [(10130,15565),(10840,16405)], [(10680,15385),(11190,15955)], [(11235,15115),(12040,15785)], [(11870,13985),(12380,15165)], [(12220,13515),(12875,14355)], [(12765,13685),(13445,14585)], [(12210,14245),(13445,14960)], [(13275,13515),(13785,14865)], [(12915,14620),(13445,15165)], [(11870,14825),(13085,15495)], [(12915,14825),(14005,15495)], [(11870,15155),(12380,15955)], [(12915,15155),(13455,15665)], [(10680,15615),(11425,16125)], [(11255,15615),(12380,16125)], [(12315,15535),(12865,16405)], [(12785,15325),(13455,16190)], [(13285,15455),(13795,16405)], [(6730,16065),(14430,16575)], [(6990,14695),(7340,15345)], [(8270,14655),(8550,15605)], [(13785,13900),(14115,14745)], [(13785,14745),(14175,14825)], [(13960,14825),(14175,14875)], [(14005,14875),(14175,15455)], [(13950,15455),(14175,15495)], [(13795,15495),(14175,15580)], [(13795,15580),(14125,16015)], [(8110,18785),(15810,19295)], [(8285,18115),(8795,18955)], [(8625,18285),(9295,19125)], [(8285,17945),(9290,18455)], [(8720,16955),(9290,18285)], [(8285,16785),(9290,17295)], [(8285,16495),(8795,17125)], [(8625,16235),(9295,16955)], [(9124,16495),(9650,18955)], [(9550,18325),(10155,19125)], [(9985,18190),(10575,18955)], [(10445,18340),(11890,18850)], [(9930,18060),(10575,18530)], [(9930,16955),(10440,18400)], [(10270,17275),(10850,18210)], [(10680,17805),(11550,18510)], [(10680,17105),(11190,18145)], [(11380,17725),(11890,18680)], [(11720,17985),(12230,19125)], [(12060,18285),(12650,18955)], [(12535,18315),(13760,18825)], [(11380,17635),(12230,18065)], [(9930,16825),(10495,17295)], [(10325,16885),(11190,17445)], [(11020,17465),(12230,17975)], [(9565,16235),(10155,17035)], [(9985,16685),(10495,17165)], [(11020,16685),(11530,17805)], [(11720,17395),(12230,17805)], [(11400,17215),(11940,17585)], [(12060,17215),(12570,18625)], [(12400,17395),(12930,18455)], [(11400,16915),(12570,17555)], [(12760,17185),(13420,18485)], [(9985,16515),(10660,17025)], [(10515,16515),(11530,17025)], [(11510,16235),(12220,17075)], [(12060,16685),(12570,17255)], [(12615,16855),(13420,17525)], [(13250,17475),(13760,18655)], [(13600,18285),(14255,19125)], [(14145,18055),(14825,18955)], [(13590,17680),(14825,18395)], [(14655,17775),(15165,19125)], [(14295,17475),(14825,18020)], [(13250,17145),(14465,17815)], [(14295,17145),(15385,17815)], [(13250,16685),(13760,17485)], [(14295,16975),(14835,17485)], [(12060,16515),(12805,17025)], [(12635,16515),(13760,17025)], [(13695,16235),(14245,17105)], [(14165,16450),(14835,17315)], [(14665,16235),(15175,17185)], [(8110,16065),(15810,16575)], [(8370,17295),(8720,17945)], [(9650,17035),(9930,17985)], [(15165,17895),(15495,18740)], [(15165,17815),(15555,17895)], [(15340,17765),(15555,17815)], [(15385,17185),(15555,17765)], [(15330,17145),(15555,17185)], [(15175,17060),(15555,17145)], [(15175,16625),(15505,17060)], [(9950,13345),(17650,13855)], [(16965,12675),(17475,13515)], [(16465,12845),(17135,13685)], [(16470,12505),(17475,13015)], [(16470,11515),(17040,12845)], [(16470,11345),(17475,11855)], [(16965,11055),(17475,11685)], [(16465,10795),(17135,11515)], [(16110,11055),(16636,13515)], [(15605,12885),(16210,13685)], [(15185,12750),(15775,13515)], [(13870,12900),(15315,13410)], [(15185,12620),(15830,13090)], [(15320,11515),(15830,12960)], [(14910,11835),(15490,12770)], [(14210,12365),(15080,13070)], [(14570,11665),(15080,12705)], [(13870,12285),(14380,13240)], [(13530,12545),(14040,13685)], [(13110,12845),(13700,13515)], [(12000,12875),(13225,13385)], [(13530,12195),(14380,12625)], [(15265,11385),(15830,11855)], [(14570,11445),(15435,12005)], [(13530,12025),(14740,12535)], [(15605,10795),(16195,11595)], [(15265,11245),(15775,11725)], [(14230,11245),(14740,12365)], [(13530,11955),(14040,12365)], [(13820,11775),(14360,12145)], [(13190,11775),(13700,13185)], [(12830,11955),(13360,13015)], [(13190,11475),(14360,12115)], [(12340,11745),(13000,13045)], [(15100,11075),(15775,11585)], [(14230,11075),(15245,11585)], [(13540,10795),(14250,11635)], [(13190,11245),(13700,11815)], [(12340,11415),(13145,12085)], [(12000,12035),(12510,13215)], [(11505,12845),(12160,13685)], [(10935,12615),(11615,13515)], [(10935,12240),(12170,12955)], [(10595,12335),(11105,13685)], [(10935,12035),(11465,12580)], [(11295,11705),(12510,12375)], [(10375,11705),(11465,12375)], [(12000,11245),(12510,12045)], [(10925,11535),(11465,12045)], [(12955,11075),(13700,11585)], [(12000,11075),(13125,11585)], [(11515,10795),(12065,11665)], [(10925,11010),(11595,11875)], [(10585,10795),(11095,11745)], [(9950,10625),(17650,11135)], [(17040,11855),(17390,12505)], [(15830,11595),(16110,12545)], [(10265,12455),(10595,13300)], [(10205,12375),(10595,12455)], [(10205,12325),(10420,12375)], [(10205,11745),(10375,12325)], [(10205,11705),(10430,11745)], [(10205,11620),(10585,11705)], [(10255,11185),(10585,11620)], [(6730,29665),(8450,30175)], [(7255,28905),(7925,30005)], [(6905,28735),(7415,29835)], [(6905,28565),(7910,29075)], [(7400,28420),(7910,28905)], [(7400,28090),(8025,28760)], [(7400,27835),(7910,28430)], [(6905,27665),(7910,28175)], [(7255,27115),(7925,27835)], [(6905,27285),(7415,28005)], [(6730,26945),(8450,27455)], [(7005,28185),(7335,28555)], [(7925,28760),(8195,29665)], [(8025,27960),(8195,28760)], [(7935,27455),(8195,27960)], [(15470,29665),(17190,30175)], [(15995,28905),(16665,30005)], [(16505,28735),(17015,29835)], [(16010,28565),(17015,29075)], [(16010,28420),(16520,28905)], [(15895,28090),(16520,28760)], [(16010,27835),(16520,28430)], [(16010,27665),(17015,28175)], [(15995,27115),(16665,27835)], [(16505,27285),(17015,28005)], [(15470,26945),(17190,27455)], [(16585,28185),(16915,28555)], [(15725,28760),(15995,29665)], [(15725,27960),(15895,28760)], [(15725,27455),(15985,27960)], [(21910,29665),(23630,30175)], [(22435,28905),(23105,30005)], [(22945,28735),(23455,29835)], [(22450,28565),(23455,29075)], [(22450,28420),(22960,28905)], [(22335,28090),(22960,28760)], [(22450,27835),(22960,28430)], [(22450,27665),(23455,28175)], [(22435,27115),(23105,27835)], [(22945,27285),(23455,28005)], [(21910,26945),(23630,27455)], [(23025,28185),(23355,28555)], [(22165,28760),(22435,29665)], [(22165,27960),(22335,28760)], [(22165,27455),(22425,27960)], [(6730,18785),(8450,19295)], [(7255,18025),(7925,19125)], [(6905,17855),(7415,18955)], [(6905,17685),(7910,18195)], [(7400,17540),(7910,18025)], [(7400,17210),(8025,17880)], [(7400,16955),(7910,17550)], [(6905,16785),(7910,17295)], [(7255,16235),(7925,16955)], [(6905,16405),(7415,17125)], [(6730,16065),(8450,16575)], [(7005,17305),(7335,17675)], [(7925,17880),(8195,18785)], [(8025,17080),(8195,17880)], [(7935,16575),(8195,17080)], [(8110,29665),(9830,30175)], [(8635,28905),(9305,30005)], [(8285,28735),(8795,29835)], [(8285,28565),(9290,29075)], [(8780,28420),(9290,28905)], [(8780,28090),(9405,28760)], [(8780,27835),(9290,28430)], [(8285,27665),(9290,28175)], [(8635,27115),(9305,27835)], [(8285,27285),(8795,28005)], [(8110,26945),(9830,27455)], [(8385,28185),(8715,28555)], [(9305,28760),(9575,29665)], [(9405,27960),(9575,28760)], [(9315,27455),(9575,27960)], [(7650,13345),(9370,13855)], [(8685,12415),(9205,13515)], [(8175,12585),(8845,13685)], [(8190,12245),(9205,12755)], [(8190,12100),(8700,12585)], [(8085,11770),(8700,12440)], [(8190,11515),(8700,12110)], [(8190,11345),(9195,11855)], [(8685,10965),(9195,11685)], [(8175,10795),(8845,11515)], [(7650,10625),(9370,11135)], [(8755,11865),(9095,12235)], [(7905,12440),(8175,13345)], [(7905,11640),(8085,12440)], [(7905,11135),(8165,11640)], [(21910,13345),(23630,13855)], [(22075,12415),(22595,13515)], [(22435,12585),(23105,13685)], [(22075,12245),(23090,12755)], [(22580,12100),(23090,12585)], [(22580,11770),(23195,12440)], [(22580,11515),(23090,12110)], [(22085,11345),(23090,11855)], [(22085,10965),(22595,11685)], [(22435,10795),(23105,11515)], [(21910,10625),(23630,11135)], [(22185,11865),(22525,12235)], [(23105,12440),(23375,13345)], [(23195,11640),(23375,12440)], [(23115,11135),(23375,11640)]], 'met1': [[(5520,10640),(6900,11120)], [(5520,13360),(6900,13840)], [(23460,10640),(24840,11120)], [(23460,13360),(24840,13840)], [(5520,16080),(6900,16560)], [(5520,13360),(6900,13840)], [(23460,16080),(24840,16560)], [(23460,13360),(24840,13840)], [(5520,16080),(6900,16560)], [(5520,18800),(6900,19280)], [(23460,16080),(24840,16560)], [(23460,18800),(24840,19280)], [(5520,21520),(6900,22000)], [(5520,18800),(6900,19280)], [(23460,21520),(24840,22000)], [(23460,18800),(24840,19280)], [(5520,21520),(6900,22000)], [(5520,24240),(6900,24720)], [(23460,21520),(24840,22000)], [(23460,24240),(24840,24720)], [(5520,26960),(6900,27440)], [(5520,24240),(6900,24720)], [(23460,26960),(24840,27440)], [(23460,24240),(24840,24720)], [(5520,26960),(6900,27440)], [(5520,29680),(6900,30160)], [(23460,26960),(24840,27440)], [(23460,29680),(24840,30160)], [(18400,10640),(18860,11120)], [(18400,13360),(18860,13840)], [(18400,16080),(18860,16560)], [(18400,18800),(18860,19280)], [(18400,21520),(18860,22000)], [(18400,24240),(18860,24720)], [(18400,26960),(18860,27440)], [(18400,29680),(18860,30160)], [(18860,26960),(20240,27440)], [(18860,24240),(20240,24720)], [(15640,26960),(18860,27440)], [(15640,24240),(18860,24720)], [(18860,21520),(21620,22000)], [(18860,24240),(21620,24720)], [(14630,14135),(15320,14580)], [(16730,14135),(17420,14580)], [(18300,14135),(18990,14580)], [(14630,14180),(18990,14720)], [(14630,14320),(15320,14765)], [(16730,14320),(17420,14765)], [(18300,14320),(18990,14765)], [(15025,14475),(15715,14920)], [(16215,14475),(16905,14920)], [(18735,14475),(19425,14920)], [(15025,14520),(19425,15060)], [(15025,14660),(15715,15105)], [(16215,14660),(16905,15105)], [(18735,14660),(19425,15105)], [(14260,16080),(21620,16560)], [(14260,13360),(21620,13840)], [(8650,25015),(9340,25460)], [(10750,25015),(11440,25460)], [(12320,25015),(13010,25460)], [(8650,25060),(13010,25600)], [(8650,25200),(9340,25645)], [(10750,25200),(11440,25645)], [(12320,25200),(13010,25645)], [(9045,25355),(9735,25800)], [(10235,25355),(10925,25800)], [(12755,25355),(13445,25800)], [(9045,25400),(13445,25940)], [(9045,25540),(9735,25985)], [(10235,25540),(10925,25985)], [(12755,25540),(13445,25985)], [(8280,26960),(15640,27440)], [(8280,24240),(15640,24720)], [(11410,23500),(12100,23945)], [(13510,23500),(14200,23945)], [(15080,23500),(15770,23945)], [(11410,23360),(15770,23900)], [(11410,23315),(12100,23760)], [(13510,23315),(14200,23760)], [(15080,23315),(15770,23760)], [(11805,23160),(12495,23605)], [(12995,23160),(13685,23605)], [(15515,23160),(16205,23605)], [(11805,23020),(16205,23560)], [(11805,22975),(12495,23420)], [(12995,22975),(13685,23420)], [(15515,22975),(16205,23420)], [(11040,21520),(18400,22000)], [(11040,24240),(18400,24720)], [(20100,19575),(20790,20020)], [(18000,19575),(18690,20020)], [(16430,19575),(17120,20020)], [(16430,19620),(20790,20160)], [(20100,19760),(20790,20205)], [(18000,19760),(18690,20205)], [(16430,19760),(17120,20205)], [(19705,19915),(20395,20360)], [(18515,19915),(19205,20360)], [(15995,19915),(16685,20360)], [(15995,19960),(20395,20500)], [(19705,20100),(20395,20545)], [(18515,20100),(19205,20545)], [(15995,20100),(16685,20545)], [(13800,21520),(21160,22000)], [(13800,18800),(21160,19280)], [(7270,14135),(7960,14580)], [(9370,14135),(10060,14580)], [(10940,14135),(11630,14580)], [(7270,14180),(11630,14720)], [(7270,14320),(7960,14765)], [(9370,14320),(10060,14765)], [(10940,14320),(11630,14765)], [(7665,14475),(8355,14920)], [(8855,14475),(9545,14920)], [(11375,14475),(12065,14920)], [(7665,14520),(12065,15060)], [(7665,14660),(8355,15105)], [(8855,14660),(9545,15105)], [(11375,14660),(12065,15105)], [(6900,16080),(14260,16560)], [(6900,13360),(14260,13840)], [(8650,18060),(9340,18505)], [(10750,18060),(11440,18505)], [(12320,18060),(13010,18505)], [(8650,17920),(13010,18460)], [(8650,17875),(9340,18320)], [(10750,17875),(11440,18320)], [(12320,17875),(13010,18320)], [(9045,17720),(9735,18165)], [(10235,17720),(10925,18165)], [(12755,17720),(13445,18165)], [(9045,17580),(13445,18120)], [(9045,17535),(9735,17980)], [(10235,17535),(10925,17980)], [(12755,17535),(13445,17980)], [(8280,16080),(15640,16560)], [(8280,18800),(15640,19280)], [(16420,12620),(17110,13065)], [(14320,12620),(15010,13065)], [(12750,12620),(13440,13065)], [(12750,12480),(17110,13020)], [(16420,12435),(17110,12880)], [(14320,12435),(15010,12880)], [(12750,12435),(13440,12880)], [(16025,12280),(16715,12725)], [(14835,12280),(15525,12725)], [(12315,12280),(13005,12725)], [(12315,12140),(16715,12680)], [(16025,12095),(16715,12540)], [(14835,12095),(15525,12540)], [(12315,12095),(13005,12540)], [(10120,10640),(17480,11120)], [(10120,13360),(17480,13840)], [(6900,26960),(8280,27440)], [(6900,29680),(8280,30160)], [(15640,26960),(17020,27440)], [(15640,29680),(17020,30160)], [(22080,26960),(23460,27440)], [(22080,29680),(23460,30160)], [(6900,16080),(8280,16560)], [(6900,18800),(8280,19280)], [(8280,26960),(9660,27440)], [(8280,29680),(9660,30160)], [(7820,10640),(9200,11120)], [(7820,13360),(9200,13840)], [(22080,10640),(23460,11120)], [(22080,13360),(23460,13840)]], 'met2': [], 'met3': [], 'met4': [], 'met5': []}\n"
          ]
        }
      ]
    },
    {
      "cell_type": "markdown",
      "source": [
        "**Adding boundary pins**"
      ],
      "metadata": {
        "id": "krOBa1lYlFLP"
      }
    },
    {
      "cell_type": "code",
      "source": [
        "b_pins={}\n",
        "for i in d.pins():\n",
        "  b_pins['PIN',i.name()]=i.ports()[0]\n",
        "\n",
        "for i in b_pins:\n",
        "  cell_pin[i]=b_pins[i]\n",
        "  for j in b_pins[i].keys():\n",
        "    obstructions[j].extend(b_pins[i][j])\n",
        "print(cell_pin)\n",
        "print(obstructions)"
      ],
      "metadata": {
        "colab": {
          "base_uri": "https://localhost:8080/"
        },
        "id": "S8OmBRsxRDWB",
        "outputId": "da4c5cad-6c6b-4fab-df85-b68f69cffe0f"
      },
      "execution_count": 7,
      "outputs": [
        {
          "output_type": "stream",
          "name": "stdout",
          "text": [
            "{('PHY_EDGE_ROW_0_Left_7', 'VGND'): {'met1': [[(5520,10640),(6900,11120)]]}, ('PHY_EDGE_ROW_0_Left_7', 'VPWR'): {'met1': [[(5520,13360),(6900,13840)]]}, ('PHY_EDGE_ROW_0_Right_0', 'VGND'): {'met1': [[(23460,10640),(24840,11120)]]}, ('PHY_EDGE_ROW_0_Right_0', 'VPWR'): {'met1': [[(23460,13360),(24840,13840)]]}, ('PHY_EDGE_ROW_1_Left_8', 'VGND'): {'met1': [[(5520,16080),(6900,16560)]]}, ('PHY_EDGE_ROW_1_Left_8', 'VPWR'): {'met1': [[(5520,13360),(6900,13840)]]}, ('PHY_EDGE_ROW_1_Right_1', 'VGND'): {'met1': [[(23460,16080),(24840,16560)]]}, ('PHY_EDGE_ROW_1_Right_1', 'VPWR'): {'met1': [[(23460,13360),(24840,13840)]]}, ('PHY_EDGE_ROW_2_Left_9', 'VGND'): {'met1': [[(5520,16080),(6900,16560)]]}, ('PHY_EDGE_ROW_2_Left_9', 'VPWR'): {'met1': [[(5520,18800),(6900,19280)]]}, ('PHY_EDGE_ROW_2_Right_2', 'VGND'): {'met1': [[(23460,16080),(24840,16560)]]}, ('PHY_EDGE_ROW_2_Right_2', 'VPWR'): {'met1': [[(23460,18800),(24840,19280)]]}, ('PHY_EDGE_ROW_3_Left_10', 'VGND'): {'met1': [[(5520,21520),(6900,22000)]]}, ('PHY_EDGE_ROW_3_Left_10', 'VPWR'): {'met1': [[(5520,18800),(6900,19280)]]}, ('PHY_EDGE_ROW_3_Right_3', 'VGND'): {'met1': [[(23460,21520),(24840,22000)]]}, ('PHY_EDGE_ROW_3_Right_3', 'VPWR'): {'met1': [[(23460,18800),(24840,19280)]]}, ('PHY_EDGE_ROW_4_Left_11', 'VGND'): {'met1': [[(5520,21520),(6900,22000)]]}, ('PHY_EDGE_ROW_4_Left_11', 'VPWR'): {'met1': [[(5520,24240),(6900,24720)]]}, ('PHY_EDGE_ROW_4_Right_4', 'VGND'): {'met1': [[(23460,21520),(24840,22000)]]}, ('PHY_EDGE_ROW_4_Right_4', 'VPWR'): {'met1': [[(23460,24240),(24840,24720)]]}, ('PHY_EDGE_ROW_5_Left_12', 'VGND'): {'met1': [[(5520,26960),(6900,27440)]]}, ('PHY_EDGE_ROW_5_Left_12', 'VPWR'): {'met1': [[(5520,24240),(6900,24720)]]}, ('PHY_EDGE_ROW_5_Right_5', 'VGND'): {'met1': [[(23460,26960),(24840,27440)]]}, ('PHY_EDGE_ROW_5_Right_5', 'VPWR'): {'met1': [[(23460,24240),(24840,24720)]]}, ('PHY_EDGE_ROW_6_Left_13', 'VGND'): {'met1': [[(5520,26960),(6900,27440)]]}, ('PHY_EDGE_ROW_6_Left_13', 'VPWR'): {'met1': [[(5520,29680),(6900,30160)]]}, ('PHY_EDGE_ROW_6_Right_6', 'VGND'): {'met1': [[(23460,26960),(24840,27440)]]}, ('PHY_EDGE_ROW_6_Right_6', 'VPWR'): {'met1': [[(23460,29680),(24840,30160)]]}, ('TAP_TAPCELL_ROW_0_14', 'VGND'): {'met1': [[(18400,10640),(18860,11120)]]}, ('TAP_TAPCELL_ROW_0_14', 'VPWR'): {'met1': [[(18400,13360),(18860,13840)]]}, ('TAP_TAPCELL_ROW_2_15', 'VGND'): {'met1': [[(18400,16080),(18860,16560)]]}, ('TAP_TAPCELL_ROW_2_15', 'VPWR'): {'met1': [[(18400,18800),(18860,19280)]]}, ('TAP_TAPCELL_ROW_4_16', 'VGND'): {'met1': [[(18400,21520),(18860,22000)]]}, ('TAP_TAPCELL_ROW_4_16', 'VPWR'): {'met1': [[(18400,24240),(18860,24720)]]}, ('TAP_TAPCELL_ROW_6_17', 'VGND'): {'met1': [[(18400,26960),(18860,27440)]]}, ('TAP_TAPCELL_ROW_6_17', 'VPWR'): {'met1': [[(18400,29680),(18860,30160)]]}, ('_01_', 'A'): {'li1': [[(18965,25875),(19300,26125)]]}, ('_01_', 'B'): {'li1': [[(19810,25875),(20145,26145)]]}, ('_01_', 'VGND'): {'met1': [[(18860,26960),(20240,27440)]]}, ('_01_', 'VPWR'): {'met1': [[(18860,24240),(20240,24720)]]}, ('_01_', 'Y'): {'li1': [[(19375,24735),(19705,25715)], [(19470,25715),(19640,26315)], [(18945,26315),(19640,26945)]]}, ('_02_', 'A1'): {'li1': [[(17045,25915),(17375,26125)], [(17165,26125),(17375,26525)]]}, ('_02_', 'A2'): {'li1': [[(16465,25855),(16875,26160)]]}, ('_02_', 'B1'): {'li1': [[(17620,25915),(18095,26125)], [(17620,26125),(17840,26525)]]}, ('_02_', 'B2'): {'li1': [[(18285,25925),(18775,26125)]]}, ('_02_', 'VGND'): {'met1': [[(15640,26960),(18860,27440)]]}, ('_02_', 'VPWR'): {'met1': [[(15640,24240),(18860,24720)]]}, ('_02_', 'X'): {'li1': [[(15725,24735),(15985,25415)], [(15725,25415),(15895,26615)], [(15725,26615),(15985,26945)]]}, ('_03_', 'A1'): {'li1': [[(18945,23035),(19175,23375)], [(18945,22835),(19275,23035)]]}, ('_03_', 'A2'): {'li1': [[(19465,23035),(19680,24150)], [(19465,22855),(19915,23035)], [(19585,22835),(19915,22855)]]}, ('_03_', 'B1'): {'li1': [[(20085,22835),(20555,23065)]]}, ('_03_', 'VGND'): {'met1': [[(18860,21520),(21620,22000)]]}, ('_03_', 'VPWR'): {'met1': [[(18860,24240),(21620,24720)]]}, ('_03_', 'X'): {'li1': [[(21255,22790),(21535,24225)], [(21195,22015),(21535,22790)]]}, ('_04_', 'CLK'): {'li1': [[(14350,14695),(14700,15345)]]}, ('_04_', 'D'): {'li1': [[(15630,14655),(15910,15605)]]}, ('_04_', 'VGND'): {'met1': [[(14260,16080),(21620,16560)]]}, ('_04_', 'VPWR'): {'met1': [[(14260,13360),(21620,13840)]]}, ('_04_', 'Q'): {'li1': [[(21145,13900),(21475,14745)], [(21145,14745),(21535,14825)], [(21320,14825),(21535,14875)], [(21365,14875),(21535,15455)], [(21310,15455),(21535,15495)], [(21155,15495),(21535,15580)], [(21155,15580),(21485,16015)]]}, ('_05_', 'CLK'): {'li1': [[(8370,25575),(8720,26225)]]}, ('_05_', 'D'): {'li1': [[(9650,25535),(9930,26485)]]}, ('_05_', 'VGND'): {'met1': [[(8280,26960),(15640,27440)]]}, ('_05_', 'VPWR'): {'met1': [[(8280,24240),(15640,24720)]]}, ('_05_', 'Q'): {'li1': [[(15165,24780),(15495,25625)], [(15165,25625),(15555,25705)], [(15340,25705),(15555,25755)], [(15385,25755),(15555,26335)], [(15330,26335),(15555,26375)], [(15175,26375),(15555,26460)], [(15175,26460),(15505,26895)]]}, ('_06_', 'CLK'): {'li1': [[(11130,22735),(11480,23385)]]}, ('_06_', 'D'): {'li1': [[(12410,22475),(12690,23425)]]}, ('_06_', 'VGND'): {'met1': [[(11040,21520),(18400,22000)]]}, ('_06_', 'VPWR'): {'met1': [[(11040,24240),(18400,24720)]]}, ('_06_', 'Q'): {'li1': [[(17925,23335),(18255,24180)], [(17925,23255),(18315,23335)], [(18100,23205),(18315,23255)], [(18145,22625),(18315,23205)], [(18090,22585),(18315,22625)], [(17935,22500),(18315,22585)], [(17935,22065),(18265,22500)]]}, ('_07_', 'CLK'): {'li1': [[(20720,20135),(21070,20785)]]}, ('_07_', 'D'): {'li1': [[(19510,20095),(19790,21045)]]}, ('_07_', 'VGND'): {'met1': [[(13800,21520),(21160,22000)]]}, ('_07_', 'VPWR'): {'met1': [[(13800,18800),(21160,19280)]]}, ('_07_', 'Q'): {'li1': [[(13945,19340),(14275,20185)], [(13885,20185),(14275,20265)], [(13885,20265),(14100,20315)], [(13885,20315),(14055,20895)], [(13885,20895),(14110,20935)], [(13885,20935),(14265,21020)], [(13935,21020),(14265,21455)]]}, ('_08_', 'CLK'): {'li1': [[(6990,14695),(7340,15345)]]}, ('_08_', 'D'): {'li1': [[(8270,14655),(8550,15605)]]}, ('_08_', 'VGND'): {'met1': [[(6900,16080),(14260,16560)]]}, ('_08_', 'VPWR'): {'met1': [[(6900,13360),(14260,13840)]]}, ('_08_', 'Q'): {'li1': [[(13785,13900),(14115,14745)], [(13785,14745),(14175,14825)], [(13960,14825),(14175,14875)], [(14005,14875),(14175,15455)], [(13950,15455),(14175,15495)], [(13795,15495),(14175,15580)], [(13795,15580),(14125,16015)]]}, ('_09_', 'CLK'): {'li1': [[(8370,17295),(8720,17945)]]}, ('_09_', 'D'): {'li1': [[(9650,17035),(9930,17985)]]}, ('_09_', 'VGND'): {'met1': [[(8280,16080),(15640,16560)]]}, ('_09_', 'VPWR'): {'met1': [[(8280,18800),(15640,19280)]]}, ('_09_', 'Q'): {'li1': [[(15165,17895),(15495,18740)], [(15165,17815),(15555,17895)], [(15340,17765),(15555,17815)], [(15385,17185),(15555,17765)], [(15330,17145),(15555,17185)], [(15175,17060),(15555,17145)], [(15175,16625),(15505,17060)]]}, ('_10_', 'CLK'): {'li1': [[(17040,11855),(17390,12505)]]}, ('_10_', 'D'): {'li1': [[(15830,11595),(16110,12545)]]}, ('_10_', 'VGND'): {'met1': [[(10120,10640),(17480,11120)]]}, ('_10_', 'VPWR'): {'met1': [[(10120,13360),(17480,13840)]]}, ('_10_', 'Q'): {'li1': [[(10265,12455),(10595,13300)], [(10205,12375),(10595,12455)], [(10205,12325),(10420,12375)], [(10205,11745),(10375,12325)], [(10205,11705),(10430,11745)], [(10205,11620),(10585,11705)], [(10255,11185),(10585,11620)]]}, ('input1', 'A'): {'li1': [[(7005,28185),(7335,28555)]]}, ('input1', 'VGND'): {'met1': [[(6900,26960),(8280,27440)]]}, ('input1', 'VPWR'): {'met1': [[(6900,29680),(8280,30160)]]}, ('input1', 'X'): {'li1': [[(7925,28760),(8195,29665)], [(8025,27960),(8195,28760)], [(7935,27455),(8195,27960)]]}, ('input2', 'A'): {'li1': [[(16585,28185),(16915,28555)]]}, ('input2', 'VGND'): {'met1': [[(15640,26960),(17020,27440)]]}, ('input2', 'VPWR'): {'met1': [[(15640,29680),(17020,30160)]]}, ('input2', 'X'): {'li1': [[(15725,28760),(15995,29665)], [(15725,27960),(15895,28760)], [(15725,27455),(15985,27960)]]}, ('input3', 'A'): {'li1': [[(23025,28185),(23355,28555)]]}, ('input3', 'VGND'): {'met1': [[(22080,26960),(23460,27440)]]}, ('input3', 'VPWR'): {'met1': [[(22080,29680),(23460,30160)]]}, ('input3', 'X'): {'li1': [[(22165,28760),(22435,29665)], [(22165,27960),(22335,28760)], [(22165,27455),(22425,27960)]]}, ('input4', 'A'): {'li1': [[(7005,17305),(7335,17675)]]}, ('input4', 'VGND'): {'met1': [[(6900,16080),(8280,16560)]]}, ('input4', 'VPWR'): {'met1': [[(6900,18800),(8280,19280)]]}, ('input4', 'X'): {'li1': [[(7925,17880),(8195,18785)], [(8025,17080),(8195,17880)], [(7935,16575),(8195,17080)]]}, ('input5', 'A'): {'li1': [[(8385,28185),(8715,28555)]]}, ('input5', 'VGND'): {'met1': [[(8280,26960),(9660,27440)]]}, ('input5', 'VPWR'): {'met1': [[(8280,29680),(9660,30160)]]}, ('input5', 'X'): {'li1': [[(9305,28760),(9575,29665)], [(9405,27960),(9575,28760)], [(9315,27455),(9575,27960)]]}, ('output6', 'A'): {'li1': [[(8755,11865),(9095,12235)]]}, ('output6', 'VGND'): {'met1': [[(7820,10640),(9200,11120)]]}, ('output6', 'VPWR'): {'met1': [[(7820,13360),(9200,13840)]]}, ('output6', 'X'): {'li1': [[(7905,12440),(8175,13345)], [(7905,11640),(8085,12440)], [(7905,11135),(8165,11640)]]}, ('output7', 'A'): {'li1': [[(22185,11865),(22525,12235)]]}, ('output7', 'VGND'): {'met1': [[(22080,10640),(23460,11120)]]}, ('output7', 'VPWR'): {'met1': [[(22080,13360),(23460,13840)]]}, ('output7', 'X'): {'li1': [[(23105,12440),(23375,13345)], [(23195,11640),(23375,12440)], [(23115,11135),(23375,11640)]]}, ('PIN', 'N1_d'): {'met2': [[(5150,37420),(5430,41420)]]}, ('PIN', 'N22'): {'met2': [[(7450,0),(7730,4000)]]}, ('PIN', 'N23'): {'met2': [[(22630,0),(22910,4000)]]}, ('PIN', 'N2_d'): {'met2': [[(15270,37420),(15550,41420)]]}, ('PIN', 'N3_d'): {'met2': [[(25390,37420),(25670,41420)]]}, ('PIN', 'N6_d'): {'met3': [[(0,9560),(4000,10160)]]}, ('PIN', 'N7_d'): {'met3': [[(0,29960),(4000,30560)]]}, ('PIN', 'VGND'): {'met4': [[(24020,10640),(25620,30160)], [(9020,10640),(10620,30160)]], 'met5': [[(5280,14380),(25620,15980)]]}, ('PIN', 'VPWR'): {'met4': [[(20720,10640),(22320,30160)], [(5720,10640),(7320,30160)]], 'met5': [[(5280,26080),(25080,27680)], [(5280,11080),(25080,12680)]]}, ('PIN', 'clk'): {'met3': [[(26700,20440),(30700,21040)]]}}\n",
            "{'li1': [[(5520,13515),(6900,13685)], [(5605,12425),(6815,13515)], [(5605,11715),(6125,12255)], [(6295,11884),(6815,12425)], [(5605,10965),(6815,11715)], [(5520,10795),(6900,10965)], [(23460,13515),(24840,13685)], [(23545,12425),(24755,13515)], [(24235,11715),(24755,12255)], [(23545,11884),(24065,12425)], [(23545,10965),(24755,11715)], [(23460,10795),(24840,10965)], [(5520,13515),(6900,13685)], [(5605,13685),(6815,14775)], [(5605,14945),(6125,15485)], [(6295,14775),(6815,15316)], [(5605,15485),(6815,16235)], [(5520,16235),(6900,16405)], [(23460,13515),(24840,13685)], [(23545,13685),(24755,14775)], [(24235,14945),(24755,15485)], [(23545,14775),(24065,15316)], [(23545,15485),(24755,16235)], [(23460,16235),(24840,16405)], [(5520,18955),(6900,19125)], [(5605,17865),(6815,18955)], [(5605,17155),(6125,17695)], [(6295,17324),(6815,17865)], [(5605,16405),(6815,17155)], [(5520,16235),(6900,16405)], [(23460,18955),(24840,19125)], [(23545,17865),(24755,18955)], [(24235,17155),(24755,17695)], [(23545,17324),(24065,17865)], [(23545,16405),(24755,17155)], [(23460,16235),(24840,16405)], [(5520,18955),(6900,19125)], [(5605,19125),(6815,20215)], [(5605,20385),(6125,20925)], [(6295,20215),(6815,20756)], [(5605,20925),(6815,21675)], [(5520,21675),(6900,21845)], [(23460,18955),(24840,19125)], [(23545,19125),(24755,20215)], [(24235,20385),(24755,20925)], [(23545,20215),(24065,20756)], [(23545,20925),(24755,21675)], [(23460,21675),(24840,21845)], [(5520,24395),(6900,24565)], [(5605,23305),(6815,24395)], [(5605,22595),(6125,23135)], [(6295,22764),(6815,23305)], [(5605,21845),(6815,22595)], [(5520,21675),(6900,21845)], [(23460,24395),(24840,24565)], [(23545,23305),(24755,24395)], [(24235,22595),(24755,23135)], [(23545,22764),(24065,23305)], [(23545,21845),(24755,22595)], [(23460,21675),(24840,21845)], [(5520,24395),(6900,24565)], [(5605,24565),(6815,25655)], [(5605,25825),(6125,26365)], [(6295,25655),(6815,26196)], [(5605,26365),(6815,27115)], [(5520,27115),(6900,27285)], [(23460,24395),(24840,24565)], [(23545,24565),(24755,25655)], [(24235,25825),(24755,26365)], [(23545,25655),(24065,26196)], [(23545,26365),(24755,27115)], [(23460,27115),(24840,27285)], [(5520,29835),(6900,30005)], [(5605,28745),(6815,29835)], [(5605,28035),(6125,28575)], [(6295,28204),(6815,28745)], [(5605,27285),(6815,28035)], [(5520,27115),(6900,27285)], [(23460,29835),(24840,30005)], [(23545,28745),(24755,29835)], [(24235,28035),(24755,28575)], [(23545,28204),(24065,28745)], [(23545,27285),(24755,28035)], [(23460,27115),(24840,27285)], [(18400,13515),(18860,13685)], [(18485,12350),(18775,13515)], [(18485,10965),(18775,11690)], [(18400,10795),(18860,10965)], [(18400,18955),(18860,19125)], [(18485,17790),(18775,18955)], [(18485,16405),(18775,17130)], [(18400,16235),(18860,16405)], [(18400,24395),(18860,24565)], [(18485,23230),(18775,24395)], [(18485,21845),(18775,22570)], [(18400,21675),(18860,21845)], [(18400,29835),(18860,30005)], [(18485,28670),(18775,29835)], [(18485,27285),(18775,28010)], [(18400,27115),(18860,27285)], [(18860,24395),(20240,24565)], [(19875,24565),(20155,25705)], [(18945,24565),(19205,25705)], [(19845,26315),(20155,27115)], [(18860,27115),(20240,27285)], [(18965,25875),(19300,26125)], [(19810,25875),(20145,26145)], [(19375,24735),(19705,25715)], [(19470,25715),(19640,26315)], [(18945,26315),(19640,26945)], [(15640,24395),(18860,24565)], [(18435,24735),(18770,24955)], [(17075,24565),(17430,24945)], [(18515,24955),(18770,25575)], [(18035,25075),(18265,25115)], [(16655,24735),(16905,25115)], [(16655,25115),(18265,25315)], [(18080,25315),(18265,25405)], [(16655,25315),(17490,25325)], [(16155,24565),(16405,25345)], [(17595,25485),(17925,25515)], [(16125,25515),(17925,25575)], [(16065,25575),(18770,25685)], [(17595,25685),(18770,25745)], [(16065,25685),(16265,25720)], [(16065,25720),(16235,26295)], [(18315,26350),(18770,27115)], [(16065,26295),(16335,26415)], [(16065,26415),(16910,26460)], [(16155,26460),(16910,26585)], [(16740,26585),(16910,26735)], [(16740,26735),(18040,26945)], [(16155,26755),(16485,27115)], [(15640,27115),(18860,27285)], [(17045,25915),(17375,26125)], [(17165,26125),(17375,26525)], [(16465,25855),(16875,26160)], [(17620,25915),(18095,26125)], [(17620,26125),(17840,26525)], [(18285,25925),(18775,26125)], [(15725,24735),(15985,25415)], [(15725,25415),(15895,26615)], [(15725,26615),(15985,26945)], [(18860,24395),(21620,24565)], [(20375,23620),(21085,24395)], [(19875,23450),(20205,24225)], [(18955,23675),(19285,24395)], [(19875,23235),(21025,23450)], [(20740,22665),(21025,23235)], [(20315,22475),(21025,22665)], [(20315,22335),(20616,22475)], [(18945,22475),(20125,22665)], [(19795,22395),(20125,22475)], [(20300,22325),(20616,22335)], [(20290,22315),(20616,22325)], [(20280,22310),(20616,22315)], [(20855,21845),(21025,22305)], [(20275,22300),(20616,22310)], [(20270,22295),(20616,22300)], [(20265,22285),(20616,22295)], [(20260,22280),(20616,22285)], [(20255,22015),(20616,22280)], [(19455,21845),(19625,22305)], [(18945,22015),(19285,22475)], [(18860,21675),(21620,21845)], [(18945,23035),(19175,23375)], [(18945,22835),(19275,23035)], [(19465,23035),(19680,24150)], [(19465,22855),(19915,23035)], [(19585,22835),(19915,22855)], [(20085,22835),(20555,23065)], [(21255,22790),(21535,24225)], [(21195,22015),(21535,22790)], [(14260,13515),(21620,13685)], [(14435,13855),(14605,14355)], [(14775,13685),(15105,14185)], [(14435,14355),(15100,14525)], [(14870,14525),(15100,15515)], [(14435,15515),(15100,15685)], [(14435,15685),(14605,15975)], [(14775,15855),(15105,16235)], [(15274,13855),(15460,15975)], [(15700,13685),(15965,14145)], [(16135,13855),(16385,14280)], [(16595,13960),(17700,14130)], [(16080,14280),(16385,14410)], [(16080,14410),(16250,15515)], [(16420,14600),(16660,15195)], [(16830,14300),(17360,14665)], [(16830,14665),(17000,15365)], [(17530,14130),(17700,14745)], [(17870,13685),(18040,14485)], [(18210,13855),(18460,14185)], [(18685,13985),(19570,14155)], [(17530,14745),(18040,14835)], [(16080,15515),(16305,15645)], [(16475,15365),(17000,15585)], [(17170,14835),(18040,15005)], [(15715,15775),(15965,16235)], [(16135,15645),(16305,15785)], [(17170,15005),(17340,15785)], [(17870,15005),(18040,15075)], [(17550,15225),(17750,15255)], [(18210,14185),(18380,15255)], [(18550,14355),(18740,15075)], [(17550,15255),(18380,15555)], [(18910,14325),(19230,15285)], [(16135,15785),(16470,15955)], [(16665,15785),(17340,15955)], [(17660,15735),(18030,16235)], [(18210,15555),(18380,15785)], [(18765,15285),(19230,15615)], [(19400,14155),(19570,14995)], [(19750,13685),(20065,14185)], [(20295,13855),(20635,14415)], [(19740,14415),(20635,14790)], [(20805,13685),(20975,14695)], [(20445,14790),(20635,14995)], [(19400,14995),(20275,15325)], [(20445,14995),(21195,15325)], [(19400,15325),(19570,15785)], [(20445,15325),(20645,15495)], [(18210,15785),(18615,15955)], [(18785,15785),(19570,15955)], [(19845,15705),(20055,16235)], [(20315,15495),(20645,16020)], [(20815,15625),(20985,16235)], [(14260,16235),(21620,16405)], [(14350,14695),(14700,15345)], [(15630,14655),(15910,15605)], [(21145,13900),(21475,14745)], [(21145,14745),(21535,14825)], [(21320,14825),(21535,14875)], [(21365,14875),(21535,15455)], [(21310,15455),(21535,15495)], [(21155,15495),(21535,15580)], [(21155,15580),(21485,16015)], [(8280,24395),(15640,24565)], [(8455,24735),(8625,25235)], [(8795,24565),(9125,25065)], [(8455,25235),(9120,25405)], [(8890,25405),(9120,26395)], [(8455,26395),(9120,26565)], [(8455,26565),(8625,26855)], [(8795,26735),(9125,27115)], [(9294,24735),(9480,26855)], [(9720,24565),(9985,25025)], [(10155,24735),(10405,25160)], [(10615,24840),(11720,25010)], [(10100,25160),(10405,25290)], [(10100,25290),(10270,26395)], [(10440,25480),(10680,26075)], [(10850,25180),(11380,25545)], [(10850,25545),(11020,26245)], [(11550,25010),(11720,25625)], [(11890,24565),(12060,25365)], [(12230,24735),(12480,25065)], [(12705,24865),(13590,25035)], [(11550,25625),(12060,25715)], [(10100,26395),(10325,26525)], [(10495,26245),(11020,26465)], [(11190,25715),(12060,25885)], [(9735,26655),(9985,27115)], [(10155,26525),(10325,26665)], [(11190,25885),(11360,26665)], [(11890,25885),(12060,25955)], [(11570,26105),(11770,26135)], [(12230,25065),(12400,26135)], [(12570,25235),(12760,25955)], [(11570,26135),(12400,26435)], [(12930,25205),(13250,26165)], [(10155,26665),(10490,26835)], [(10685,26665),(11360,26835)], [(11680,26615),(12050,27115)], [(12230,26435),(12400,26665)], [(12785,26165),(13250,26495)], [(13420,25035),(13590,25875)], [(13770,24565),(14085,25065)], [(14315,24735),(14655,25295)], [(13760,25295),(14655,25670)], [(14825,24565),(14995,25575)], [(14465,25670),(14655,25875)], [(13420,25875),(14295,26205)], [(14465,25875),(15215,26205)], [(13420,26205),(13590,26665)], [(14465,26205),(14665,26375)], [(12230,26665),(12635,26835)], [(12805,26665),(13590,26835)], [(13865,26585),(14075,27115)], [(14335,26375),(14665,26900)], [(14835,26505),(15005,27115)], [(8280,27115),(15640,27285)], [(8370,25575),(8720,26225)], [(9650,25535),(9930,26485)], [(15165,24780),(15495,25625)], [(15165,25625),(15555,25705)], [(15340,25705),(15555,25755)], [(15385,25755),(15555,26335)], [(15330,26335),(15555,26375)], [(15175,26375),(15555,26460)], [(15175,26460),(15505,26895)], [(11040,24395),(18400,24565)], [(11215,23725),(11385,24225)], [(11555,23895),(11885,24395)], [(11215,23555),(11880,23725)], [(11650,22565),(11880,23555)], [(11215,22395),(11880,22565)], [(11215,22105),(11385,22395)], [(11555,21845),(11885,22225)], [(12054,22105),(12240,24225)], [(12480,23935),(12745,24395)], [(12915,23800),(13165,24225)], [(13375,23950),(14480,24120)], [(12860,23670),(13165,23800)], [(12860,22565),(13030,23670)], [(13200,22885),(13440,23480)], [(13610,23415),(14140,23780)], [(13610,22715),(13780,23415)], [(14310,23335),(14480,23950)], [(14650,23595),(14820,24395)], [(14990,23895),(15240,24225)], [(15465,23925),(16350,24095)], [(14310,23245),(14820,23335)], [(12860,22435),(13085,22565)], [(13255,22495),(13780,22715)], [(13950,23075),(14820,23245)], [(12495,21845),(12745,22305)], [(12915,22295),(13085,22435)], [(13950,22295),(14120,23075)], [(14650,23005),(14820,23075)], [(14330,22825),(14530,22855)], [(14990,22825),(15160,23895)], [(15330,23005),(15520,23725)], [(14330,22525),(15160,22825)], [(15690,22795),(16010,23755)], [(12915,22125),(13250,22295)], [(13445,22125),(14120,22295)], [(14440,21845),(14810,22345)], [(14990,22295),(15160,22525)], [(15545,22465),(16010,22795)], [(16180,23085),(16350,23925)], [(16530,23895),(16845,24395)], [(17075,23665),(17415,24225)], [(16520,23290),(17415,23665)], [(17585,23385),(17755,24395)], [(17225,23085),(17415,23290)], [(16180,22755),(17055,23085)], [(17225,22755),(17975,23085)], [(16180,22295),(16350,22755)], [(17225,22585),(17425,22755)], [(14990,22125),(15395,22295)], [(15565,22125),(16350,22295)], [(16625,21845),(16835,22375)], [(17095,22060),(17425,22585)], [(17595,21845),(17765,22455)], [(11040,21675),(18400,21845)], [(11130,22735),(11480,23385)], [(12410,22475),(12690,23425)], [(17925,23335),(18255,24180)], [(17925,23255),(18315,23335)], [(18100,23205),(18315,23255)], [(18145,22625),(18315,23205)], [(18090,22585),(18315,22625)], [(17935,22500),(18315,22585)], [(17935,22065),(18265,22500)], [(13800,18955),(21160,19125)], [(20815,19295),(20985,19795)], [(20315,19125),(20645,19625)], [(20320,19795),(20985,19965)], [(20320,19965),(20550,20955)], [(20320,20955),(20985,21125)], [(20815,21125),(20985,21415)], [(20315,21295),(20645,21675)], [(19960,19295),(20146,21415)], [(19455,19125),(19720,19585)], [(19035,19295),(19285,19720)], [(17720,19400),(18825,19570)], [(19035,19720),(19340,19850)], [(19170,19850),(19340,20955)], [(18760,20040),(19000,20635)], [(18060,19740),(18590,20105)], [(18420,20105),(18590,20805)], [(17720,19570),(17890,20185)], [(17380,19125),(17550,19925)], [(16960,19295),(17210,19625)], [(15850,19425),(16735,19595)], [(17380,20185),(17890,20275)], [(19115,20955),(19340,21085)], [(18420,20805),(18945,21025)], [(17380,20275),(18250,20445)], [(19455,21215),(19705,21675)], [(19115,21085),(19285,21225)], [(18080,20445),(18250,21225)], [(17380,20445),(17550,20515)], [(17670,20665),(17870,20695)], [(17040,19625),(17210,20695)], [(16680,19795),(16870,20515)], [(17040,20695),(17870,20995)], [(16190,19765),(16510,20725)], [(18950,21225),(19285,21395)], [(18080,21225),(18755,21395)], [(17390,21175),(17760,21675)], [(17040,20995),(17210,21225)], [(16190,20725),(16655,21055)], [(15850,19595),(16020,20435)], [(15355,19125),(15670,19625)], [(14785,19295),(15125,19855)], [(14785,19855),(15680,20230)], [(14445,19125),(14615,20135)], [(14785,20230),(14975,20435)], [(15145,20435),(16020,20765)], [(14225,20435),(14975,20765)], [(15850,20765),(16020,21225)], [(14775,20765),(14975,20935)], [(16805,21225),(17210,21395)], [(15850,21225),(16635,21395)], [(15365,21145),(15575,21675)], [(14775,20935),(15105,21460)], [(14435,21065),(14605,21675)], [(13800,21675),(21160,21845)], [(20720,20135),(21070,20785)], [(19510,20095),(19790,21045)], [(13945,19340),(14275,20185)], [(13885,20185),(14275,20265)], [(13885,20265),(14100,20315)], [(13885,20315),(14055,20895)], [(13885,20895),(14110,20935)], [(13885,20935),(14265,21020)], [(13935,21020),(14265,21455)], [(6900,13515),(14260,13685)], [(7075,13855),(7245,14355)], [(7415,13685),(7745,14185)], [(7075,14355),(7740,14525)], [(7510,14525),(7740,15515)], [(7075,15515),(7740,15685)], [(7075,15685),(7245,15975)], [(7415,15855),(7745,16235)], [(7914,13855),(8100,15975)], [(8340,13685),(8605,14145)], [(8775,13855),(9025,14280)], [(9235,13960),(10340,14130)], [(8720,14280),(9025,14410)], [(8720,14410),(8890,15515)], [(9060,14600),(9300,15195)], [(9470,14300),(10000,14665)], [(9470,14665),(9640,15365)], [(10170,14130),(10340,14745)], [(10510,13685),(10680,14485)], [(10850,13855),(11100,14185)], [(11325,13985),(12210,14155)], [(10170,14745),(10680,14835)], [(8720,15515),(8945,15645)], [(9115,15365),(9640,15585)], [(9810,14835),(10680,15005)], [(8355,15775),(8605,16235)], [(8775,15645),(8945,15785)], [(9810,15005),(9980,15785)], [(10510,15005),(10680,15075)], [(10190,15225),(10390,15255)], [(10850,14185),(11020,15255)], [(11190,14355),(11380,15075)], [(10190,15255),(11020,15555)], [(11550,14325),(11870,15285)], [(8775,15785),(9110,15955)], [(9305,15785),(9980,15955)], [(10300,15735),(10670,16235)], [(10850,15555),(11020,15785)], [(11405,15285),(11870,15615)], [(12040,14155),(12210,14995)], [(12390,13685),(12705,14185)], [(12935,13855),(13275,14415)], [(12380,14415),(13275,14790)], [(13445,13685),(13615,14695)], [(13085,14790),(13275,14995)], [(12040,14995),(12915,15325)], [(13085,14995),(13835,15325)], [(12040,15325),(12210,15785)], [(13085,15325),(13285,15495)], [(10850,15785),(11255,15955)], [(11425,15785),(12210,15955)], [(12485,15705),(12695,16235)], [(12955,15495),(13285,16020)], [(13455,15625),(13625,16235)], [(6900,16235),(14260,16405)], [(6990,14695),(7340,15345)], [(8270,14655),(8550,15605)], [(13785,13900),(14115,14745)], [(13785,14745),(14175,14825)], [(13960,14825),(14175,14875)], [(14005,14875),(14175,15455)], [(13950,15455),(14175,15495)], [(13795,15495),(14175,15580)], [(13795,15580),(14125,16015)], [(8280,18955),(15640,19125)], [(8455,18285),(8625,18785)], [(8795,18455),(9125,18955)], [(8455,18115),(9120,18285)], [(8890,17125),(9120,18115)], [(8455,16955),(9120,17125)], [(8455,16665),(8625,16955)], [(8795,16405),(9125,16785)], [(9294,16665),(9480,18785)], [(9720,18495),(9985,18955)], [(10155,18360),(10405,18785)], [(10615,18510),(11720,18680)], [(10100,18230),(10405,18360)], [(10100,17125),(10270,18230)], [(10440,17445),(10680,18040)], [(10850,17975),(11380,18340)], [(10850,17275),(11020,17975)], [(11550,17895),(11720,18510)], [(11890,18155),(12060,18955)], [(12230,18455),(12480,18785)], [(12705,18485),(13590,18655)], [(11550,17805),(12060,17895)], [(10100,16995),(10325,17125)], [(10495,17055),(11020,17275)], [(11190,17635),(12060,17805)], [(9735,16405),(9985,16865)], [(10155,16855),(10325,16995)], [(11190,16855),(11360,17635)], [(11890,17565),(12060,17635)], [(11570,17385),(11770,17415)], [(12230,17385),(12400,18455)], [(12570,17565),(12760,18285)], [(11570,17085),(12400,17385)], [(12930,17355),(13250,18315)], [(10155,16685),(10490,16855)], [(10685,16685),(11360,16855)], [(11680,16405),(12050,16905)], [(12230,16855),(12400,17085)], [(12785,17025),(13250,17355)], [(13420,17645),(13590,18485)], [(13770,18455),(14085,18955)], [(14315,18225),(14655,18785)], [(13760,17850),(14655,18225)], [(14825,17945),(14995,18955)], [(14465,17645),(14655,17850)], [(13420,17315),(14295,17645)], [(14465,17315),(15215,17645)], [(13420,16855),(13590,17315)], [(14465,17145),(14665,17315)], [(12230,16685),(12635,16855)], [(12805,16685),(13590,16855)], [(13865,16405),(14075,16935)], [(14335,16620),(14665,17145)], [(14835,16405),(15005,17015)], [(8280,16235),(15640,16405)], [(8370,17295),(8720,17945)], [(9650,17035),(9930,17985)], [(15165,17895),(15495,18740)], [(15165,17815),(15555,17895)], [(15340,17765),(15555,17815)], [(15385,17185),(15555,17765)], [(15330,17145),(15555,17185)], [(15175,17060),(15555,17145)], [(15175,16625),(15505,17060)], [(10120,13515),(17480,13685)], [(17135,12845),(17305,13345)], [(16635,13015),(16965,13515)], [(16640,12675),(17305,12845)], [(16640,11685),(16870,12675)], [(16640,11515),(17305,11685)], [(17135,11225),(17305,11515)], [(16635,10965),(16965,11345)], [(16280,11225),(16466,13345)], [(15775,13055),(16040,13515)], [(15355,12920),(15605,13345)], [(14040,13070),(15145,13240)], [(15355,12790),(15660,12920)], [(15490,11685),(15660,12790)], [(15080,12005),(15320,12600)], [(14380,12535),(14910,12900)], [(14740,11835),(14910,12535)], [(14040,12455),(14210,13070)], [(13700,12715),(13870,13515)], [(13280,13015),(13530,13345)], [(12170,13045),(13055,13215)], [(13700,12365),(14210,12455)], [(15435,11555),(15660,11685)], [(14740,11615),(15265,11835)], [(13700,12195),(14570,12365)], [(15775,10965),(16025,11425)], [(15435,11415),(15605,11555)], [(14400,11415),(14570,12195)], [(13700,12125),(13870,12195)], [(13990,11945),(14190,11975)], [(13360,11945),(13530,13015)], [(13000,12125),(13190,12845)], [(13360,11645),(14190,11945)], [(12510,11915),(12830,12875)], [(15270,11245),(15605,11415)], [(14400,11245),(15075,11415)], [(13710,10965),(14080,11465)], [(13360,11415),(13530,11645)], [(12510,11585),(12975,11915)], [(12170,12205),(12340,13045)], [(11675,13015),(11990,13515)], [(11105,12785),(11445,13345)], [(11105,12410),(12000,12785)], [(10765,12505),(10935,13515)], [(11105,12205),(11295,12410)], [(11465,11875),(12340,12205)], [(10545,11875),(11295,12205)], [(12170,11415),(12340,11875)], [(11095,11705),(11295,11875)], [(13125,11245),(13530,11415)], [(12170,11245),(12955,11415)], [(11685,10965),(11895,11495)], [(11095,11180),(11425,11705)], [(10755,10965),(10925,11575)], [(10120,10795),(17480,10965)], [(17040,11855),(17390,12505)], [(15830,11595),(16110,12545)], [(10265,12455),(10595,13300)], [(10205,12375),(10595,12455)], [(10205,12325),(10420,12375)], [(10205,11745),(10375,12325)], [(10205,11705),(10430,11745)], [(10205,11620),(10585,11705)], [(10255,11185),(10585,11620)], [(6900,29835),(8280,30005)], [(7425,29075),(7755,29835)], [(7075,28905),(7245,29665)], [(7075,28735),(7740,28905)], [(7570,28590),(7740,28735)], [(7570,28260),(7855,28590)], [(7570,28005),(7740,28260)], [(7075,27835),(7740,28005)], [(7425,27285),(7755,27665)], [(7075,27455),(7245,27835)], [(6900,27115),(8280,27285)], [(7005,28185),(7335,28555)], [(7925,28760),(8195,29665)], [(8025,27960),(8195,28760)], [(7935,27455),(8195,27960)], [(15640,29835),(17020,30005)], [(16165,29075),(16495,29835)], [(16675,28905),(16845,29665)], [(16180,28735),(16845,28905)], [(16180,28590),(16350,28735)], [(16065,28260),(16350,28590)], [(16180,28005),(16350,28260)], [(16180,27835),(16845,28005)], [(16165,27285),(16495,27665)], [(16675,27455),(16845,27835)], [(15640,27115),(17020,27285)], [(16585,28185),(16915,28555)], [(15725,28760),(15995,29665)], [(15725,27960),(15895,28760)], [(15725,27455),(15985,27960)], [(22080,29835),(23460,30005)], [(22605,29075),(22935,29835)], [(23115,28905),(23285,29665)], [(22620,28735),(23285,28905)], [(22620,28590),(22790,28735)], [(22505,28260),(22790,28590)], [(22620,28005),(22790,28260)], [(22620,27835),(23285,28005)], [(22605,27285),(22935,27665)], [(23115,27455),(23285,27835)], [(22080,27115),(23460,27285)], [(23025,28185),(23355,28555)], [(22165,28760),(22435,29665)], [(22165,27960),(22335,28760)], [(22165,27455),(22425,27960)], [(6900,18955),(8280,19125)], [(7425,18195),(7755,18955)], [(7075,18025),(7245,18785)], [(7075,17855),(7740,18025)], [(7570,17710),(7740,17855)], [(7570,17380),(7855,17710)], [(7570,17125),(7740,17380)], [(7075,16955),(7740,17125)], [(7425,16405),(7755,16785)], [(7075,16575),(7245,16955)], [(6900,16235),(8280,16405)], [(7005,17305),(7335,17675)], [(7925,17880),(8195,18785)], [(8025,17080),(8195,17880)], [(7935,16575),(8195,17080)], [(8280,29835),(9660,30005)], [(8805,29075),(9135,29835)], [(8455,28905),(8625,29665)], [(8455,28735),(9120,28905)], [(8950,28590),(9120,28735)], [(8950,28260),(9235,28590)], [(8950,28005),(9120,28260)], [(8455,27835),(9120,28005)], [(8805,27285),(9135,27665)], [(8455,27455),(8625,27835)], [(8280,27115),(9660,27285)], [(8385,28185),(8715,28555)], [(9305,28760),(9575,29665)], [(9405,27960),(9575,28760)], [(9315,27455),(9575,27960)], [(7820,13515),(9200,13685)], [(8855,12585),(9035,13345)], [(8345,12755),(8675,13515)], [(8360,12415),(9035,12585)], [(8360,12270),(8530,12415)], [(8255,11940),(8530,12270)], [(8360,11685),(8530,11940)], [(8360,11515),(9025,11685)], [(8855,11135),(9025,11515)], [(8345,10965),(8675,11345)], [(7820,10795),(9200,10965)], [(8755,11865),(9095,12235)], [(7905,12440),(8175,13345)], [(7905,11640),(8085,12440)], [(7905,11135),(8165,11640)], [(22080,13515),(23460,13685)], [(22245,12585),(22425,13345)], [(22605,12755),(22935,13515)], [(22245,12415),(22920,12585)], [(22750,12270),(22920,12415)], [(22750,11940),(23025,12270)], [(22750,11685),(22920,11940)], [(22255,11515),(22920,11685)], [(22255,11135),(22425,11515)], [(22605,10965),(22935,11345)], [(22080,10795),(23460,10965)], [(22185,11865),(22525,12235)], [(23105,12440),(23375,13345)], [(23195,11640),(23375,12440)], [(23115,11135),(23375,11640)]], 'met1': [[(5520,10640),(6900,11120)], [(5520,13360),(6900,13840)], [(23460,10640),(24840,11120)], [(23460,13360),(24840,13840)], [(5520,16080),(6900,16560)], [(5520,13360),(6900,13840)], [(23460,16080),(24840,16560)], [(23460,13360),(24840,13840)], [(5520,16080),(6900,16560)], [(5520,18800),(6900,19280)], [(23460,16080),(24840,16560)], [(23460,18800),(24840,19280)], [(5520,21520),(6900,22000)], [(5520,18800),(6900,19280)], [(23460,21520),(24840,22000)], [(23460,18800),(24840,19280)], [(5520,21520),(6900,22000)], [(5520,24240),(6900,24720)], [(23460,21520),(24840,22000)], [(23460,24240),(24840,24720)], [(5520,26960),(6900,27440)], [(5520,24240),(6900,24720)], [(23460,26960),(24840,27440)], [(23460,24240),(24840,24720)], [(5520,26960),(6900,27440)], [(5520,29680),(6900,30160)], [(23460,26960),(24840,27440)], [(23460,29680),(24840,30160)], [(18400,10640),(18860,11120)], [(18400,13360),(18860,13840)], [(18400,16080),(18860,16560)], [(18400,18800),(18860,19280)], [(18400,21520),(18860,22000)], [(18400,24240),(18860,24720)], [(18400,26960),(18860,27440)], [(18400,29680),(18860,30160)], [(18860,26960),(20240,27440)], [(18860,24240),(20240,24720)], [(15640,26960),(18860,27440)], [(15640,24240),(18860,24720)], [(18860,21520),(21620,22000)], [(18860,24240),(21620,24720)], [(14830,14335),(15120,14380)], [(16930,14335),(17220,14380)], [(18500,14335),(18790,14380)], [(14830,14380),(18790,14520)], [(14830,14520),(15120,14565)], [(16930,14520),(17220,14565)], [(18500,14520),(18790,14565)], [(15225,14675),(15515,14720)], [(16415,14675),(16705,14720)], [(18935,14675),(19225,14720)], [(15225,14720),(19225,14860)], [(15225,14860),(15515,14905)], [(16415,14860),(16705,14905)], [(18935,14860),(19225,14905)], [(14260,16080),(21620,16560)], [(14260,13360),(21620,13840)], [(8850,25215),(9140,25260)], [(10950,25215),(11240,25260)], [(12520,25215),(12810,25260)], [(8850,25260),(12810,25400)], [(8850,25400),(9140,25445)], [(10950,25400),(11240,25445)], [(12520,25400),(12810,25445)], [(9245,25555),(9535,25600)], [(10435,25555),(10725,25600)], [(12955,25555),(13245,25600)], [(9245,25600),(13245,25740)], [(9245,25740),(9535,25785)], [(10435,25740),(10725,25785)], [(12955,25740),(13245,25785)], [(8280,26960),(15640,27440)], [(8280,24240),(15640,24720)], [(11610,23700),(11900,23745)], [(13710,23700),(14000,23745)], [(15280,23700),(15570,23745)], [(11610,23560),(15570,23700)], [(11610,23515),(11900,23560)], [(13710,23515),(14000,23560)], [(15280,23515),(15570,23560)], [(12005,23360),(12295,23405)], [(13195,23360),(13485,23405)], [(15715,23360),(16005,23405)], [(12005,23220),(16005,23360)], [(12005,23175),(12295,23220)], [(13195,23175),(13485,23220)], [(15715,23175),(16005,23220)], [(11040,21520),(18400,22000)], [(11040,24240),(18400,24720)], [(20300,19775),(20590,19820)], [(18200,19775),(18490,19820)], [(16630,19775),(16920,19820)], [(16630,19820),(20590,19960)], [(20300,19960),(20590,20005)], [(18200,19960),(18490,20005)], [(16630,19960),(16920,20005)], [(19905,20115),(20195,20160)], [(18715,20115),(19005,20160)], [(16195,20115),(16485,20160)], [(16195,20160),(20195,20300)], [(19905,20300),(20195,20345)], [(18715,20300),(19005,20345)], [(16195,20300),(16485,20345)], [(13800,21520),(21160,22000)], [(13800,18800),(21160,19280)], [(7470,14335),(7760,14380)], [(9570,14335),(9860,14380)], [(11140,14335),(11430,14380)], [(7470,14380),(11430,14520)], [(7470,14520),(7760,14565)], [(9570,14520),(9860,14565)], [(11140,14520),(11430,14565)], [(7865,14675),(8155,14720)], [(9055,14675),(9345,14720)], [(11575,14675),(11865,14720)], [(7865,14720),(11865,14860)], [(7865,14860),(8155,14905)], [(9055,14860),(9345,14905)], [(11575,14860),(11865,14905)], [(6900,16080),(14260,16560)], [(6900,13360),(14260,13840)], [(8850,18260),(9140,18305)], [(10950,18260),(11240,18305)], [(12520,18260),(12810,18305)], [(8850,18120),(12810,18260)], [(8850,18075),(9140,18120)], [(10950,18075),(11240,18120)], [(12520,18075),(12810,18120)], [(9245,17920),(9535,17965)], [(10435,17920),(10725,17965)], [(12955,17920),(13245,17965)], [(9245,17780),(13245,17920)], [(9245,17735),(9535,17780)], [(10435,17735),(10725,17780)], [(12955,17735),(13245,17780)], [(8280,16080),(15640,16560)], [(8280,18800),(15640,19280)], [(16620,12820),(16910,12865)], [(14520,12820),(14810,12865)], [(12950,12820),(13240,12865)], [(12950,12680),(16910,12820)], [(16620,12635),(16910,12680)], [(14520,12635),(14810,12680)], [(12950,12635),(13240,12680)], [(16225,12480),(16515,12525)], [(15035,12480),(15325,12525)], [(12515,12480),(12805,12525)], [(12515,12340),(16515,12480)], [(16225,12295),(16515,12340)], [(15035,12295),(15325,12340)], [(12515,12295),(12805,12340)], [(10120,10640),(17480,11120)], [(10120,13360),(17480,13840)], [(6900,26960),(8280,27440)], [(6900,29680),(8280,30160)], [(15640,26960),(17020,27440)], [(15640,29680),(17020,30160)], [(22080,26960),(23460,27440)], [(22080,29680),(23460,30160)], [(6900,16080),(8280,16560)], [(6900,18800),(8280,19280)], [(8280,26960),(9660,27440)], [(8280,29680),(9660,30160)], [(7820,10640),(9200,11120)], [(7820,13360),(9200,13840)], [(22080,10640),(23460,11120)], [(22080,13360),(23460,13840)]], 'met2': [[(5150,37420),(5430,41420)], [(7450,0),(7730,4000)], [(22630,0),(22910,4000)], [(15270,37420),(15550,41420)], [(25390,37420),(25670,41420)]], 'met3': [[(0,9560),(4000,10160)], [(0,29960),(4000,30560)], [(26700,20440),(30700,21040)]], 'met4': [[(24020,10640),(25620,30160)], [(9020,10640),(10620,30160)], [(20720,10640),(22320,30160)], [(5720,10640),(7320,30160)]], 'met5': [[(5280,14380),(25620,15980)], [(5280,26080),(25080,27680)], [(5280,11080),(25080,12680)]]}\n"
          ]
        }
      ]
    },
    {
      "cell_type": "markdown",
      "source": [
        "**Converting each net into rectangular regions that are to be connected .**"
      ],
      "metadata": {
        "id": "LmusJeg1utHD"
      }
    },
    {
      "cell_type": "code",
      "source": [
        "nets_2={}\n",
        "for i in nets.keys():\n",
        "  if i in skipNets:\n",
        "    continue\n",
        "  nets_2[i]=[]\n",
        "  for j in nets[i]:\n",
        "    nets_2[i].append(cell_pin[j])\n",
        "print(nets_2)"
      ],
      "metadata": {
        "colab": {
          "base_uri": "https://localhost:8080/"
        },
        "id": "Ou1oRsr6vF5X",
        "outputId": "3b00ccd1-5096-4b07-d42d-3f0bc50c6178"
      },
      "execution_count": 9,
      "outputs": [
        {
          "output_type": "stream",
          "name": "stdout",
          "text": [
            "{'N1': [{'li1': [[(15165,24780),(15495,25625)], [(15165,25625),(15555,25705)], [(15340,25705),(15555,25755)], [(15385,25755),(15555,26335)], [(15330,26335),(15555,26375)], [(15175,26375),(15555,26460)], [(15175,26460),(15505,26895)]]}, {'li1': [[(16465,25855),(16875,26160)]]}], 'N1_d': [{'met2': [[(5150,37420),(5430,41420)]]}, {'li1': [[(7005,28185),(7335,28555)]]}], 'N2': [{'li1': [[(17925,23335),(18255,24180)], [(17925,23255),(18315,23335)], [(18100,23205),(18315,23255)], [(18145,22625),(18315,23205)], [(18090,22585),(18315,22625)], [(17935,22500),(18315,22585)], [(17935,22065),(18265,22500)]]}, {'li1': [[(18945,23035),(19175,23375)], [(18945,22835),(19275,23035)]]}, {'li1': [[(18285,25925),(18775,26125)]]}], 'N22': [{'met2': [[(7450,0),(7730,4000)]]}, {'li1': [[(7905,12440),(8175,13345)], [(7905,11640),(8085,12440)], [(7905,11135),(8165,11640)]]}], 'N22_d': [{'li1': [[(15830,11595),(16110,12545)]]}, {'li1': [[(15725,24735),(15985,25415)], [(15725,25415),(15895,26615)], [(15725,26615),(15985,26945)]]}], 'N23': [{'met2': [[(22630,0),(22910,4000)]]}, {'li1': [[(23105,12440),(23375,13345)], [(23195,11640),(23375,12440)], [(23115,11135),(23375,11640)]]}], 'N23_d': [{'li1': [[(15630,14655),(15910,15605)]]}, {'li1': [[(21255,22790),(21535,24225)], [(21195,22015),(21535,22790)]]}], 'N2_d': [{'met2': [[(15270,37420),(15550,41420)]]}, {'li1': [[(16585,28185),(16915,28555)]]}], 'N3': [{'li1': [[(13945,19340),(14275,20185)], [(13885,20185),(14275,20265)], [(13885,20265),(14100,20315)], [(13885,20315),(14055,20895)], [(13885,20895),(14110,20935)], [(13885,20935),(14265,21020)], [(13935,21020),(14265,21455)]]}, {'li1': [[(17045,25915),(17375,26125)], [(17165,26125),(17375,26525)]]}, {'li1': [[(19810,25875),(20145,26145)]]}], 'N3_d': [{'met2': [[(25390,37420),(25670,41420)]]}, {'li1': [[(23025,28185),(23355,28555)]]}], 'N6': [{'li1': [[(13785,13900),(14115,14745)], [(13785,14745),(14175,14825)], [(13960,14825),(14175,14875)], [(14005,14875),(14175,15455)], [(13950,15455),(14175,15495)], [(13795,15495),(14175,15580)], [(13795,15580),(14125,16015)]]}, {'li1': [[(18965,25875),(19300,26125)]]}], 'N6_d': [{'met3': [[(0,9560),(4000,10160)]]}, {'li1': [[(7005,17305),(7335,17675)]]}], 'N7': [{'li1': [[(15165,17895),(15495,18740)], [(15165,17815),(15555,17895)], [(15340,17765),(15555,17815)], [(15385,17185),(15555,17765)], [(15330,17145),(15555,17185)], [(15175,17060),(15555,17145)], [(15175,16625),(15505,17060)]]}, {'li1': [[(19465,23035),(19680,24150)], [(19465,22855),(19915,23035)], [(19585,22835),(19915,22855)]]}], 'N7_d': [{'met3': [[(0,29960),(4000,30560)]]}, {'li1': [[(8385,28185),(8715,28555)]]}], '_00_': [{'li1': [[(20085,22835),(20555,23065)]]}, {'li1': [[(17620,25915),(18095,26125)], [(17620,26125),(17840,26525)]]}, {'li1': [[(19375,24735),(19705,25715)], [(19470,25715),(19640,26315)], [(18945,26315),(19640,26945)]]}], 'net1': [{'li1': [[(7925,28760),(8195,29665)], [(8025,27960),(8195,28760)], [(7935,27455),(8195,27960)]]}, {'li1': [[(9650,25535),(9930,26485)]]}], 'net2': [{'li1': [[(15725,28760),(15995,29665)], [(15725,27960),(15895,28760)], [(15725,27455),(15985,27960)]]}, {'li1': [[(12410,22475),(12690,23425)]]}], 'net3': [{'li1': [[(22165,28760),(22435,29665)], [(22165,27960),(22335,28760)], [(22165,27455),(22425,27960)]]}, {'li1': [[(19510,20095),(19790,21045)]]}], 'net4': [{'li1': [[(7925,17880),(8195,18785)], [(8025,17080),(8195,17880)], [(7935,16575),(8195,17080)]]}, {'li1': [[(8270,14655),(8550,15605)]]}], 'net5': [{'li1': [[(9305,28760),(9575,29665)], [(9405,27960),(9575,28760)], [(9315,27455),(9575,27960)]]}, {'li1': [[(9650,17035),(9930,17985)]]}], 'net6': [{'li1': [[(8755,11865),(9095,12235)]]}, {'li1': [[(10265,12455),(10595,13300)], [(10205,12375),(10595,12455)], [(10205,12325),(10420,12375)], [(10205,11745),(10375,12325)], [(10205,11705),(10430,11745)], [(10205,11620),(10585,11705)], [(10255,11185),(10585,11620)]]}], 'net7': [{'li1': [[(22185,11865),(22525,12235)]]}, {'li1': [[(21145,13900),(21475,14745)], [(21145,14745),(21535,14825)], [(21320,14825),(21535,14875)], [(21365,14875),(21535,15455)], [(21310,15455),(21535,15495)], [(21155,15495),(21535,15580)], [(21155,15580),(21485,16015)]]}]}\n"
          ]
        }
      ]
    },
    {
      "cell_type": "markdown",
      "source": [
        "**Function to find intersection of two reqions**"
      ],
      "metadata": {
        "id": "G9pxKmrQj567"
      }
    },
    {
      "cell_type": "code",
      "source": [
        "def inter_section(r1,r2,adjLayer):\n",
        "  layer1=r1[0]\n",
        "  layer2=r2[0]\n",
        "  if layer2 not in adjLayer[layer1]:\n",
        "    return None\n",
        "  x1 = max(r1[1][0], r2[1][0])\n",
        "  y1 = max(r1[1][1], r2[1][1])\n",
        "  x2 = min(r1[1][2], r2[1][2])\n",
        "  y2 = min(r1[1][3], r2[1][3])\n",
        "  if x1 <= x2 and y1 <= y2:\n",
        "    return [layer1, layer2, (x1, y1, x2, y2)]\n",
        "  else :\n",
        "    return None\n",
        "\n"
      ],
      "metadata": {
        "id": "HwlpUwaakMrp"
      },
      "execution_count": 105,
      "outputs": []
    },
    {
      "cell_type": "markdown",
      "source": [
        "**Function to convert nets into graphs**"
      ],
      "metadata": {
        "id": "nuYSIE-j1cDy"
      }
    },
    {
      "cell_type": "code",
      "source": [
        "def net_to_graph(net,global_solution,obstructions):\n",
        "  layerOrient = { 'li1': 'VERTICAL', 'met1': 'HORIZONTAL', 'met2': 'VERTICAL', 'met3': 'HORIZONTAL', 'met4': 'VERTICAL', 'met5': 'HORIZONTAL' }\n",
        "  adjLayer = {\n",
        "  'li1':  ['met1'],\n",
        "  'met1': ['li1',  'met2'],\n",
        "  'met2': ['met1', 'met3'],\n",
        "  'met3': ['met2', 'met4'],\n",
        "  'met4': ['met3', 'met5'],\n",
        "  'met5': ['met4']\n",
        "  }\n",
        "  graph=[]\n",
        "  edges=[]\n",
        "  weights={}\n",
        "  for i in global_solution:\n",
        "    layer,x1,y1,x2,y2=i[0],i[1][0],i[1][1],i[1][2],i[1][3]\n",
        "\n",
        "    if layerOrient[layer]=='VERTICAL':\n",
        "      n=tracks_[layer][2]\n",
        "      x1-=tracks_[layer][0]\n",
        "      x2-=tracks_[layer][0]\n",
        "      start = ((x1 + n - 1) // n) * n\n",
        "      lx=[i+tracks_[layer][0] for i in range(start, x2 + 1, n)]\n",
        "      ly=[]\n",
        "\n",
        "      for j in adjLayer[layer]:\n",
        "        n=tracks_[j][2]\n",
        "        y1-=tracks_[j][0]\n",
        "        y2-=tracks_[j][0]\n",
        "        start = ((y1 + n - 1) // n) * n\n",
        "\n",
        "        ly=[i+tracks_[j][0] for i in range(start, y2 + 1, n)]\n",
        "        for p in range(len(lx)):\n",
        "          flag=0\n",
        "          for q in range(len(ly)):\n",
        "            graph.append((layer,(lx[p],ly[q])))\n",
        "            if flag==1:\n",
        "              edges.append(((layer,(lx[p],ly[q-1])),(layer,(lx[p],ly[q]))))\n",
        "            flag=1\n",
        "\n",
        "    else:\n",
        "      n=tracks_[layer][2]\n",
        "      y1-=tracks_[layer][0]\n",
        "      y2-=tracks_[layer][0]\n",
        "      start = ((y1 + n - 1) // n) * n\n",
        "      ly=[i+tracks_[layer][0] for i in range(start, y2 + 1, n)]\n",
        "      lx=[]\n",
        "      for j in adjLayer[layer]:\n",
        "        n=tracks_[j][2]\n",
        "        x1-=tracks_[j][0]\n",
        "        x2-=tracks_[j][0]\n",
        "        start = ((x1 + n - 1) // n) * n\n",
        "        lx=[i+tracks_[j][0] for i in range(start, x2 + 1, n)]\n",
        "        for p in range(len(ly)):\n",
        "          flag=0\n",
        "          for q in range(len(lx)):\n",
        "            graph.append((layer,(lx[q],ly[p])))\n",
        "            if flag==1:\n",
        "              edges.append(((layer,(lx[q-1],ly[p])),(layer,(lx[q],ly[p]))))\n",
        "            flag=1\n",
        "  graph_new=[]\n",
        "  for i in graph:\n",
        "    if i not in graph_new:\n",
        "      graph_new.append(i)\n",
        "  graph=graph_new\n",
        "  for i in edges:\n",
        "\n",
        "    weights[i]=1\n",
        "\n",
        "\n",
        "  for i in range(len(global_solution)):\n",
        "    for j in range(i+1,len(global_solution)):\n",
        "      intersection=inter_section(global_solution[i],global_solution[j],adjLayer)\n",
        "      if intersection!=None:\n",
        "        layer1=intersection[0]\n",
        "        layer2=intersection[1]\n",
        "        x1=intersection[2][0]\n",
        "        y1=intersection[2][1]\n",
        "        x2=intersection[2][2]\n",
        "        y2=intersection[2][3]\n",
        "        for k in graph:\n",
        "          if k[0] not in (layer1,layer2):\n",
        "            continue\n",
        "          if k[0]==layer1:\n",
        "            layer=layer1\n",
        "            layeradj=layer2\n",
        "          else:\n",
        "            layer=layer2\n",
        "            layeradj=layer1\n",
        "          x=k[1][0]\n",
        "          y=k[1][1]\n",
        "          if x1<=x<=x2 and y1<=y<=y2:\n",
        "            edges.append(((layer1,(x,y)),(layer2,(x,y))))\n",
        "            weights[((layer1,(x,y)),(layer2,(x,y)))]=3\n",
        "  obs=[]\n",
        "  for i in obstructions.keys():\n",
        "    layer=i\n",
        "    for j in obstructions[i]:\n",
        "      x1=j.ll.x\n",
        "      y1=j.ll.y\n",
        "      x2=j.ur.x\n",
        "      y2=j.ur.y\n",
        "      for node in graph:\n",
        "        if node[0]!=layer:\n",
        "            continue\n",
        "        x,y=node[1][0],node[1][1]\n",
        "        if x1<=x<=x2 and y1<=y<=y2:\n",
        "          obs.append(node)\n",
        "\n",
        "  s_t=[]\n",
        "  for i in net:\n",
        "    p=[]\n",
        "    for j in i.keys():\n",
        "      layer=j\n",
        "      for k in i[j]:\n",
        "        x1=k.ll.x\n",
        "        y1=k.ll.y\n",
        "        x2=k.ur.x\n",
        "        y2=k.ur.y\n",
        "        for node in graph:\n",
        "          if node[0]!=layer:\n",
        "            continue\n",
        "          x,y=node[1][0],node[1][1]\n",
        "          if x1<=x<=x2 and y1<=y<=y2:\n",
        "            if node in obs:\n",
        "              obs.remove(node)\n",
        "\n",
        "            p.append(node)\n",
        "\n",
        "      for h in range(len(p)):\n",
        "        for k in range(h+1,len(p)):\n",
        "\n",
        "          edges.append((p[h],p[k]))\n",
        "          weights[(p[h],p[k])]=0\n",
        "    s_t.append(p[0])\n",
        "\n",
        "\n",
        "\n",
        "\n",
        "  #print(graph)\n",
        "  #print(edges)\n",
        "  #print(weights)\n",
        "  edges=weights.keys()\n",
        "  for (u,v) in edges:\n",
        "    if u not in graph:\n",
        "      graph.append(u)\n",
        "    if v not in graph:\n",
        "      graph.append(v)\n",
        "  adj = {v: [] for v in graph}\n",
        "  for (u, v) in edges:\n",
        "    adj[u].append(v)\n",
        "    adj[v].append(u)\n",
        "\n",
        "  return graph,weights,obs,s_t,adj\n",
        "\n",
        "\n",
        "\n",
        "\n",
        "\n",
        "\n",
        "\n"
      ],
      "metadata": {
        "id": "hjQBII8T11tD"
      },
      "execution_count": 110,
      "outputs": []
    },
    {
      "cell_type": "markdown",
      "source": [
        "**Vertex class for Astar Algorithm .**"
      ],
      "metadata": {
        "id": "Y1pW3ngM1vnn"
      }
    },
    {
      "cell_type": "code",
      "source": [
        "class Vertex:\n",
        "  def __init__(self, node, cost=math.inf, parent=None, nbrs=None):\n",
        "    self._node=node\n",
        "    self._xy = node[1]\n",
        "\n",
        "    self._g=0\n",
        "    self._h=0\n",
        "    self._cost = self._g+self._h\n",
        "    self._parent = parent\n",
        "    self._nbrs = nbrs\n",
        "  def __lt__(self, r):\n",
        "    return self._cost < r._cost\n",
        "  def __eq__(self, r):\n",
        "    return self._node == r._node\n",
        "  def __repr__(self):\n",
        "    return f'(xy:{self._node}, cost:{self._cost})'"
      ],
      "metadata": {
        "id": "w0fu-TgY1xrs"
      },
      "execution_count": 101,
      "outputs": []
    },
    {
      "cell_type": "markdown",
      "source": [
        "**Priority Queue**"
      ],
      "metadata": {
        "id": "IG0ZyHV34GNk"
      }
    },
    {
      "cell_type": "code",
      "source": [
        "class priority_queue:\n",
        "  def __init__(self, vertices = []):\n",
        "    self._vertices = vertices[:]\n",
        "    self._q = vertices[:]\n",
        "    hq.heapify(self._q)\n",
        "  def push(self, v):\n",
        "    hq.heappush(self._q, v)\n",
        "  def pop(self):\n",
        "    return(hq.heappop(self._q))\n",
        "  def update(self, v, cost):\n",
        "    try: i = self._q.index(v)\n",
        "    except ValueError: i = None\n",
        "    if i is not None:\n",
        "      self._q[i]._cost = cost\n",
        "      hq.heapify(self._q)\n",
        "  def updateIndex(self, i, cost):\n",
        "    assert i < len(self._q)\n",
        "    self._vertices[i]._cost = cost\n",
        "    hq.heapify(self._q)\n",
        "  def empty(self):\n",
        "    return len(self._q) == 0\n",
        "  def __contains__(self, v):\n",
        "    return v in self._q\n",
        "  def __repr__(self):\n",
        "    return str(self._q)"
      ],
      "metadata": {
        "id": "pAfu4tse4Gvt"
      },
      "execution_count": 16,
      "outputs": []
    },
    {
      "cell_type": "code",
      "source": [
        "def dist(u, v):\n",
        "  return abs(u._xy[0] - v._xy[0]) + abs(u._xy[1] - v._xy[1])"
      ],
      "metadata": {
        "id": "K4pT1G7k6cWR"
      },
      "execution_count": 18,
      "outputs": []
    },
    {
      "cell_type": "markdown",
      "source": [
        "**A-star Algorithm**"
      ],
      "metadata": {
        "id": "4YMqK4oj540U"
      }
    },
    {
      "cell_type": "code",
      "source": [
        "def astar(V, s, t,obs,weights):\n",
        "  for v in V:\n",
        "    if v._node in obs:\n",
        "      v._g,v._h, v._parent,v._cost = math.inf,5*dist(v,t), None,math.inf\n",
        "\n",
        "    else:\n",
        "      v._g,v._h, v._parent,v._cost = math.inf,dist(v,t), None,math.inf\n",
        "\n",
        "\n",
        "  s._g = 0\n",
        "  s._h= dist(s,t)\n",
        "  s._cost= s._g + s._h\n",
        "\n",
        "  Q = priority_queue(V)\n",
        "  #print(s._node,s._g,s._h)\n",
        "\n",
        "\n",
        "  while not Q.empty():\n",
        "    u = Q.pop()\n",
        "    #print(u)\n",
        "    if u == t: break\n",
        "    for v in u._nbrs:\n",
        "      if u == v: # Check if neighbor is the current node\n",
        "        #print(u._node)\n",
        "        w = 0\n",
        "      else:\n",
        "        try :\n",
        "          w=weights[(u._node,v._node)]\n",
        "        except :\n",
        "          w=weights[(v._node,u._node)]\n",
        "      if v._g > u._g + w:\n",
        "        v._g = u._g + w\n",
        "        v._parent = u\n",
        "        if v in Q:\n",
        "          Q.update(v, v._g + v._h)\n",
        "        else:\n",
        "\n",
        "          Q.push(v)\n",
        "\n",
        "  path = [t]\n",
        "  while path[-1]._parent is not None:\n",
        "    path.append(path[-1]._parent)\n",
        "  return path"
      ],
      "metadata": {
        "id": "Dv3jRcKx4NeU"
      },
      "execution_count": 128,
      "outputs": []
    },
    {
      "cell_type": "markdown",
      "source": [
        "**Using A star on the graph.**"
      ],
      "metadata": {
        "id": "KybSgTYqLkke"
      }
    },
    {
      "cell_type": "code",
      "source": [
        "net_name={}\n",
        "for i in d.nets():\n",
        "  net_name[i.name()]=i\n"
      ],
      "metadata": {
        "id": "0Hs-8bypQl0y"
      },
      "execution_count": 124,
      "outputs": []
    },
    {
      "cell_type": "code",
      "source": [
        "for i in nets_2.keys():\n",
        "  layerOrient = { 'li1': 'VERTICAL', 'met1': 'HORIZONTAL', 'met2': 'VERTICAL', 'met3': 'HORIZONTAL', 'met4': 'VERTICAL', 'met5': 'HORIZONTAL' }\n",
        "  net=nets_2[i]\n",
        "  name=i\n",
        "  global_solution=global_route[i]\n",
        "  graph,weights,obs,s_t,adj=net_to_graph(net,global_solution,obstructions)\n",
        "  indx={}\n",
        "\n",
        "  vertices=[Vertex(j) for j in graph]\n",
        "  for j in vertices:\n",
        "    j._nbrs=[]\n",
        "    for k in adj[j._node]:\n",
        "      j._nbrs.append(vertices[vertices.index(Vertex(k))])\n",
        "  source=vertices[vertices.index(Vertex(s_t[0]))]\n",
        "  print(s_t)\n",
        "  new_obs=[]\n",
        "  for j in range(1,len(s_t)):\n",
        "    target=vertices[vertices.index(Vertex(s_t[j]))]\n",
        "    path=astar(vertices,source,target,obs,weights)\n",
        "    current_net=net_name[name]\n",
        "    for k in range(len(path)-1):\n",
        "      layer=path[k]._node[0]\n",
        "      x=path[k]._xy[0]\n",
        "      y=path[k]._xy[1]\n",
        "      layer_=path[k+1]._node[0]\n",
        "      x_=path[k+1]._xy[0]\n",
        "      y_=path[k+1]._xy[1]\n",
        "      if layer==layer_:\n",
        "        width=layerWidth[layer]\n",
        "        if layerOrient[layer]=='VERTICAL':\n",
        "          y1=min(y,y_)\n",
        "          y2=max(y,y_)\n",
        "          if x==x_:\n",
        "            r=Rect(x-width//2,y1,x_+width//2,y2)\n",
        "            s=layerSpacing[layer]\n",
        "            r=bloat(r,s)\n",
        "            obstructions[layer].append(r)\n",
        "            new_obs.append(r)\n",
        "\n",
        "            current_net.addRect(layer,x-width//2,y1,x_+width//2,y2)\n",
        "        else:\n",
        "          x1=min(x,x_)\n",
        "          x2=max(x,x_)\n",
        "          if y==y_:\n",
        "            r=Rect(x1,y-width//2,x2,y_+width//2)\n",
        "            s=layerSpacing[layer]\n",
        "            r=bloat(r,s)\n",
        "            obstructions[layer].append(r)\n",
        "            new_obs.append(r)\n",
        "            current_net.addRect(layer,x1,y-width//2,x2,y_+width//2)\n",
        "    #obstructions.extend(new_obs)\n",
        "\n",
        "\n",
        "\n",
        "    print(path)\n",
        ""
      ],
      "metadata": {
        "colab": {
          "base_uri": "https://localhost:8080/"
        },
        "id": "0r_m2Dj4Lrtf",
        "outputId": "38c01769-8001-4b23-ff55-1d5203d7d163"
      },
      "execution_count": 131,
      "outputs": [
        {
          "output_type": "stream",
          "name": "stdout",
          "text": [
            "[('li1', (15410, 24990)), ('li1', (16790, 26010))]\n",
            "[(xy:('li1', (16790, 26010)), cost:11), (xy:('li1', (16790, 26350)), cost:1710), (xy:('li1', (16790, 26690)), cost:3409), (xy:('met1', (16790, 26690)), cost:686), (xy:('met1', (16330, 26690)), cost:1145), (xy:('met1', (15870, 26690)), cost:1604), (xy:('met1', (15410, 26690)), cost:2063), (xy:('li1', (15410, 26690)), cost:2060), (xy:('li1', (15410, 24990)), cost:2400)]\n",
            "[('met2', (5290, 37570)), ('li1', (7130, 28390))]\n",
            "[(xy:('li1', (7130, 28390)), cost:53), (xy:('li1', (7130, 28050)), cost:1752), (xy:('met1', (7130, 28050)), cost:389), (xy:('met1', (6670, 28050)), cost:848), (xy:('met1', (6210, 28050)), cost:1307), (xy:('met2', (6210, 28050)), cost:1304), (xy:('met2', (6210, 28390)), cost:963), (xy:('met2', (6210, 28730)), cost:1302), (xy:('met2', (6210, 29070)), cost:1641), (xy:('met2', (6210, 29410)), cost:1980), (xy:('met2', (6210, 29750)), cost:2319), (xy:('met2', (6210, 30090)), cost:2658), (xy:('met2', (6210, 30430)), cost:2997), (xy:('met2', (6210, 30770)), cost:3336), (xy:('met1', (6210, 30770)), cost:3333), (xy:('met1', (6670, 30770)), cost:2872), (xy:('met2', (6670, 30770)), cost:2869), (xy:('met2', (6670, 31110)), cost:3208), (xy:('met2', (6670, 31450)), cost:3547), (xy:('met2', (6670, 31790)), cost:3886), (xy:('met2', (6670, 32130)), cost:4225), (xy:('met2', (6670, 32470)), cost:4564), (xy:('met2', (6670, 32810)), cost:4903), (xy:('met2', (6670, 33150)), cost:5242), (xy:('met2', (6670, 33490)), cost:5581), (xy:('met2', (6670, 33830)), cost:5920), (xy:('met1', (6670, 33830)), cost:5917), (xy:('met1', (6210, 33830)), cost:6376), (xy:('met1', (5750, 33830)), cost:6835), (xy:('met1', (5290, 33830)), cost:7294), (xy:('met2', (5290, 33830)), cost:36411), (xy:('met2', (5290, 34170)), cost:38110), (xy:('met2', (5290, 34510)), cost:39809), (xy:('met2', (5290, 34850)), cost:41508), (xy:('met2', (5290, 35190)), cost:43207), (xy:('met2', (5290, 35530)), cost:44906), (xy:('met2', (5290, 35870)), cost:46605), (xy:('met2', (5290, 36210)), cost:48304), (xy:('met2', (5290, 36550)), cost:50003), (xy:('met2', (5290, 36890)), cost:51702), (xy:('met2', (5290, 37230)), cost:53401), (xy:('met2', (5290, 37570)), cost:11020)]\n",
            "[('li1', (18170, 23630)), ('li1', (19090, 23290)), ('li1', (18630, 26010))]\n",
            "[(xy:('li1', (19090, 23290)), cost:8), (xy:('met1', (19090, 23290)), cost:5), (xy:('met1', (18630, 23290)), cost:2304), (xy:('met1', (18170, 23290)), cost:4603), (xy:('li1', (18170, 23290)), cost:4600), (xy:('li1', (18170, 23630)), cost:1260)]\n",
            "[(xy:('li1', (18630, 26010)), cost:13), (xy:('li1', (18630, 25670)), cost:1712), (xy:('li1', (18630, 25330)), cost:3411), (xy:('li1', (18630, 24990)), cost:5110), (xy:('met1', (18630, 24990)), cost:5107), (xy:('met1', (18170, 24990)), cost:1486), (xy:('li1', (18170, 24990)), cost:7403), (xy:('li1', (18170, 24650)), cost:9102), (xy:('li1', (18170, 24310)), cost:10801), (xy:('li1', (18170, 23970)), cost:12500), (xy:('li1', (18170, 23630)), cost:2840)]\n",
            "[('met2', (7590, 170)), ('li1', (8050, 12750))]\n",
            "[(xy:('li1', (8050, 12750)), cost:47), (xy:('met1', (8050, 12750)), cost:44), (xy:('met1', (8510, 12750)), cost:503), (xy:('met2', (8510, 12750)), cost:500), (xy:('met2', (8510, 12410)), cost:839), (xy:('met2', (8510, 12070)), cost:1178), (xy:('met2', (8510, 11730)), cost:1517), (xy:('met2', (8510, 11390)), cost:1856), (xy:('met2', (8510, 11050)), cost:2195), (xy:('met2', (8510, 10710)), cost:2534), (xy:('met2', (8510, 10370)), cost:2873), (xy:('met1', (8510, 10370)), cost:2870), (xy:('met1', (8050, 10370)), cost:2409), (xy:('li1', (8050, 10370)), cost:2406), (xy:('li1', (8050, 10030)), cost:2745), (xy:('li1', (8050, 9690)), cost:3084), (xy:('li1', (8050, 9350)), cost:3423), (xy:('li1', (8050, 9010)), cost:3762), (xy:('li1', (8050, 8670)), cost:4101), (xy:('li1', (8050, 8330)), cost:4440), (xy:('li1', (8050, 7990)), cost:4779), (xy:('li1', (8050, 7650)), cost:5118), (xy:('li1', (8050, 7310)), cost:5457), (xy:('met1', (8050, 7310)), cost:5454), (xy:('met1', (7590, 7310)), cost:5913), (xy:('met2', (7590, 7310)), cost:29510), (xy:('met2', (7590, 6970)), cost:31209), (xy:('met2', (7590, 6630)), cost:32908), (xy:('met2', (7590, 6290)), cost:34607), (xy:('met2', (7590, 5950)), cost:36306), (xy:('met2', (7590, 5610)), cost:38005), (xy:('met2', (7590, 5270)), cost:39704), (xy:('met2', (7590, 4930)), cost:41403), (xy:('met2', (7590, 4590)), cost:43102), (xy:('met2', (7590, 4250)), cost:44801), (xy:('met2', (7590, 3910)), cost:46500), (xy:('met2', (7590, 170)), cost:13040)]\n",
            "[('li1', (15870, 11730)), ('li1', (15870, 24990))]\n",
            "[(xy:('li1', (15870, 24990)), cost:63), (xy:('met1', (15870, 24990)), cost:60), (xy:('met1', (15410, 24990)), cost:519), (xy:('met1', (14950, 24990)), cost:978), (xy:('met2', (14950, 24990)), cost:975), (xy:('met2', (14950, 24650)), cost:1314), (xy:('met2', (14950, 24310)), cost:1653), (xy:('met2', (14950, 23970)), cost:1992), (xy:('met2', (14950, 23630)), cost:2331), (xy:('met2', (14950, 23290)), cost:2670), (xy:('met2', (14950, 22950)), cost:3009), (xy:('met2', (14950, 22610)), cost:3348), (xy:('met2', (14950, 22270)), cost:3687), (xy:('met1', (14950, 22270)), cost:3684), (xy:('met1', (15410, 22270)), cost:3223), (xy:('met1', (15870, 22270)), cost:2762), (xy:('met1', (16330, 22270)), cost:3221), (xy:('met1', (16790, 22270)), cost:3680), (xy:('met2', (16790, 22270)), cost:3677), (xy:('met2', (16790, 21930)), cost:4016), (xy:('met2', (16790, 21590)), cost:4355), (xy:('met2', (16790, 21250)), cost:4694), (xy:('met2', (16790, 20910)), cost:5033), (xy:('met2', (16790, 20570)), cost:5372), (xy:('met2', (16790, 20230)), cost:5711), (xy:('met2', (16790, 19890)), cost:6050), (xy:('met2', (16790, 19550)), cost:6389), (xy:('met2', (16790, 19210)), cost:6728), (xy:('met2', (16790, 18870)), cost:7067), (xy:('met2', (16790, 18530)), cost:7406), (xy:('met2', (16790, 18190)), cost:7745), (xy:('met2', (16790, 17850)), cost:8084), (xy:('met2', (16790, 17510)), cost:8423), (xy:('met2', (16790, 17170)), cost:8762), (xy:('met2', (16790, 16830)), cost:9101), (xy:('met2', (16790, 16490)), cost:9440), (xy:('met2', (16790, 16150)), cost:9779), (xy:('met2', (16790, 15810)), cost:10118), (xy:('met2', (16790, 15470)), cost:10457), (xy:('met2', (16790, 15130)), cost:10796), (xy:('met2', (16790, 14790)), cost:11135), (xy:('met2', (16790, 14450)), cost:11474), (xy:('met2', (16790, 14110)), cost:11813), (xy:('met2', (16790, 13770)), cost:12152), (xy:('met2', (16790, 13430)), cost:12491), (xy:('met2', (16790, 13090)), cost:12830), (xy:('met1', (16790, 13090)), cost:12827), (xy:('met1', (16330, 13090)), cost:12366), (xy:('met1', (15870, 13090)), cost:11905), (xy:('li1', (15870, 13090)), cost:59502), (xy:('li1', (15870, 12750)), cost:12241), (xy:('li1', (15870, 12410)), cost:12580), (xy:('li1', (15870, 11730)), cost:13260)]\n",
            "[('met2', (22770, 170)), ('li1', (23230, 12750))]\n",
            "[(xy:('li1', (23230, 12750)), cost:47), (xy:('met1', (23230, 12750)), cost:44), (xy:('met1', (23690, 12750)), cost:503), (xy:('met2', (23690, 12750)), cost:500), (xy:('met2', (23690, 12410)), cost:839), (xy:('met2', (23690, 12070)), cost:1178), (xy:('met2', (23690, 11730)), cost:1517), (xy:('met2', (23690, 11390)), cost:1856), (xy:('met2', (23690, 11050)), cost:2195), (xy:('met2', (23690, 10710)), cost:2534), (xy:('met2', (23690, 10370)), cost:2873), (xy:('met1', (23690, 10370)), cost:2870), (xy:('met1', (23230, 10370)), cost:2409), (xy:('li1', (23230, 10370)), cost:2406), (xy:('li1', (23230, 10030)), cost:2745), (xy:('li1', (23230, 9690)), cost:3084), (xy:('li1', (23230, 9350)), cost:3423), (xy:('li1', (23230, 9010)), cost:3762), (xy:('li1', (23230, 8670)), cost:4101), (xy:('li1', (23230, 8330)), cost:4440), (xy:('li1', (23230, 7990)), cost:4779), (xy:('li1', (23230, 7650)), cost:5118), (xy:('li1', (23230, 7310)), cost:5457), (xy:('met1', (23230, 7310)), cost:5454), (xy:('met1', (22770, 7310)), cost:5913), (xy:('met2', (22770, 7310)), cost:29510), (xy:('met2', (22770, 6970)), cost:31209), (xy:('met2', (22770, 6630)), cost:32908), (xy:('met2', (22770, 6290)), cost:34607), (xy:('met2', (22770, 5950)), cost:36306), (xy:('met2', (22770, 5610)), cost:38005), (xy:('met2', (22770, 5270)), cost:39704), (xy:('met2', (22770, 4930)), cost:41403), (xy:('met2', (22770, 4590)), cost:43102), (xy:('met2', (22770, 4250)), cost:44801), (xy:('met2', (22770, 3910)), cost:46500), (xy:('met2', (22770, 170)), cost:13040)]\n",
            "[('li1', (15870, 14790)), ('li1', (21390, 22950))]\n",
            "[(xy:('li1', (21390, 22950)), cost:50), (xy:('li1', (21390, 22270)), cost:730), (xy:('li1', (21390, 21930)), cost:5149), (xy:('li1', (21390, 21590)), cost:6848), (xy:('li1', (21390, 21250)), cost:8547), (xy:('met1', (21390, 21250)), cost:8544), (xy:('met1', (20930, 21250)), cost:2203), (xy:('met1', (20470, 21250)), cost:2662), (xy:('met2', (20470, 21250)), cost:13139), (xy:('met2', (20470, 20910)), cost:14838), (xy:('met2', (20470, 20570)), cost:16537), (xy:('met1', (20470, 20570)), cost:16534), (xy:('met1', (20010, 20570)), cost:18833), (xy:('met1', (19550, 20570)), cost:21132), (xy:('met1', (19090, 20570)), cost:4721), (xy:('met1', (18630, 20570)), cost:5180), (xy:('met1', (18170, 20570)), cost:5639), (xy:('met1', (17710, 20570)), cost:6098), (xy:('met2', (17710, 20570)), cost:6095), (xy:('met2', (17710, 20230)), cost:6434), (xy:('met2', (17710, 19890)), cost:6773), (xy:('met2', (17710, 19550)), cost:7112), (xy:('met2', (17710, 19210)), cost:7451), (xy:('met2', (17710, 18870)), cost:7790), (xy:('met2', (17710, 18530)), cost:8129), (xy:('met2', (17710, 18190)), cost:8468), (xy:('met2', (17710, 17850)), cost:8807), (xy:('met2', (17710, 17510)), cost:9146), (xy:('met2', (17710, 17170)), cost:9483), (xy:('met2', (17710, 16830)), cost:9814), (xy:('met1', (17710, 16830)), cost:9811), (xy:('met1', (17250, 16830)), cost:10270), (xy:('met1', (16790, 16830)), cost:10729), (xy:('met1', (16330, 16830)), cost:11188), (xy:('met1', (15870, 16830)), cost:11647), (xy:('li1', (15870, 16830)), cost:58204), (xy:('li1', (15870, 16490)), cost:59903), (xy:('li1', (15870, 16150)), cost:61602), (xy:('li1', (15870, 15810)), cost:63301), (xy:('li1', (15870, 15470)), cost:65000), (xy:('li1', (15870, 14790)), cost:13680)]\n",
            "[('met2', (15410, 37570)), ('li1', (16790, 28390))]\n",
            "[(xy:('li1', (16790, 28390)), cost:50), (xy:('met1', (16790, 28390)), cost:47), (xy:('met1', (17250, 28390)), cost:506), (xy:('met2', (17250, 28390)), cost:503), (xy:('met2', (17250, 28730)), cost:842), (xy:('met2', (17250, 29070)), cost:1181), (xy:('met2', (17250, 29410)), cost:1520), (xy:('met2', (17250, 29750)), cost:1859), (xy:('met2', (17250, 30090)), cost:2198), (xy:('met2', (17250, 30430)), cost:2537), (xy:('met2', (17250, 30770)), cost:2876), (xy:('met1', (17250, 30770)), cost:2873), (xy:('met1', (16790, 30770)), cost:2412), (xy:('met2', (16790, 30770)), cost:2409), (xy:('met2', (16790, 31110)), cost:2748), (xy:('met2', (16790, 31450)), cost:3087), (xy:('met2', (16790, 31790)), cost:3426), (xy:('met2', (16790, 32130)), cost:3765), (xy:('met2', (16790, 32470)), cost:4104), (xy:('met2', (16790, 32810)), cost:4443), (xy:('met2', (16790, 33150)), cost:4782), (xy:('met2', (16790, 33490)), cost:5121), (xy:('met2', (16790, 33830)), cost:5460), (xy:('met1', (16790, 33830)), cost:5457), (xy:('met1', (16330, 33830)), cost:5916), (xy:('met1', (15870, 33830)), cost:6375), (xy:('met1', (15410, 33830)), cost:6834), (xy:('met2', (15410, 33830)), cost:34111), (xy:('met2', (15410, 34170)), cost:35810), (xy:('met2', (15410, 34510)), cost:37509), (xy:('met2', (15410, 34850)), cost:39208), (xy:('met2', (15410, 35190)), cost:40907), (xy:('met2', (15410, 35530)), cost:42606), (xy:('met2', (15410, 35870)), cost:44305), (xy:('met2', (15410, 36210)), cost:46004), (xy:('met2', (15410, 36550)), cost:47703), (xy:('met2', (15410, 36890)), cost:49402), (xy:('met2', (15410, 37230)), cost:51101), (xy:('met2', (15410, 37570)), cost:10560)]\n",
            "[('li1', (14030, 19550)), ('li1', (17250, 26010)), ('li1', (20010, 26010))]\n",
            "[(xy:('li1', (17250, 26010)), cost:53), (xy:('met1', (17250, 26010)), cost:50), (xy:('met2', (17250, 26010)), cost:47), (xy:('met2', (17250, 25670)), cost:1746), (xy:('met1', (17250, 25670)), cost:383), (xy:('met1', (16790, 25670)), cost:842), (xy:('met2', (16790, 25670)), cost:839), (xy:('met2', (16790, 25330)), cost:1178), (xy:('met2', (16790, 24990)), cost:1517), (xy:('met2', (16790, 24650)), cost:1856), (xy:('met2', (16790, 24310)), cost:2195), (xy:('met2', (16790, 23970)), cost:2534), (xy:('met2', (16790, 23630)), cost:2873), (xy:('met2', (16790, 23290)), cost:3212), (xy:('met1', (16790, 23290)), cost:3209), (xy:('met1', (17250, 23290)), cost:2748), (xy:('li1', (17250, 23290)), cost:13625), (xy:('li1', (17250, 22950)), cost:15324), (xy:('li1', (17250, 22610)), cost:17023), (xy:('met1', (17250, 22610)), cost:17020), (xy:('met1', (16790, 22610)), cost:19319), (xy:('met1', (16330, 22610)), cost:4338), (xy:('met1', (15870, 22610)), cost:4797), (xy:('met1', (15410, 22610)), cost:5256), (xy:('met1', (14950, 22610)), cost:5715), (xy:('met1', (14490, 22610)), cost:6174), (xy:('met2', (14490, 22610)), cost:6171), (xy:('met2', (14490, 22270)), cost:6510), (xy:('met1', (14490, 22270)), cost:6507), (xy:('met1', (14030, 22270)), cost:6966), (xy:('li1', (14030, 22270)), cost:34803), (xy:('li1', (14030, 21930)), cost:36502), (xy:('li1', (14030, 21590)), cost:38201), (xy:('li1', (14030, 21250)), cost:39900), (xy:('li1', (14030, 19550)), cost:9680)]\n",
            "[(xy:('li1', (20010, 26010)), cost:59), (xy:('met1', (20010, 26010)), cost:56), (xy:('met2', (20010, 26010)), cost:53), (xy:('met2', (20010, 25670)), cost:1752), (xy:('met1', (20010, 25670)), cost:389), (xy:('met1', (20470, 25670)), cost:848), (xy:('met2', (20470, 25670)), cost:845), (xy:('met2', (20470, 25330)), cost:1184), (xy:('met2', (20470, 24990)), cost:1523), (xy:('met2', (20470, 24650)), cost:1862), (xy:('met2', (20470, 24310)), cost:2201), (xy:('met2', (20470, 23970)), cost:2540), (xy:('met1', (20470, 23970)), cost:2537), (xy:('met1', (20010, 23970)), cost:2076), (xy:('li1', (20010, 23970)), cost:10233), (xy:('li1', (20010, 23630)), cost:11932), (xy:('li1', (20010, 23290)), cost:13631), (xy:('li1', (20010, 22950)), cost:3090), (xy:('li1', (20010, 22610)), cost:17029), (xy:('met1', (20010, 22610)), cost:3426), (xy:('met1', (19550, 22610)), cost:19325), (xy:('met1', (19090, 22610)), cost:21624), (xy:('met1', (18630, 22610)), cost:23923), (xy:('met1', (18170, 22610)), cost:26222), (xy:('met1', (17710, 22610)), cost:28521), (xy:('met1', (17250, 22610)), cost:30820), (xy:('met1', (16790, 22610)), cost:33119), (xy:('met1', (16330, 22610)), cost:7098), (xy:('met1', (15870, 22610)), cost:7557), (xy:('met1', (15410, 22610)), cost:8016), (xy:('met1', (14950, 22610)), cost:8475), (xy:('met1', (14490, 22610)), cost:8934), (xy:('met2', (14490, 22610)), cost:8931), (xy:('met2', (14490, 22270)), cost:9270), (xy:('met1', (14490, 22270)), cost:9267), (xy:('met1', (14030, 22270)), cost:9726), (xy:('li1', (14030, 22270)), cost:48603), (xy:('li1', (14030, 21930)), cost:50302), (xy:('li1', (14030, 21590)), cost:52001), (xy:('li1', (14030, 21250)), cost:53700), (xy:('li1', (14030, 19550)), cost:12440)]\n",
            "[('met2', (25530, 37570)), ('li1', (23230, 28390))]\n",
            "[(xy:('li1', (23230, 28390)), cost:58), (xy:('met1', (23230, 28390)), cost:55), (xy:('met1', (22770, 28390)), cost:514), (xy:('met2', (22770, 28390)), cost:511), (xy:('met2', (22770, 28730)), cost:850), (xy:('met2', (22770, 29070)), cost:1189), (xy:('met2', (22770, 29410)), cost:1528), (xy:('met2', (22770, 29750)), cost:1867), (xy:('met2', (22770, 30090)), cost:2206), (xy:('met2', (22770, 30430)), cost:2545), (xy:('met1', (22770, 30430)), cost:2542), (xy:('li1', (22770, 30430)), cost:2539), (xy:('li1', (22770, 30770)), cost:2878), (xy:('met1', (22770, 30770)), cost:2875), (xy:('met1', (23230, 30770)), cost:2414), (xy:('met2', (23230, 30770)), cost:2411), (xy:('met2', (23230, 31110)), cost:2750), (xy:('met2', (23230, 31450)), cost:3089), (xy:('met2', (23230, 31790)), cost:3428), (xy:('met2', (23230, 32130)), cost:3767), (xy:('met2', (23230, 32470)), cost:4106), (xy:('met2', (23230, 32810)), cost:4445), (xy:('met2', (23230, 33150)), cost:4784), (xy:('met2', (23230, 33490)), cost:5123), (xy:('met2', (23230, 33830)), cost:5462), (xy:('met1', (23230, 33830)), cost:5459), (xy:('met1', (23690, 33830)), cost:5918), (xy:('met1', (24150, 33830)), cost:6377), (xy:('met1', (24610, 33830)), cost:6836), (xy:('met1', (25070, 33830)), cost:7295), (xy:('met1', (25530, 33830)), cost:7754), (xy:('met2', (25530, 33830)), cost:38711), (xy:('met2', (25530, 34170)), cost:40410), (xy:('met2', (25530, 34510)), cost:42109), (xy:('met2', (25530, 34850)), cost:43808), (xy:('met2', (25530, 35190)), cost:45507), (xy:('met2', (25530, 35530)), cost:47206), (xy:('met2', (25530, 35870)), cost:48905), (xy:('met2', (25530, 36210)), cost:50604), (xy:('met2', (25530, 36550)), cost:52303), (xy:('met2', (25530, 36890)), cost:54002), (xy:('met2', (25530, 37230)), cost:55701), (xy:('met2', (25530, 37570)), cost:11480)]\n",
            "[('li1', (14030, 14110)), ('li1', (19090, 26010))]\n",
            "[(xy:('li1', (19090, 26010)), cost:67), (xy:('met1', (19090, 26010)), cost:64), (xy:('met1', (19550, 26010)), cost:2363), (xy:('met2', (19550, 26010)), cost:2360), (xy:('met2', (19550, 25670)), cost:4059), (xy:('met2', (19550, 25330)), cost:1198), (xy:('met2', (19550, 24990)), cost:1537), (xy:('met2', (19550, 24650)), cost:1876), (xy:('met2', (19550, 24310)), cost:2215), (xy:('met2', (19550, 23970)), cost:2554), (xy:('met1', (19550, 23970)), cost:2551), (xy:('met1', (19090, 23970)), cost:2090), (xy:('met2', (19090, 23970)), cost:10247), (xy:('met2', (19090, 23630)), cost:11946), (xy:('met2', (19090, 23290)), cost:13645), (xy:('met2', (19090, 22950)), cost:15344), (xy:('met2', (19090, 22610)), cost:17043), (xy:('met2', (19090, 22270)), cost:18742), (xy:('met2', (19090, 21930)), cost:20441), (xy:('met2', (19090, 21590)), cost:22140), (xy:('met2', (19090, 21250)), cost:23839), (xy:('met2', (19090, 20910)), cost:25538), (xy:('met2', (19090, 20570)), cost:27237), (xy:('met1', (19090, 20570)), cost:27234), (xy:('met1', (18630, 20570)), cost:29533), (xy:('met1', (18170, 20570)), cost:31832), (xy:('met1', (17710, 20570)), cost:34131), (xy:('met1', (17250, 20570)), cost:7318), (xy:('met1', (16790, 20570)), cost:7777), (xy:('met1', (16330, 20570)), cost:8236), (xy:('met1', (15870, 20570)), cost:8695), (xy:('met1', (15410, 20570)), cost:9154), (xy:('met1', (14950, 20570)), cost:9613), (xy:('met2', (14950, 20570)), cost:9610), (xy:('met2', (14950, 20230)), cost:9949), (xy:('met2', (14950, 19890)), cost:10288), (xy:('met2', (14950, 19550)), cost:10627), (xy:('met2', (14950, 19210)), cost:10966), (xy:('met2', (14950, 18870)), cost:11305), (xy:('met2', (14950, 18530)), cost:11644), (xy:('met2', (14950, 18190)), cost:11983), (xy:('met2', (14950, 17850)), cost:12322), (xy:('met2', (14950, 17510)), cost:12661), (xy:('met2', (14950, 17170)), cost:13000), (xy:('met2', (14950, 16830)), cost:13331), (xy:('met1', (14950, 16830)), cost:13328), (xy:('met1', (14490, 16830)), cost:13787), (xy:('met1', (14030, 16830)), cost:14246), (xy:('li1', (14030, 16830)), cost:71203), (xy:('li1', (14030, 16490)), cost:72902), (xy:('li1', (14030, 16150)), cost:74601), (xy:('li1', (14030, 15810)), cost:76300), (xy:('li1', (14030, 14110)), cost:16960)]\n",
            "[('met3', (230, 9860)), ('li1', (7130, 17510))]\n",
            "[(xy:('li1', (7130, 17510)), cost:inf)]\n",
            "[('li1', (15410, 18190)), ('li1', (19550, 23290))]\n",
            "[(xy:('li1', (19550, 23290)), cost:44), (xy:('met1', (19550, 23290)), cost:41), (xy:('met2', (19550, 23290)), cost:38), (xy:('met2', (19550, 22950)), cost:1737), (xy:('met2', (19550, 22610)), cost:3436), (xy:('met2', (19550, 22270)), cost:5135), (xy:('met2', (19550, 21930)), cost:6834), (xy:('met2', (19550, 21590)), cost:8533), (xy:('met2', (19550, 21250)), cost:10232), (xy:('met2', (19550, 20910)), cost:11931), (xy:('met2', (19550, 20570)), cost:13630), (xy:('met1', (19550, 20570)), cost:13627), (xy:('li1', (19550, 20570)), cost:13624), (xy:('li1', (19550, 20230)), cost:15323), (xy:('li1', (19550, 19890)), cost:3422), (xy:('li1', (19550, 19550)), cost:18721), (xy:('li1', (19550, 19210)), cost:20420), (xy:('li1', (19550, 18870)), cost:22119), (xy:('li1', (19550, 18530)), cost:4785), (xy:('li1', (19550, 18190)), cost:5124), (xy:('li1', (19550, 17850)), cost:5463), (xy:('li1', (19550, 17510)), cost:5802), (xy:('met1', (19550, 17510)), cost:5799), (xy:('met1', (19090, 17510)), cost:6258), (xy:('met1', (18630, 17510)), cost:6717), (xy:('met1', (18170, 17510)), cost:7176), (xy:('met1', (17710, 17510)), cost:7635), (xy:('met1', (17250, 17510)), cost:8094), (xy:('met1', (16790, 17510)), cost:8553), (xy:('met1', (16330, 17510)), cost:9012), (xy:('met1', (15870, 17510)), cost:9473), (xy:('met1', (15410, 17510)), cost:9923), (xy:('li1', (15410, 17510)), cost:9920), (xy:('li1', (15410, 18190)), cost:9240)]\n",
            "[('met3', (230, 30260)), ('li1', (8510, 28390))]\n",
            "[(xy:('li1', (8510, 28390)), cost:inf)]\n",
            "[('li1', (20470, 22950)), ('li1', (17710, 26010)), ('li1', (19550, 24990))]\n",
            "[(xy:('li1', (17710, 26010)), cost:25), (xy:('met1', (17710, 26010)), cost:22), (xy:('met1', (18170, 26010)), cost:481), (xy:('met1', (18630, 26010)), cost:4620), (xy:('met1', (19090, 26010)), cost:6919), (xy:('li1', (19090, 26010)), cost:6916), (xy:('li1', (19090, 26350)), cost:1735), (xy:('li1', (19550, 25330)), cost:2535), (xy:('met1', (19550, 25330)), cost:12612), (xy:('met1', (20010, 25330)), cost:2991), (xy:('met1', (20470, 25330)), cost:3450), (xy:('li1', (20470, 25330)), cost:17207), (xy:('li1', (20470, 24990)), cost:18906), (xy:('li1', (20470, 24650)), cost:20605), (xy:('li1', (20470, 24310)), cost:22304), (xy:('li1', (20470, 23970)), cost:24003), (xy:('li1', (20470, 23630)), cost:25702), (xy:('li1', (20470, 23290)), cost:27401), (xy:('li1', (20470, 22950)), cost:5820)]\n",
            "[(xy:('li1', (19550, 24990)), cost:14), (xy:('met1', (19550, 24990)), cost:11), (xy:('met1', (20010, 24990)), cost:2310), (xy:('met1', (20470, 24990)), cost:4609), (xy:('li1', (20470, 24990)), cost:4606), (xy:('li1', (20470, 24650)), cost:6305), (xy:('li1', (20470, 24310)), cost:8004), (xy:('li1', (20470, 23970)), cost:9703), (xy:('li1', (20470, 23630)), cost:11402), (xy:('li1', (20470, 23290)), cost:13101), (xy:('li1', (20470, 22950)), cost:2960)]\n",
            "[('li1', (8050, 29070)), ('li1', (9890, 25670))]\n",
            "[(xy:('li1', (9890, 25670)), cost:41), (xy:('li1', (9890, 26350)), cost:721), (xy:('met1', (9890, 26350)), cost:718), (xy:('met1', (10350, 26350)), cost:1177), (xy:('met1', (10810, 26350)), cost:1636), (xy:('met2', (10810, 26350)), cost:1633), (xy:('met2', (10810, 26690)), cost:1972), (xy:('met2', (10810, 27030)), cost:2311), (xy:('met2', (10810, 27370)), cost:2650), (xy:('met2', (10810, 27710)), cost:2989), (xy:('met2', (10810, 28050)), cost:3328), (xy:('met2', (10810, 28390)), cost:3667), (xy:('met1', (10810, 28390)), cost:3664), (xy:('met1', (10350, 28390)), cost:3203), (xy:('met2', (10350, 28390)), cost:3200), (xy:('met2', (10350, 28730)), cost:3539), (xy:('met1', (10350, 28730)), cost:3536), (xy:('met1', (9890, 28730)), cost:3075), (xy:('met1', (9430, 28730)), cost:3534), (xy:('met1', (8970, 28730)), cost:3993), (xy:('met2', (8970, 28730)), cost:3990), (xy:('met2', (8970, 29070)), cost:4329), (xy:('met2', (8970, 29410)), cost:4668), (xy:('met1', (8970, 29410)), cost:4665), (xy:('met1', (8510, 29410)), cost:5124), (xy:('met1', (8050, 29410)), cost:5583), (xy:('li1', (8050, 29410)), cost:5580), (xy:('li1', (8050, 29070)), cost:5240)]\n",
            "[('li1', (15870, 29070)), ('li1', (12650, 22610))]\n",
            "[(xy:('li1', (12650, 22610)), cost:77), (xy:('met1', (12650, 22610)), cost:74), (xy:('met1', (12190, 22610)), cost:533), (xy:('met1', (11730, 22610)), cost:992), (xy:('met1', (11270, 22610)), cost:1451), (xy:('met1', (10810, 22610)), cost:1910), (xy:('li1', (10810, 22610)), cost:1907), (xy:('li1', (10810, 22950)), cost:2246), (xy:('li1', (10810, 23290)), cost:2585), (xy:('li1', (10810, 23630)), cost:2924), (xy:('li1', (10810, 23970)), cost:3263), (xy:('met1', (10810, 23970)), cost:3260), (xy:('met1', (11270, 23970)), cost:2799), (xy:('met1', (11730, 23970)), cost:2338), (xy:('met1', (12190, 23970)), cost:1877), (xy:('met1', (12650, 23970)), cost:1416), (xy:('met1', (13110, 23970)), cost:1875), (xy:('met1', (13570, 23970)), cost:2334), (xy:('met1', (14030, 23970)), cost:2793), (xy:('met1', (14490, 23970)), cost:3252), (xy:('met1', (14950, 23970)), cost:3711), (xy:('met1', (15410, 23970)), cost:4170), (xy:('met2', (15410, 23970)), cost:4167), (xy:('met2', (15410, 24310)), cost:4506), (xy:('met2', (15410, 24650)), cost:4845), (xy:('met2', (15410, 24990)), cost:5184), (xy:('met2', (15410, 25330)), cost:5523), (xy:('met1', (15410, 25330)), cost:5520), (xy:('met1', (14950, 25330)), cost:5059), (xy:('met2', (14950, 25330)), cost:5056), (xy:('met2', (14950, 25670)), cost:5395), (xy:('met2', (14950, 26010)), cost:5734), (xy:('met2', (14950, 26350)), cost:6073), (xy:('met2', (14950, 26690)), cost:6412), (xy:('met2', (14950, 27030)), cost:6751), (xy:('met2', (14950, 27370)), cost:7090), (xy:('met2', (14950, 27710)), cost:7429), (xy:('met2', (14950, 28050)), cost:7768), (xy:('met1', (14950, 28050)), cost:7765), (xy:('li1', (14950, 28050)), cost:7762), (xy:('li1', (14950, 28390)), cost:8101), (xy:('met1', (14950, 28390)), cost:8098), (xy:('met1', (14490, 28390)), cost:7637), (xy:('met1', (14030, 28390)), cost:7176), (xy:('li1', (14030, 28390)), cost:7173), (xy:('li1', (14030, 28730)), cost:7512), (xy:('li1', (14030, 29070)), cost:7851), (xy:('li1', (14030, 29410)), cost:8190), (xy:('met1', (14030, 29410)), cost:8187), (xy:('met1', (14490, 29410)), cost:8646), (xy:('met1', (14950, 29410)), cost:9105), (xy:('met1', (15410, 29410)), cost:9564), (xy:('met1', (15870, 29410)), cost:10023), (xy:('li1', (15870, 29410)), cost:10020), (xy:('li1', (15870, 29070)), cost:9680)]\n",
            "[('li1', (22310, 29070)), ('li1', (19550, 20230))]\n",
            "[(xy:('li1', (19550, 20230)), cost:65), (xy:('li1', (19550, 19890)), cost:1764), (xy:('li1', (19550, 19550)), cost:3463), (xy:('met1', (19550, 19550)), cost:746), (xy:('met1', (20010, 19550)), cost:1205), (xy:('met1', (20470, 19550)), cost:1664), (xy:('met1', (20930, 19550)), cost:2123), (xy:('met1', (21390, 19550)), cost:2582), (xy:('met1', (21850, 19550)), cost:3035), (xy:('met2', (21850, 19550)), cost:3032), (xy:('met2', (21850, 19890)), cost:2691), (xy:('met2', (21850, 20230)), cost:2350), (xy:('met2', (21850, 20570)), cost:2689), (xy:('met2', (21850, 20910)), cost:3028), (xy:('met2', (21850, 21250)), cost:3367), (xy:('met2', (21850, 21590)), cost:3706), (xy:('met2', (21850, 21930)), cost:4045), (xy:('met2', (21850, 22270)), cost:4384), (xy:('met2', (21850, 22610)), cost:4723), (xy:('met2', (21850, 22950)), cost:5062), (xy:('met2', (21850, 23290)), cost:5401), (xy:('met2', (21850, 23630)), cost:5740), (xy:('met2', (21850, 23970)), cost:6079), (xy:('met2', (21850, 24310)), cost:6418), (xy:('met2', (21850, 24650)), cost:6757), (xy:('met2', (21850, 24990)), cost:7096), (xy:('met2', (21850, 25330)), cost:7435), (xy:('met2', (21850, 25670)), cost:7774), (xy:('met2', (21850, 26010)), cost:8113), (xy:('met2', (21850, 26350)), cost:8452), (xy:('met2', (21850, 26690)), cost:8791), (xy:('met2', (21850, 27030)), cost:9130), (xy:('met2', (21850, 27370)), cost:9469), (xy:('met2', (21850, 27710)), cost:9808), (xy:('met2', (21850, 28050)), cost:10147), (xy:('met1', (21850, 28050)), cost:10144), (xy:('li1', (21850, 28050)), cost:10141), (xy:('li1', (21850, 28390)), cost:10480), (xy:('met1', (21850, 28390)), cost:10477), (xy:('met1', (21390, 28390)), cost:10016), (xy:('met1', (20930, 28390)), cost:9555), (xy:('met2', (20930, 28390)), cost:9552), (xy:('met2', (20930, 28730)), cost:9891), (xy:('met2', (20930, 29070)), cost:10230), (xy:('met2', (20930, 29410)), cost:10569), (xy:('met1', (20930, 29410)), cost:10566), (xy:('met1', (21390, 29410)), cost:11025), (xy:('met1', (21850, 29410)), cost:11484), (xy:('met1', (22310, 29410)), cost:11943), (xy:('li1', (22310, 29410)), cost:11940), (xy:('li1', (22310, 29070)), cost:11600)]\n",
            "[('li1', (8050, 18190)), ('li1', (8510, 14790))]\n",
            "[(xy:('li1', (8510, 14790)), cost:11), (xy:('li1', (8510, 15470)), cost:3411), (xy:('met1', (8510, 15470)), cost:688), (xy:('met1', (8050, 15470)), cost:1147), (xy:('li1', (8050, 15470)), cost:5704), (xy:('li1', (8050, 15810)), cost:7403), (xy:('li1', (8050, 16150)), cost:9102), (xy:('li1', (8050, 16490)), cost:10801), (xy:('li1', (8050, 16830)), cost:12500), (xy:('li1', (8050, 18190)), cost:3860)]\n",
            "[('li1', (9430, 29070)), ('li1', (9890, 17170))]\n",
            "[(xy:('li1', (9890, 17170)), cost:50), (xy:('met1', (9890, 17170)), cost:47), (xy:('met1', (10350, 17170)), cost:506), (xy:('met1', (10810, 17170)), cost:965), (xy:('met1', (11270, 17170)), cost:1424), (xy:('met2', (11270, 17170)), cost:1421), (xy:('met2', (11270, 17510)), cost:1760), (xy:('met2', (11270, 17850)), cost:2099), (xy:('met2', (11270, 18190)), cost:2438), (xy:('met2', (11270, 18530)), cost:2777), (xy:('met2', (11270, 18870)), cost:3116), (xy:('met2', (11270, 19210)), cost:3455), (xy:('met2', (11270, 19550)), cost:3794), (xy:('met2', (11270, 19890)), cost:4133), (xy:('met2', (11270, 20230)), cost:4472), (xy:('met2', (11270, 20570)), cost:4811), (xy:('met2', (11270, 20910)), cost:5150), (xy:('met2', (11270, 21250)), cost:5489), (xy:('met2', (11270, 21590)), cost:5828), (xy:('met2', (11270, 21930)), cost:6167), (xy:('met2', (11270, 22270)), cost:6506), (xy:('met2', (11270, 22610)), cost:6845), (xy:('met2', (11270, 22950)), cost:7184), (xy:('met2', (11270, 23290)), cost:7523), (xy:('met2', (11270, 23630)), cost:7862), (xy:('met2', (11270, 23970)), cost:8201), (xy:('met2', (11270, 24310)), cost:8540), (xy:('met2', (11270, 24650)), cost:8879), (xy:('met2', (11270, 24990)), cost:9218), (xy:('met2', (11270, 25330)), cost:9557), (xy:('met2', (11270, 25670)), cost:9896), (xy:('met2', (11270, 26010)), cost:10235), (xy:('met2', (11270, 26350)), cost:10574), (xy:('met2', (11270, 26690)), cost:10913), (xy:('met2', (11270, 27030)), cost:11252), (xy:('met2', (11270, 27370)), cost:11591), (xy:('met2', (11270, 27710)), cost:11930), (xy:('met1', (11270, 27710)), cost:11927), (xy:('met1', (10810, 27710)), cost:11466), (xy:('met1', (10350, 27710)), cost:11005), (xy:('met1', (9890, 27710)), cost:52704), (xy:('met1', (9430, 27710)), cost:55003), (xy:('li1', (9430, 27710)), cost:11000), (xy:('li1', (9430, 29070)), cost:12360)]\n",
            "[('li1', (8970, 12070)), ('li1', (10350, 12750))]\n",
            "[(xy:('li1', (10350, 12750)), cost:18), (xy:('li1', (10350, 13090)), cost:358), (xy:('met1', (10350, 13090)), cost:355), (xy:('met1', (9890, 13090)), cost:814), (xy:('met1', (9430, 13090)), cost:1273), (xy:('li1', (9430, 13090)), cost:1270), (xy:('li1', (9430, 12750)), cost:929), (xy:('met1', (9430, 12750)), cost:926), (xy:('met1', (8970, 12750)), cost:1385), (xy:('li1', (8970, 12750)), cost:6902), (xy:('li1', (8970, 12410)), cost:8601), (xy:('li1', (8970, 12070)), cost:2060)]\n",
            "[('li1', (22310, 12070)), ('li1', (21390, 14110))]\n",
            "[(xy:('li1', (21390, 14110)), cost:26), (xy:('met1', (21390, 14110)), cost:23), (xy:('met1', (21850, 14110)), cost:482), (xy:('met2', (21850, 14110)), cost:479), (xy:('met2', (21850, 13770)), cost:818), (xy:('met1', (21850, 13770)), cost:815), (xy:('li1', (21850, 13770)), cost:812), (xy:('li1', (21850, 13430)), cost:1151), (xy:('li1', (21850, 13090)), cost:1490), (xy:('li1', (21850, 12750)), cost:1829), (xy:('met1', (21850, 12750)), cost:1826), (xy:('met1', (22310, 12750)), cost:2285), (xy:('li1', (22310, 12750)), cost:11402), (xy:('li1', (22310, 12410)), cost:13101), (xy:('li1', (22310, 12070)), cost:2960)]\n"
          ]
        }
      ]
    },
    {
      "cell_type": "code",
      "source": [
        "!pip install rtree"
      ],
      "metadata": {
        "colab": {
          "base_uri": "https://localhost:8080/"
        },
        "id": "PjRBjSEDhK6Z",
        "outputId": "9f821edd-ee0d-44a6-8338-736144e8f509"
      },
      "execution_count": 133,
      "outputs": [
        {
          "output_type": "stream",
          "name": "stdout",
          "text": [
            "Collecting rtree\n",
            "  Downloading rtree-1.4.0-py3-none-manylinux2014_x86_64.manylinux_2_17_x86_64.whl.metadata (2.1 kB)\n",
            "Downloading rtree-1.4.0-py3-none-manylinux2014_x86_64.manylinux_2_17_x86_64.whl (541 kB)\n",
            "\u001b[2K   \u001b[90m━━━━━━━━━━━━━━━━━━━━━━━━━━━━━━━━━━━━━━━━\u001b[0m \u001b[32m541.1/541.1 kB\u001b[0m \u001b[31m7.1 MB/s\u001b[0m eta \u001b[36m0:00:00\u001b[0m\n",
            "\u001b[?25hInstalling collected packages: rtree\n",
            "Successfully installed rtree-1.4.0\n"
          ]
        }
      ]
    },
    {
      "cell_type": "code",
      "source": [
        "d.writeDEF('c17_out.def')\n"
      ],
      "metadata": {
        "id": "fBGGBUbSg6Ge"
      },
      "execution_count": 132,
      "outputs": []
    },
    {
      "cell_type": "code",
      "source": [
        "url = \"https://raw.githubusercontent.com/srini229/EE5333_tutorials/refs/heads/master/project/def/c17.def\"\n",
        "df = requests.get(url)"
      ],
      "metadata": {
        "id": "kO0LljsEjJZd"
      },
      "execution_count": 143,
      "outputs": []
    },
    {
      "cell_type": "code",
      "source": [
        "url = \"https://raw.githubusercontent.com/srini229/EE5333_tutorials/refs/heads/master/project/lef/sky130.lef\"\n",
        "lf = requests.get(url)"
      ],
      "metadata": {
        "id": "Q7Izhzx1jU33"
      },
      "execution_count": 144,
      "outputs": []
    },
    {
      "cell_type": "code",
      "source": [
        "!wget https://raw.githubusercontent.com/srini229/EE5333_tutorials/refs/heads/master/project/sol/checker.py"
      ],
      "metadata": {
        "colab": {
          "base_uri": "https://localhost:8080/"
        },
        "id": "2U4xa48qh-L6",
        "outputId": "9a620eee-a18e-462f-83e9-0364a90b0c7a"
      },
      "execution_count": 135,
      "outputs": [
        {
          "output_type": "stream",
          "name": "stdout",
          "text": [
            "--2025-05-19 12:32:51--  https://raw.githubusercontent.com/srini229/EE5333_tutorials/refs/heads/master/project/sol/checker.py\n",
            "Resolving raw.githubusercontent.com (raw.githubusercontent.com)... 185.199.108.133, 185.199.109.133, 185.199.110.133, ...\n",
            "Connecting to raw.githubusercontent.com (raw.githubusercontent.com)|185.199.108.133|:443... connected.\n",
            "HTTP request sent, awaiting response... 200 OK\n",
            "Length: 16180 (16K) [text/plain]\n",
            "Saving to: ‘checker.py’\n",
            "\n",
            "\rchecker.py            0%[                    ]       0  --.-KB/s               \rchecker.py          100%[===================>]  15.80K  --.-KB/s    in 0.001s  \n",
            "\n",
            "2025-05-19 12:32:51 (12.9 MB/s) - ‘checker.py’ saved [16180/16180]\n",
            "\n"
          ]
        }
      ]
    },
    {
      "cell_type": "code",
      "source": [
        "!python3 checker.py -i df -o c17_out.def -l lf"
      ],
      "metadata": {
        "colab": {
          "base_uri": "https://localhost:8080/"
        },
        "id": "Gpczew2ZhQwI",
        "outputId": "6846b931-3a82-4f7d-bcb0-fb7cd44e5a2e"
      },
      "execution_count": 146,
      "outputs": [
        {
          "output_type": "stream",
          "name": "stdout",
          "text": [
            "error: Cannot open LEF file lf\n",
            "error: Cannot open DEF file df\n",
            "Total number of spacing violations : 0\n",
            "Total number of nets : 0\n",
            "Total number of open nets : 0\n"
          ]
        }
      ]
    },
    {
      "source": [
        "def net_to_graph(net,global_solution,obstructions):\n",
        "  layerOrient = { 'li1': 'VERTICAL', 'met1': 'HORIZONTAL', 'met2': 'VERTICAL', 'met3': 'HORIZONTAL', 'met4': 'VERTICAL', 'met5': 'HORIZONTAL' }\n",
        "  adjLayer = {\n",
        "  'li1':  ['met1'],\n",
        "  'met1': ['li1',  'met2'],\n",
        "  'met2': ['met1', 'met3'],\n",
        "  'met3': ['met2', 'met4'],\n",
        "  'met4': ['met3', 'met5'],\n",
        "  'met5': ['met4']\n",
        "  }\n",
        "  graph=[]\n",
        "  edges=[]\n",
        "  weights={}\n",
        "  for i in global_solution:\n",
        "    layer,x1,y1,x2,y2=i[0],i[1][0],i[1][1],i[1][2],i[1][3]\n",
        "\n",
        "    if layerOrient[layer]=='VERTICAL':\n",
        "      n=tracks_[layer][2]\n",
        "      # Align coordinates to the track grid\n",
        "      start_x = tracks_[layer][0] + math.ceil((x1 - tracks_[layer][0]) / n) * n\n",
        "      end_x = tracks_[layer][0] + math.floor((x2 - tracks_[layer][0]) / n) * n\n",
        "      lx=[i for i in range(start_x, end_x + 1, n)]\n",
        "\n",
        "      for j in adjLayer[layer]:\n",
        "        n_adj=tracks_[j][2]\n",
        "        # Align coordinates to the adjacent layer's track grid\n",
        "        start_y = tracks_[j][0] + math.ceil((y1 - tracks_[j][0]) / n_adj) * n_adj\n",
        "        end_y = tracks_[j][0] + math.floor((y2 - tracks_[j][0]) / n_adj) * n_adj\n",
        "\n",
        "        ly=[i for i in range(start_y, end_y + 1, n_adj)]\n",
        "        for p in range(len(lx)):\n",
        "          flag=0\n",
        "          for q in range(len(ly)):\n",
        "            graph.append((layer,(lx[p],ly[q])))\n",
        "            if flag==1:\n",
        "              edges.append(((layer,(lx[p],ly[q-1])),(layer,(lx[p],ly[q]))))\n",
        "            flag=1\n",
        "\n",
        "    else:\n",
        "      n=tracks_[layer][2]\n",
        "      # Align coordinates to the track grid\n",
        "      start_y = tracks_[layer][0] + math.ceil((y1 - tracks_[layer][0]) / n) * n\n",
        "      end_y = tracks_[layer][0] + math.floor((y2 - tracks_[layer][0]) / n) * n\n",
        "      ly=[i for i in range(start_y, end_y + 1, n)]\n",
        "\n",
        "      for j in adjLayer[layer]:\n",
        "        n_adj=tracks_[j][2]\n",
        "         # Align coordinates to the adjacent layer's track grid\n",
        "        start_x = tracks_[j][0] + math.ceil((x1 - tracks_[j][0]) / n_adj) * n_adj\n",
        "        end_x = tracks_[j][0] + math.floor((x2 - tracks_[j][0]) / n_adj) * n_adj\n",
        "        lx=[i for i in range(start_x, end_x + 1, n_adj)]\n",
        "        for p in range(len(ly)):\n",
        "          flag=0\n",
        "          for q in range(len(lx)):\n",
        "            graph.append((layer,(lx[q],ly[p])))\n",
        "            if flag==1:\n",
        "              edges.append(((layer,(lx[q-1],ly[p])),(layer,(lx[q],ly[p]))))\n",
        "            flag=1\n",
        "\n",
        "  graph_new=[]\n",
        "  for i in graph:\n",
        "    if i not in graph_new:\n",
        "      graph_new.append(i)\n",
        "  graph=graph_new\n",
        "\n",
        "  for i in edges:\n",
        "\n",
        "    weights[i]=1\n",
        "\n",
        "  for i in range(len(global_solution)):\n",
        "    for j in range(i+1,len(global_solution)):\n",
        "      intersection=inter_section(global_solution[i],global_solution[j],adjLayer)\n",
        "      if intersection!=None:\n",
        "        layer1=intersection[0]\n",
        "        layer2=intersection[1]\n",
        "        x1=intersection[2][0]\n",
        "        y1=intersection[2][1]\n",
        "        x2=intersection[2][2]\n",
        "        y2=intersection[2][3]\n",
        "        for k in graph:\n",
        "          if k[0] not in (layer1,layer2):\n",
        "            continue\n",
        "          if k[0]==layer1:\n",
        "            layer=layer1\n",
        "            #layeradj=layer2 # This variable is not used\n",
        "          else:\n",
        "            layer=layer2\n",
        "            #layeradj=layer1 # This variable is not used\n",
        "          x=k[1][0]\n",
        "          y=k[1][1]\n",
        "          if x1<=x<=x2 and y1<=y<=y2:\n",
        "            edges.append(((layer1,(x,y)),(layer2,(x,y))))\n",
        "            weights[((layer1,(x,y)),(layer2,(x,y)))]=3\n",
        "\n",
        "  # Add nodes from edges to graph if they are not already present\n",
        "  for u, v in edges:\n",
        "      if u not in graph:\n",
        "          graph.append(u)\n",
        "      if v not in graph:\n",
        "          graph.append(v)\n",
        "\n",
        "  obs=[]\n",
        "  for i in obstructions.keys():\n",
        "    layer=i\n",
        "    for j in obstructions[i]:\n",
        "      x1=j.ll.x\n",
        "      y1=j.ll.y\n",
        "      x2=j.ur.x\n",
        "      y2=j.ur.y\n",
        "      for node in graph:\n",
        "        if node[0]!=layer:\n",
        "            continue\n",
        "        x,y=node[1][0],node[1][1]\n",
        "        if x1<=x<=x2 and y1<=y<=y2:\n",
        "          obs.append(node)\n",
        "\n",
        "  s_t=[]\n",
        "  for i in net:\n",
        "    p=[]\n",
        "    for j in i.keys():\n",
        "      layer=j\n",
        "      for k in i[j]:\n",
        "        x1=k.ll.x\n",
        "        y1=k.ll.y\n",
        "        x2=k.ur.x\n",
        "        y2=k.ur.y\n",
        "        for node in graph:\n",
        "          if node[0]!=layer:\n",
        "            continue\n",
        "          x,y=node[1][0],node[1][1]\n",
        "          if x1<=x<=x2 and y1<=y<=y2:\n",
        "            if node in obs:\n",
        "              obs.remove(node)\n",
        "\n",
        "            p.append(node)\n",
        "\n",
        "      for h in range(len(p)):\n",
        "        for k in range(h+1,len(p)):\n",
        "\n",
        "          edges.append((p[h],p[k]))\n",
        "          weights[(p[h],p[k])]=0\n",
        "    if len(p) > 0: # Ensure that p is not empty before accessing index 0\n",
        "      s_t.append(p[0])\n",
        "\n",
        "\n",
        "\n",
        "\n",
        "  #print(graph)\n",
        "  #print(edges)\n",
        "  #print(weights)\n",
        "  edges=weights.keys() # Re-get keys after adding weights\n",
        "  adj = {v: [] for v in graph}\n",
        "  for (u, v) in edges:\n",
        "    adj[u].append(v)\n",
        "    adj[v].append(u)\n",
        "\n",
        "  return graph,weights,obs,s_t,adj"
      ],
      "cell_type": "code",
      "metadata": {
        "id": "PW_koAXOumOI"
      },
      "execution_count": 106,
      "outputs": []
    }
  ]
}